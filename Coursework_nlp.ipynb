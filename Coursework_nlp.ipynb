{
  "cells": [
    {
      "cell_type": "markdown",
      "id": "5d23d61a-fbc6-41e5-9235-7e1090a45d49",
      "metadata": {
        "id": "5d23d61a-fbc6-41e5-9235-7e1090a45d49"
      },
      "source": [
        "<h3><center>Федеральное государственное бюджетное образовательное учреждение\n",
        "<center>высшего образования\n",
        "<center>\"Финансовый университет при Правительстве \n",
        "<center>Российской Федерации\"\n",
        "<center>Департамент анализа данных и машинного обучения"
      ]
    },
    {
      "cell_type": "markdown",
      "id": "60d4d9b9-e0e4-452c-a61c-1dbcf97fc1d7",
      "metadata": {
        "id": "60d4d9b9-e0e4-452c-a61c-1dbcf97fc1d7"
      },
      "source": [
        "<h3><center>Курсовая работа\n",
        "<center>по дисциплине \"Машинное обучение\" \n",
        "<center>на тему: \n",
        "<center>\"Использование методов машинного обучения для решения задачи выделения атрибутов товаров из текста\"<center>"
      ]
    },
    {
      "cell_type": "markdown",
      "id": "130c1313-4fa4-48cf-ad90-038a69284ab7",
      "metadata": {
        "tags": [],
        "toc-hr-collapsed": true,
        "id": "130c1313-4fa4-48cf-ad90-038a69284ab7"
      },
      "source": [
        "## ***<center> Введение***"
      ]
    },
    {
      "cell_type": "markdown",
      "id": "145e8e1a-4210-4273-83f5-84ae5594a2c3",
      "metadata": {
        "id": "145e8e1a-4210-4273-83f5-84ae5594a2c3"
      },
      "source": [
        "####  _В современном мире с ростом электронной коммерции объемы информации о товарах, представленных в интернет-магазинах, постоянно увеличиваются. Для упрощения и ускорения поиска необходимой информации покупателями и снижения нагрузки на персонал магазинов, возникает задача автоматического выделения атрибутов товаров из описаний их характеристик, содержащихся в текстовых полях. Решение этой задачи с помощью методов машинного обучения может значительно упростить процесс поиска и сравнения товаров, а также повысить качество рекомендаций, которые система может предложить покупателю. В данной курсовой работе будет рассмотрено применение методов машинного обучения для решения задачи выделения атрибутов товаров из текстовых данных, различные подходы к решению задачи, оценены их достоинства и недостатки, а также проведено сравнение полученных результатов._"
      ]
    },
    {
      "cell_type": "markdown",
      "id": "63f33e7a-e245-45df-8f29-43f6a41d9b17",
      "metadata": {
        "id": "63f33e7a-e245-45df-8f29-43f6a41d9b17"
      },
      "source": [
        "### ***<center> Цель работы***"
      ]
    },
    {
      "cell_type": "markdown",
      "id": "1dbc18db-b653-428c-aa2b-16c8b5786f8e",
      "metadata": {
        "id": "1dbc18db-b653-428c-aa2b-16c8b5786f8e"
      },
      "source": [
        "#### _Целью данной работы является исследование и применение методов машинного обучения для решения задачи выделения атрибутов товаров из текстовых данных, а также разработка и оценка моделей, способных автоматически извлекать необходимые сущности._"
      ]
    },
    {
      "cell_type": "markdown",
      "id": "ea10e74b-2bf3-4ebb-bdc1-8d9136a9a6e1",
      "metadata": {
        "id": "ea10e74b-2bf3-4ebb-bdc1-8d9136a9a6e1"
      },
      "source": [
        "### ***<center> Задачи***"
      ]
    },
    {
      "cell_type": "markdown",
      "id": "3c93b003-c26b-486b-8bc7-1d24110686f1",
      "metadata": {
        "id": "3c93b003-c26b-486b-8bc7-1d24110686f1"
      },
      "source": [
        "Задачи, которые будут решаться в рамках данной работы, включают в себя: \n",
        "+ Сбор и обработка данных \n",
        "+ Основы Natural Language Processing'а:\n",
        "    + Нормализация (приведение слов к нижнему регистру, удаление всей пунктуации)\n",
        "    + Лемматизация (удаление стоп, приведение слов к нормальной форме)\n",
        "    + bow (bag-of-words) (векторизация)\n",
        "    + токенизация по словам\n",
        "+ Ручная разметка и сбор сэмпла\n",
        "+ Обработка разметочной выборки\n",
        "+ Обучение и подбор различных моделей машинного обучения\n",
        "+ Тюн параметров этих моделей с помощью перебора (GridSearchCV)\n",
        "+ Алгоритм ребалансировки классов \n",
        "+ Вывод результатов всех моделей"
      ]
    },
    {
      "cell_type": "markdown",
      "id": "91a8308c-7e7a-4a21-9077-b0b90af406c5",
      "metadata": {
        "id": "91a8308c-7e7a-4a21-9077-b0b90af406c5"
      },
      "source": [
        "### ***<center> Содержание***"
      ]
    },
    {
      "cell_type": "markdown",
      "id": "d3a5ace7-f6a1-4e4f-8803-f0a228184120",
      "metadata": {
        "id": "d3a5ace7-f6a1-4e4f-8803-f0a228184120"
      },
      "source": [
        "* [1. Importing](#1) \n",
        "\n",
        "* [2. Data Preprocessing](#2)\n",
        "\n",
        "\n",
        "* [3. Normalization/Lemmatization](#3)\n",
        "\n",
        "    \n",
        "* [4. Markup](#4)\n",
        "\n",
        "* [5. Creating a sample](#5)\n",
        "\n",
        "\n",
        "* [6. Markup Preprocessing](#6)\n",
        "\n",
        "\n",
        "* [7. Vectorization](#7)\n",
        "\n",
        "\n",
        "* [8. Model Training](#8)\n",
        "\n",
        "* [9. Grid Search](#9)\n",
        "    * [9.1. Logistic Regression](#9.1)\n",
        "    * [9.2. Random Forest](#9.2)\n",
        "    * [9.3. Support Vector Machine](#9.3)\n",
        "    \n",
        "* [10. Oversampling](#10)\n",
        "    * [10.1. Logistic Regression](#10.1)\n",
        "    * [10.2. Finish Result](#10.2)\n",
        "\n",
        "* [11.Demonstration of results](#11)\n",
        "\n",
        "* [12.The simplest neural network](#12)\n",
        "\n",
        "* [13.Conclusion](#13)"
      ]
    },
    {
      "cell_type": "markdown",
      "id": "727835e9-e120-4cbb-b613-e43d8ea95590",
      "metadata": {
        "id": "727835e9-e120-4cbb-b613-e43d8ea95590"
      },
      "source": [
        "<a id=\"1\"></a>\n",
        "# <b>1 <span style='color:#43a842'>|</span> Importing</b>\n",
        "* [Оглавление](#0)"
      ]
    },
    {
      "cell_type": "markdown",
      "id": "ce2e2d04-e3b6-48da-aded-2008866cd013",
      "metadata": {
        "id": "ce2e2d04-e3b6-48da-aded-2008866cd013"
      },
      "source": [
        "Импорт библиотек для работы с данными и построения моделей машинного обучения."
      ]
    },
    {
      "cell_type": "code",
      "execution_count": 9,
      "id": "27325d36-07b8-4c29-82b9-7276457422eb",
      "metadata": {
        "ExecuteTime": {
          "end_time": "2023-05-24T22:31:50.081189Z",
          "start_time": "2023-05-24T22:31:47.069521Z"
        },
        "id": "27325d36-07b8-4c29-82b9-7276457422eb"
      },
      "outputs": [],
      "source": [
        "import pandas as pd\n",
        "import numpy as np\n",
        "import matplotlib.pyplot as plt\n",
        "import json\n",
        "import re\n",
        "\n",
        "import pymorphy2\n",
        "import nltk\n",
        "from nltk.corpus import stopwords\n",
        "\n",
        "from sklearn.tree import DecisionTreeClassifier\n",
        "from yellowbrick.model_selection import LearningCurve\n",
        "from sklearn.model_selection import train_test_split, cross_val_score, GridSearchCV \n",
        "from sklearn.metrics import accuracy_score, f1_score, classification_report\n",
        "from sklearn.linear_model import LogisticRegression\n",
        "from sklearn.neighbors import KNeighborsClassifier\n",
        "from sklearn.ensemble import RandomForestClassifier, GradientBoostingClassifier, VotingClassifier\n",
        "from sklearn.pipeline import Pipeline, FeatureUnion\n",
        "from sklearn.model_selection import RandomizedSearchCV\n",
        "from sklearn.svm import SVC\n",
        "from sklearn.neural_network import MLPClassifier\n",
        "from sklearn.naive_bayes import GaussianNB, CategoricalNB\n",
        "from sklearn.feature_extraction.text import CountVectorizer\n",
        "from sklearn.preprocessing import FunctionTransformer\n",
        "from imblearn.over_sampling import SMOTE\n",
        "\n",
        "import warnings\n",
        "warnings.filterwarnings(\"ignore\")"
      ]
    },
    {
      "cell_type": "code",
      "execution_count": 10,
      "id": "bb39fe3d",
      "metadata": {
        "jupyter": {
          "outputs_hidden": false
        },
        "id": "bb39fe3d"
      },
      "outputs": [],
      "source": [
        "from tensorflow.keras.preprocessing.sequence import pad_sequences\n",
        "from tensorflow.keras.utils import to_categorical\n",
        "import tensorflow\n",
        "from tensorflow.keras import Model, Input\n",
        "from tensorflow.keras.layers import LSTM, Embedding, Dense\n",
        "from tensorflow.keras.layers import TimeDistributed, SpatialDropout1D, Bidirectional\n",
        "\n",
        "from tensorflow.keras.callbacks import EarlyStopping\n",
        "from livelossplot import PlotLossesKeras"
      ]
    },
    {
      "cell_type": "markdown",
      "id": "56fb4151-c73a-4a32-a884-99e1de370583",
      "metadata": {
        "id": "56fb4151-c73a-4a32-a884-99e1de370583"
      },
      "source": [
        "<a id=\"2\"></a>\n",
        "## <b>2 <span style='color:#43a842'>|</span> Data Preprocessing</b>\n",
        "* [Оглавление](#0)"
      ]
    },
    {
      "cell_type": "markdown",
      "id": "57d8ca00-249c-4284-82ac-a20b24124972",
      "metadata": {
        "id": "57d8ca00-249c-4284-82ac-a20b24124972"
      },
      "source": [
        "Загрузка исходного датасета и приведение его в читаемый вид, посредству удаления лишних столбцов и удаления строк с пропущенными значениями."
      ]
    },
    {
      "cell_type": "code",
      "execution_count": null,
      "id": "04138ac0-7cd1-4763-b38d-f4265381e7cf",
      "metadata": {
        "ExecuteTime": {
          "end_time": "2023-05-24T22:50:08.287368Z",
          "start_time": "2023-05-24T22:50:04.531017Z"
        },
        "tags": [],
        "colab": {
          "base_uri": "https://localhost:8080/",
          "height": 350
        },
        "id": "04138ac0-7cd1-4763-b38d-f4265381e7cf",
        "outputId": "05e609d3-d103-4563-e6ed-8d251908700e"
      },
      "outputs": [
        {
          "output_type": "execute_result",
          "data": {
            "text/plain": [
              "         ID                                              Title  \\\n",
              "0   9513200  Доска пола; Имитация бруса; Блок-хаус; Декинг;...   \n",
              "1  26390427  Вагонка, блок хаус, доска пола, строганная дос...   \n",
              "\n",
              "             Price   Presence      Goods_rating  \\\n",
              "0      33 800 руб.  В наличии  Популярный товар   \n",
              "1  Цена по запросу  В наличии  Популярный товар   \n",
              "\n",
              "                                                Info  \\\n",
              "0  [Толщина (мм): 20/45, ширина (мм): 90/135/140,...   \n",
              "1  [Продаем погонажные изделия хвойных пород, шир...   \n",
              "\n",
              "                                   Nesting_type_tags  \\\n",
              "0  [Товары и услуги, Строительные материалы, Пого...   \n",
              "1  [Товары и услуги, Строительные материалы, Пого...   \n",
              "\n",
              "                                            Provider  \\\n",
              "0  Сибирский лес, торгово-строительная компания (...   \n",
              "1                                       ООО Лестех43   \n",
              "\n",
              "                              Provider_address   Last_provider_activity  \\\n",
              "0  Барнаул, г.Новоалтайск, ул.Промплощадка,13а  Был на сайте 31.10.2022   \n",
              "1                                        Киров  Был на сайте 18.10.2022   \n",
              "\n",
              "                     Link_to_provider  \\\n",
              "0  https://supl.biz/profiles/1223111/   \n",
              "1  https://supl.biz/profiles/1983162/   \n",
              "\n",
              "                                        Link_to_good  \\\n",
              "0  https://supl.biz/doska-pola-imitatsiya-brusa-b...   \n",
              "1  https://supl.biz/vagonka-blok-haus-doska-pola-...   \n",
              "\n",
              "                                      Attached_files  \n",
              "0                                                NaN  \n",
              "1  https://suplbiz-a.akamaihd.net/media/proposals...  "
            ],
            "text/html": [
              "\n",
              "  <div id=\"df-3dcc30b8-1e70-4732-ace2-f0b970bebf5e\">\n",
              "    <div class=\"colab-df-container\">\n",
              "      <div>\n",
              "<style scoped>\n",
              "    .dataframe tbody tr th:only-of-type {\n",
              "        vertical-align: middle;\n",
              "    }\n",
              "\n",
              "    .dataframe tbody tr th {\n",
              "        vertical-align: top;\n",
              "    }\n",
              "\n",
              "    .dataframe thead th {\n",
              "        text-align: right;\n",
              "    }\n",
              "</style>\n",
              "<table border=\"1\" class=\"dataframe\">\n",
              "  <thead>\n",
              "    <tr style=\"text-align: right;\">\n",
              "      <th></th>\n",
              "      <th>ID</th>\n",
              "      <th>Title</th>\n",
              "      <th>Price</th>\n",
              "      <th>Presence</th>\n",
              "      <th>Goods_rating</th>\n",
              "      <th>Info</th>\n",
              "      <th>Nesting_type_tags</th>\n",
              "      <th>Provider</th>\n",
              "      <th>Provider_address</th>\n",
              "      <th>Last_provider_activity</th>\n",
              "      <th>Link_to_provider</th>\n",
              "      <th>Link_to_good</th>\n",
              "      <th>Attached_files</th>\n",
              "    </tr>\n",
              "  </thead>\n",
              "  <tbody>\n",
              "    <tr>\n",
              "      <th>0</th>\n",
              "      <td>9513200</td>\n",
              "      <td>Доска пола; Имитация бруса; Блок-хаус; Декинг;...</td>\n",
              "      <td>33 800 руб.</td>\n",
              "      <td>В наличии</td>\n",
              "      <td>Популярный товар</td>\n",
              "      <td>[Толщина (мм): 20/45, ширина (мм): 90/135/140,...</td>\n",
              "      <td>[Товары и услуги, Строительные материалы, Пого...</td>\n",
              "      <td>Сибирский лес, торгово-строительная компания (...</td>\n",
              "      <td>Барнаул, г.Новоалтайск, ул.Промплощадка,13а</td>\n",
              "      <td>Был на сайте 31.10.2022</td>\n",
              "      <td>https://supl.biz/profiles/1223111/</td>\n",
              "      <td>https://supl.biz/doska-pola-imitatsiya-brusa-b...</td>\n",
              "      <td>NaN</td>\n",
              "    </tr>\n",
              "    <tr>\n",
              "      <th>1</th>\n",
              "      <td>26390427</td>\n",
              "      <td>Вагонка, блок хаус, доска пола, строганная дос...</td>\n",
              "      <td>Цена по запросу</td>\n",
              "      <td>В наличии</td>\n",
              "      <td>Популярный товар</td>\n",
              "      <td>[Продаем погонажные изделия хвойных пород, шир...</td>\n",
              "      <td>[Товары и услуги, Строительные материалы, Пого...</td>\n",
              "      <td>ООО Лестех43</td>\n",
              "      <td>Киров</td>\n",
              "      <td>Был на сайте 18.10.2022</td>\n",
              "      <td>https://supl.biz/profiles/1983162/</td>\n",
              "      <td>https://supl.biz/vagonka-blok-haus-doska-pola-...</td>\n",
              "      <td>https://suplbiz-a.akamaihd.net/media/proposals...</td>\n",
              "    </tr>\n",
              "  </tbody>\n",
              "</table>\n",
              "</div>\n",
              "      <button class=\"colab-df-convert\" onclick=\"convertToInteractive('df-3dcc30b8-1e70-4732-ace2-f0b970bebf5e')\"\n",
              "              title=\"Convert this dataframe to an interactive table.\"\n",
              "              style=\"display:none;\">\n",
              "        \n",
              "  <svg xmlns=\"http://www.w3.org/2000/svg\" height=\"24px\"viewBox=\"0 0 24 24\"\n",
              "       width=\"24px\">\n",
              "    <path d=\"M0 0h24v24H0V0z\" fill=\"none\"/>\n",
              "    <path d=\"M18.56 5.44l.94 2.06.94-2.06 2.06-.94-2.06-.94-.94-2.06-.94 2.06-2.06.94zm-11 1L8.5 8.5l.94-2.06 2.06-.94-2.06-.94L8.5 2.5l-.94 2.06-2.06.94zm10 10l.94 2.06.94-2.06 2.06-.94-2.06-.94-.94-2.06-.94 2.06-2.06.94z\"/><path d=\"M17.41 7.96l-1.37-1.37c-.4-.4-.92-.59-1.43-.59-.52 0-1.04.2-1.43.59L10.3 9.45l-7.72 7.72c-.78.78-.78 2.05 0 2.83L4 21.41c.39.39.9.59 1.41.59.51 0 1.02-.2 1.41-.59l7.78-7.78 2.81-2.81c.8-.78.8-2.07 0-2.86zM5.41 20L4 18.59l7.72-7.72 1.47 1.35L5.41 20z\"/>\n",
              "  </svg>\n",
              "      </button>\n",
              "      \n",
              "  <style>\n",
              "    .colab-df-container {\n",
              "      display:flex;\n",
              "      flex-wrap:wrap;\n",
              "      gap: 12px;\n",
              "    }\n",
              "\n",
              "    .colab-df-convert {\n",
              "      background-color: #E8F0FE;\n",
              "      border: none;\n",
              "      border-radius: 50%;\n",
              "      cursor: pointer;\n",
              "      display: none;\n",
              "      fill: #1967D2;\n",
              "      height: 32px;\n",
              "      padding: 0 0 0 0;\n",
              "      width: 32px;\n",
              "    }\n",
              "\n",
              "    .colab-df-convert:hover {\n",
              "      background-color: #E2EBFA;\n",
              "      box-shadow: 0px 1px 2px rgba(60, 64, 67, 0.3), 0px 1px 3px 1px rgba(60, 64, 67, 0.15);\n",
              "      fill: #174EA6;\n",
              "    }\n",
              "\n",
              "    [theme=dark] .colab-df-convert {\n",
              "      background-color: #3B4455;\n",
              "      fill: #D2E3FC;\n",
              "    }\n",
              "\n",
              "    [theme=dark] .colab-df-convert:hover {\n",
              "      background-color: #434B5C;\n",
              "      box-shadow: 0px 1px 3px 1px rgba(0, 0, 0, 0.15);\n",
              "      filter: drop-shadow(0px 1px 2px rgba(0, 0, 0, 0.3));\n",
              "      fill: #FFFFFF;\n",
              "    }\n",
              "  </style>\n",
              "\n",
              "      <script>\n",
              "        const buttonEl =\n",
              "          document.querySelector('#df-3dcc30b8-1e70-4732-ace2-f0b970bebf5e button.colab-df-convert');\n",
              "        buttonEl.style.display =\n",
              "          google.colab.kernel.accessAllowed ? 'block' : 'none';\n",
              "\n",
              "        async function convertToInteractive(key) {\n",
              "          const element = document.querySelector('#df-3dcc30b8-1e70-4732-ace2-f0b970bebf5e');\n",
              "          const dataTable =\n",
              "            await google.colab.kernel.invokeFunction('convertToInteractive',\n",
              "                                                     [key], {});\n",
              "          if (!dataTable) return;\n",
              "\n",
              "          const docLinkHtml = 'Like what you see? Visit the ' +\n",
              "            '<a target=\"_blank\" href=https://colab.research.google.com/notebooks/data_table.ipynb>data table notebook</a>'\n",
              "            + ' to learn more about interactive tables.';\n",
              "          element.innerHTML = '';\n",
              "          dataTable['output_type'] = 'display_data';\n",
              "          await google.colab.output.renderOutput(dataTable, element);\n",
              "          const docLink = document.createElement('div');\n",
              "          docLink.innerHTML = docLinkHtml;\n",
              "          element.appendChild(docLink);\n",
              "        }\n",
              "      </script>\n",
              "    </div>\n",
              "  </div>\n",
              "  "
            ]
          },
          "metadata": {},
          "execution_count": 6
        }
      ],
      "source": [
        "first_df = pd.read_json('/content/drive/MyDrive/supl_biz_157k.json')\n",
        "first_df.head(2)"
      ]
    },
    {
      "cell_type": "code",
      "execution_count": null,
      "id": "ed38aafa-7d74-4e5f-85fc-65ef7c490812",
      "metadata": {
        "id": "ed38aafa-7d74-4e5f-85fc-65ef7c490812",
        "colab": {
          "base_uri": "https://localhost:8080/"
        },
        "outputId": "7cf50389-f260-4f04-d441-0097d54c9b11"
      },
      "outputs": [
        {
          "output_type": "execute_result",
          "data": {
            "text/plain": [
              "array(['Доска пола; Имитация бруса; Блок-хаус; Декинг; Строган.доска (сосна)',\n",
              "       'Вагонка, блок хаус, доска пола, строганная доска, имитация бруса.',\n",
              "       'Погонажные изделия, вагонка, евровагонка, имитация бруса, доска пола, строганная доска',\n",
              "       'Технические входные двери',\n",
              "       'Тротуарная плитка Искусственный камень',\n",
              "       'Кровельные и стеновые сэндвич-панели',\n",
              "       'Стеновые панели из массива',\n",
              "       'Сэндвич-панели стеновые, сэндвич-панели кровельные',\n",
              "       'Облицовочный кирпич', 'Стеновые панели КИРПИЧИКИ',\n",
              "       'сэндвич панель стеновая',\n",
              "       'Облицовочный камень Старый кирпич 210х60)',\n",
              "       'Керамический кирпич облицовочный.',\n",
              "       'Керамический облицовочный кирпич Маттоне Латерра Пшеница',\n",
              "       'Газосиликатные блоки, пенобетонный блоки,кирпич керамический, кирпич силикатный, кирпич декоративный, керамзит оптом и в розницу с доставкой на объект',\n",
              "       'Сэндвич-панели Стеновые', 'Облицовочный кирпич: Рваный камень',\n",
              "       'Стеновые сэндвич-панели премиум тип А',\n",
              "       'Стеновая панель 4,0х1,25х0,4 ',\n",
              "       'Гиперпрессованный облицовочный кирпич Литос',\n",
              "       'Кирпич облицовочный камень',\n",
              "       'Кладочный раствор для облицовочного кирпича, стально-серый Цокольная клинкерная плитка',\n",
              "       'Черный облицовочный кирпич',\n",
              "       'Кирпич облицовочный Черный облицовочный кирпич',\n",
              "       'Облицовочный кирпич',\n",
              "       'Облицовочный кирпич персиковый Железногорский',\n",
              "       'Продам облицовочный кирпич',\n",
              "       'Фасадная панель FB Облицовочный кирпич Керамический 1130х463',\n",
              "       'Фасадная панель FB Облицовочный кирпич Керамический 1130х463',\n",
              "       'Угол наружный Облицовочный кирпич Керамический 485*119',\n",
              "       'Угол наружный Облицовочный кирпич Керамический 485*119',\n",
              "       'Фасадная панель FB Облицовочный кирпич Керамический 1130х463',\n",
              "       'Угол наружный Облицовочный кирпич Керамический 485*119',\n",
              "       'Керамический облицовочный кирпич',\n",
              "       'Облицовочный кирпич в наличии', 'Сэндвич панели стеновые',\n",
              "       'Блоки, тротуарная плитка, кирпич облицовочный',\n",
              "       'кирпич керамический,керамические блоки,газосиликатные блоки,облицовочный кирпич,тратуарная плитка',\n",
              "       'Облицовочный кирпич',\n",
              "       'Облицовочный (керамический) кирпич (лицевой)', 'Патрубки УАЗ',\n",
              "       'КПП ZF 9S1310 (после капремонта — без масла) на а/м КАМАЗ',\n",
              "       'Держатель автомобильный для телефона липкий складной',\n",
              "       'Держатель мобильного телефона многофункциональный с зарядным устройством и гнездом прикуривателя',\n",
              "       'Зарядное устройство для автомобильных аккумуляторов Magnum SM-8 DRIVER',\n",
              "       'Автомобильный держатель для мобильного телефона',\n",
              "       'LUXE Смазка Complex HT-2 XHP222', 'Масло моторное AKross',\n",
              "       'Авто чехлы. Накидки на сиденья автомобиля',\n",
              "       'Зарядные устройства ВЫМПЕЛ',\n",
              "       'Чехол-Накидки на сиденья авто от ПРОИЗВОДИТЕЛЯ',\n",
              "       'Ротор, Статор И Пластины Насоса Гур Audi,Bmw,Land Rover,Maybach,Mercedes-Benz MSG арт. ME018ROTORD',\n",
              "       'Турбокомпрессор Land Rover', 'ФОРСУНКА ОМЫВАТЕЛЯ ЛОБОВОГО СТЕКЛА',\n",
              "       'Насос омывателя лобового стекла BB',\n",
              "       '1112.5208500-02 Форсунки омывателя лобового стекла с креплением (кт.)',\n",
              "       'Автомобильный держатель мобильного телефона Zipower PM6623',\n",
              "       'Чехол на сиденье ворс комплект 5шт/арт №1',\n",
              "       'Пусковое устройство ELP3500A',\n",
              "       'Насос омывателя лобового стекла на Suzuki Grand Vitara'],\n",
              "      dtype=object)"
            ]
          },
          "metadata": {},
          "execution_count": 7
        }
      ],
      "source": [
        "first_df.Title.values[:60]"
      ]
    },
    {
      "cell_type": "code",
      "execution_count": null,
      "id": "22666b19-d9a0-472c-8a89-e81ac97c64c1",
      "metadata": {
        "id": "22666b19-d9a0-472c-8a89-e81ac97c64c1",
        "outputId": "fd2d0bde-dea9-430b-a979-14c55cca7cf2"
      },
      "outputs": [
        {
          "data": {
            "text/plain": [
              "157068"
            ]
          },
          "execution_count": 643,
          "metadata": {},
          "output_type": "execute_result"
        }
      ],
      "source": [
        "first_df.shape[0]"
      ]
    },
    {
      "cell_type": "code",
      "execution_count": null,
      "id": "cd94ded5-4958-46e2-8e12-e775618e980c",
      "metadata": {
        "id": "cd94ded5-4958-46e2-8e12-e775618e980c"
      },
      "outputs": [],
      "source": [
        "friendly_df = first_df[['Title', 'Info']]"
      ]
    },
    {
      "cell_type": "code",
      "execution_count": null,
      "id": "f73f2ba6-1bb0-41c9-92c2-9bfd4e9a80b0",
      "metadata": {
        "id": "f73f2ba6-1bb0-41c9-92c2-9bfd4e9a80b0"
      },
      "outputs": [],
      "source": [
        "friendly_df.dropna(inplace=True)"
      ]
    },
    {
      "cell_type": "code",
      "execution_count": null,
      "id": "da6c1a94-3904-48f8-8f55-013dd27e69ee",
      "metadata": {
        "id": "da6c1a94-3904-48f8-8f55-013dd27e69ee",
        "outputId": "15a4bcda-c381-4035-b438-1b62a77721f4"
      },
      "outputs": [
        {
          "data": {
            "text/html": [
              "<div>\n",
              "<style scoped>\n",
              "    .dataframe tbody tr th:only-of-type {\n",
              "        vertical-align: middle;\n",
              "    }\n",
              "\n",
              "    .dataframe tbody tr th {\n",
              "        vertical-align: top;\n",
              "    }\n",
              "\n",
              "    .dataframe thead th {\n",
              "        text-align: right;\n",
              "    }\n",
              "</style>\n",
              "<table border=\"1\" class=\"dataframe\">\n",
              "  <thead>\n",
              "    <tr style=\"text-align: right;\">\n",
              "      <th></th>\n",
              "      <th>Title</th>\n",
              "      <th>Info</th>\n",
              "    </tr>\n",
              "  </thead>\n",
              "  <tbody>\n",
              "    <tr>\n",
              "      <th>0</th>\n",
              "      <td>Доска пола; Имитация бруса; Блок-хаус; Декинг;...</td>\n",
              "      <td>[Толщина (мм): 20/45, ширина (мм): 90/135/140,...</td>\n",
              "    </tr>\n",
              "  </tbody>\n",
              "</table>\n",
              "</div>"
            ],
            "text/plain": [
              "                                               Title  \\\n",
              "0  Доска пола; Имитация бруса; Блок-хаус; Декинг;...   \n",
              "\n",
              "                                                Info  \n",
              "0  [Толщина (мм): 20/45, ширина (мм): 90/135/140,...  "
            ]
          },
          "execution_count": 646,
          "metadata": {},
          "output_type": "execute_result"
        }
      ],
      "source": [
        "friendly_df.head(1)"
      ]
    },
    {
      "cell_type": "markdown",
      "id": "72e43ccf-0fda-4902-92b6-1d2f7b4d550d",
      "metadata": {
        "id": "72e43ccf-0fda-4902-92b6-1d2f7b4d550d"
      },
      "source": [
        "Базовая предобработка и трансформация датасета в удобный вид"
      ]
    },
    {
      "cell_type": "markdown",
      "id": "2b7297b1-c992-4b2c-bb8d-a4f05e31d7d3",
      "metadata": {
        "id": "2b7297b1-c992-4b2c-bb8d-a4f05e31d7d3"
      },
      "source": [
        "<a id=\"3\"></a>\n",
        "## <b>3 <span style='color:#43a842'>|</span> Normalization/Lemmatization </b>\n",
        "* [Оглавление](#0)"
      ]
    },
    {
      "cell_type": "markdown",
      "id": "54ad2b9d-c3c1-48d0-9fb0-457dc1f829bb",
      "metadata": {
        "id": "54ad2b9d-c3c1-48d0-9fb0-457dc1f829bb"
      },
      "source": [
        "> Нормализация (Normalization) в NLP (Natural Language Processing) — это процесс приведения текста к стандартному или нормализованному виду.\n",
        "Процесс нормализации включает в себя различные шаги, такие как удаление знаков препинания, приведение всех символов к нижнему регистру, замена чисел на слова, удаление стоп-слов, лемматизация, стемминг и другое. "
      ]
    },
    {
      "cell_type": "markdown",
      "id": "3e365bad-0997-4778-a516-5497f94d0803",
      "metadata": {
        "id": "3e365bad-0997-4778-a516-5497f94d0803"
      },
      "source": [
        "##### Первый этап нормализации текста - удаление всех знаков препинания, при помощи регулярных выражений и лямбда-функций."
      ]
    },
    {
      "cell_type": "code",
      "execution_count": null,
      "id": "5aee6908-d271-416a-8273-abefa0dfae61",
      "metadata": {
        "id": "5aee6908-d271-416a-8273-abefa0dfae61"
      },
      "outputs": [],
      "source": [
        "friendly_df['Title'] = friendly_df['Title'].apply(\n",
        "    lambda x: \n",
        "    re.sub(r'[^\\w\\s]', '', x)\n",
        ")"
      ]
    },
    {
      "cell_type": "code",
      "execution_count": null,
      "id": "6002b90f-7ae9-43a2-b86a-7d05c1b16d3c",
      "metadata": {
        "id": "6002b90f-7ae9-43a2-b86a-7d05c1b16d3c",
        "outputId": "68deecf9-653c-46b7-c6c2-a012c5d8f6f8"
      },
      "outputs": [
        {
          "data": {
            "text/html": [
              "<div>\n",
              "<style scoped>\n",
              "    .dataframe tbody tr th:only-of-type {\n",
              "        vertical-align: middle;\n",
              "    }\n",
              "\n",
              "    .dataframe tbody tr th {\n",
              "        vertical-align: top;\n",
              "    }\n",
              "\n",
              "    .dataframe thead th {\n",
              "        text-align: right;\n",
              "    }\n",
              "</style>\n",
              "<table border=\"1\" class=\"dataframe\">\n",
              "  <thead>\n",
              "    <tr style=\"text-align: right;\">\n",
              "      <th></th>\n",
              "      <th>Title</th>\n",
              "      <th>Info</th>\n",
              "    </tr>\n",
              "  </thead>\n",
              "  <tbody>\n",
              "    <tr>\n",
              "      <th>0</th>\n",
              "      <td>Доска пола Имитация бруса Блокхаус Декинг Стро...</td>\n",
              "      <td>[Толщина (мм): 20/45, ширина (мм): 90/135/140,...</td>\n",
              "    </tr>\n",
              "  </tbody>\n",
              "</table>\n",
              "</div>"
            ],
            "text/plain": [
              "                                               Title  \\\n",
              "0  Доска пола Имитация бруса Блокхаус Декинг Стро...   \n",
              "\n",
              "                                                Info  \n",
              "0  [Толщина (мм): 20/45, ширина (мм): 90/135/140,...  "
            ]
          },
          "execution_count": 648,
          "metadata": {},
          "output_type": "execute_result"
        }
      ],
      "source": [
        "friendly_df.head(1)"
      ]
    },
    {
      "cell_type": "markdown",
      "id": "293ae9dd-8708-45a2-ab50-a5461bb00ab2",
      "metadata": {
        "id": "293ae9dd-8708-45a2-ab50-a5461bb00ab2"
      },
      "source": [
        "Модуль, который используется для лемматизации и морфологического анализа слов в русском языке. Он предоставляет набор инструментов для получения грамматических характеристик слова (род, число, падеж, время и т.д.), а также его базовой формы (леммы)."
      ]
    },
    {
      "cell_type": "code",
      "execution_count": null,
      "id": "7362fd62-b2ab-4c90-a443-9c821356d649",
      "metadata": {
        "id": "7362fd62-b2ab-4c90-a443-9c821356d649"
      },
      "outputs": [],
      "source": [
        "morph = pymorphy2.MorphAnalyzer()"
      ]
    },
    {
      "cell_type": "markdown",
      "id": "ca18e092-e162-4122-90a7-ba76a090cae0",
      "metadata": {
        "id": "ca18e092-e162-4122-90a7-ba76a090cae0"
      },
      "source": [
        "С помощью модуля nltk были загружены стоп-слова из русского языка. Stop words - это часто встречающиеся в текстах слова, которые не несут смысловой нагрузки и могут быть исключены из анализа текста, чтобы уменьшить размерность признаков и повысить точность анализа."
      ]
    },
    {
      "cell_type": "code",
      "execution_count": null,
      "id": "eaf0ec58-e5ef-430b-9c8b-e6448b3cd5b9",
      "metadata": {
        "collapsed": true,
        "jupyter": {
          "outputs_hidden": true
        },
        "tags": [],
        "id": "eaf0ec58-e5ef-430b-9c8b-e6448b3cd5b9",
        "outputId": "b6664764-beb1-48f6-f210-dbc6c7012f24"
      },
      "outputs": [
        {
          "name": "stderr",
          "output_type": "stream",
          "text": [
            "[nltk_data] Downloading package stopwords to\n",
            "[nltk_data]     /Users/ivanlopatkin/nltk_data...\n",
            "[nltk_data]   Package stopwords is already up-to-date!\n"
          ]
        }
      ],
      "source": [
        "nltk.download('stopwords')\n",
        "stop_words = stopwords.words('russian')"
      ]
    },
    {
      "cell_type": "markdown",
      "id": "a73e88a7-89d4-48d3-8b70-a7f00bc49211",
      "metadata": {
        "id": "a73e88a7-89d4-48d3-8b70-a7f00bc49211"
      },
      "source": [
        "##### Второй этап – приведения всех символов к нижнему регистру, а также удаления всех стоп-слов с помощью lambda function."
      ]
    },
    {
      "cell_type": "code",
      "execution_count": null,
      "id": "fbefdc96-d53d-44eb-848f-57e6439bd07e",
      "metadata": {
        "id": "fbefdc96-d53d-44eb-848f-57e6439bd07e"
      },
      "outputs": [],
      "source": [
        "friendly_df['Title'] = friendly_df['Title'].apply(\n",
        "    lambda x:\n",
        "    ' '.join([word.lower() for word in x.split() if not word in stop_words and len(word) > 2])\n",
        ")"
      ]
    },
    {
      "cell_type": "code",
      "execution_count": null,
      "id": "900f59e2-1d64-4f02-a2d5-58e8e040e1a2",
      "metadata": {
        "id": "900f59e2-1d64-4f02-a2d5-58e8e040e1a2",
        "outputId": "3fdf18ce-d50d-4b83-b418-bf1faff2e426"
      },
      "outputs": [
        {
          "data": {
            "text/html": [
              "<div>\n",
              "<style scoped>\n",
              "    .dataframe tbody tr th:only-of-type {\n",
              "        vertical-align: middle;\n",
              "    }\n",
              "\n",
              "    .dataframe tbody tr th {\n",
              "        vertical-align: top;\n",
              "    }\n",
              "\n",
              "    .dataframe thead th {\n",
              "        text-align: right;\n",
              "    }\n",
              "</style>\n",
              "<table border=\"1\" class=\"dataframe\">\n",
              "  <thead>\n",
              "    <tr style=\"text-align: right;\">\n",
              "      <th></th>\n",
              "      <th>Title</th>\n",
              "      <th>Info</th>\n",
              "    </tr>\n",
              "  </thead>\n",
              "  <tbody>\n",
              "    <tr>\n",
              "      <th>0</th>\n",
              "      <td>доска пола имитация бруса блокхаус декинг стро...</td>\n",
              "      <td>[Толщина (мм): 20/45, ширина (мм): 90/135/140,...</td>\n",
              "    </tr>\n",
              "    <tr>\n",
              "      <th>1</th>\n",
              "      <td>вагонка блок хаус доска пола строганная доска ...</td>\n",
              "      <td>[Продаем погонажные изделия хвойных пород, шир...</td>\n",
              "    </tr>\n",
              "    <tr>\n",
              "      <th>2</th>\n",
              "      <td>погонажные изделия вагонка евровагонка имитаци...</td>\n",
              "      <td>[Собственное производство в Архангельской обла...</td>\n",
              "    </tr>\n",
              "    <tr>\n",
              "      <th>3</th>\n",
              "      <td>технические входные двери</td>\n",
              "      <td>[Двери входные технические  металлические для ...</td>\n",
              "    </tr>\n",
              "    <tr>\n",
              "      <th>4</th>\n",
              "      <td>тротуарная плитка искусственный камень</td>\n",
              "      <td>[Компания ООО Ингстром производит тротуарную п...</td>\n",
              "    </tr>\n",
              "  </tbody>\n",
              "</table>\n",
              "</div>"
            ],
            "text/plain": [
              "                                               Title  \\\n",
              "0  доска пола имитация бруса блокхаус декинг стро...   \n",
              "1  вагонка блок хаус доска пола строганная доска ...   \n",
              "2  погонажные изделия вагонка евровагонка имитаци...   \n",
              "3                          технические входные двери   \n",
              "4             тротуарная плитка искусственный камень   \n",
              "\n",
              "                                                Info  \n",
              "0  [Толщина (мм): 20/45, ширина (мм): 90/135/140,...  \n",
              "1  [Продаем погонажные изделия хвойных пород, шир...  \n",
              "2  [Собственное производство в Архангельской обла...  \n",
              "3  [Двери входные технические  металлические для ...  \n",
              "4  [Компания ООО Ингстром производит тротуарную п...  "
            ]
          },
          "execution_count": 652,
          "metadata": {},
          "output_type": "execute_result"
        }
      ],
      "source": [
        "friendly_df.head()"
      ]
    },
    {
      "cell_type": "markdown",
      "id": "d96a5b09-ce9e-4f54-8606-f10516e4a394",
      "metadata": {
        "id": "d96a5b09-ce9e-4f54-8606-f10516e4a394"
      },
      "source": [
        "##### Третий – сама лемматизация. Лемматизация — это процесс приведения слова к его базовой форме (лемме), которая может быть использована для поиска, сравнения и анализа текста."
      ]
    },
    {
      "cell_type": "code",
      "execution_count": null,
      "id": "881ae750-ede3-4823-94e8-764bf403726b",
      "metadata": {
        "id": "881ae750-ede3-4823-94e8-764bf403726b"
      },
      "outputs": [],
      "source": [
        "friendly_df['Norm_Title'] = friendly_df['Title'].apply(\n",
        "    lambda x: \n",
        "    [morph.parse(token)[0].normal_form for token in x.split()]\n",
        ")"
      ]
    },
    {
      "cell_type": "code",
      "execution_count": null,
      "id": "5b1e3d9e-6960-4edc-87cf-8fdc3b4cf253",
      "metadata": {
        "id": "5b1e3d9e-6960-4edc-87cf-8fdc3b4cf253",
        "outputId": "5f21f53b-2e5b-40d4-d84d-8b8795bac272"
      },
      "outputs": [
        {
          "data": {
            "text/plain": [
              "('Открою ключ интернетмагазин морепродуктов дней',\n",
              " ['откроить', 'ключ', 'интернетмагазин', 'морепродукт', 'день'])"
            ]
          },
          "execution_count": 343,
          "metadata": {},
          "output_type": "execute_result"
        }
      ],
      "source": [
        "friendly_df['Title'][200], friendly_df['Norm_Title'][200]"
      ]
    },
    {
      "cell_type": "markdown",
      "id": "b589e1ff-e1ba-4d7a-88b8-a07048a72f64",
      "metadata": {
        "id": "b589e1ff-e1ba-4d7a-88b8-a07048a72f64"
      },
      "source": [
        "<a id=\"4\"></a>\n",
        "## <b>4 <span style='color:#43a842'>|</span> Markup </b>\n",
        "* [Оглавление](#0)"
      ]
    },
    {
      "cell_type": "markdown",
      "id": "ffbbf408-00ce-497d-8c9e-8bf6dc56497c",
      "metadata": {
        "id": "ffbbf408-00ce-497d-8c9e-8bf6dc56497c"
      },
      "source": [
        "Так как датасет был неоднородным, из-за отсутствия единого шаблона описания, которое обуславливается их написанием большим кругом людей, алгоритмически сформировать сэмпл для фита в модель было непростой, а самое главное очень трудоемкой задачей, было принято решение обрабатывать названия товаров и самостоятельно выделять атрибуты к каждому слову. Все пары «слово из названия»: «соответствующий атрибут» были помещены в словари (для каждой строки исходного датасета свой словарь)."
      ]
    },
    {
      "cell_type": "code",
      "execution_count": null,
      "id": "cc1b87fa-f460-4c5f-b077-216caa5166e9",
      "metadata": {
        "id": "cc1b87fa-f460-4c5f-b077-216caa5166e9"
      },
      "outputs": [],
      "source": [
        "friendly_df['markup'] = pd.Series(np.nan)"
      ]
    },
    {
      "cell_type": "code",
      "execution_count": null,
      "id": "7a322c5a-5fce-4b3c-88d7-beb8da0ff4db",
      "metadata": {
        "id": "7a322c5a-5fce-4b3c-88d7-beb8da0ff4db"
      },
      "outputs": [],
      "source": [
        "def razmetka(indexs : list, df):\n",
        "    copy = df.copy()\n",
        "    i = indexs[0]\n",
        "    ser = df.markup\n",
        "    while i != indexs[1]:\n",
        "            title = df.loc[float(str(i))].Norm_Title\n",
        "            print('Название: ', *title)\n",
        "            s = input()\n",
        "            if s.lower() == 'стоп':\n",
        "                df['markup'] = ser\n",
        "                flag = False\n",
        "                break\n",
        "            elif s.lower() == 'скип':\n",
        "                i +=1\n",
        "                continue\n",
        "            else:\n",
        "\n",
        "                s = s.split()\n",
        "                if len(s) != len(title) and s[-1] != '1':\n",
        "                    print('Не все значение размечены')\n",
        "                elif s[-1] == '1':\n",
        "                    s = s + ['-'] * (len(title) - len(s))\n",
        "                    ser[i] = str(dict(zip(title, s)))\n",
        "                    i +=1\n",
        "\n",
        "                else:\n",
        "                    ser[i] = str(dict(zip(title, s)))\n",
        "                    i +=1\n",
        "    df['markup'] = ser"
      ]
    },
    {
      "cell_type": "code",
      "execution_count": null,
      "id": "6f0cfa0f-0b54-4cd2-9b82-553c971d5989",
      "metadata": {
        "id": "6f0cfa0f-0b54-4cd2-9b82-553c971d5989",
        "outputId": "b9614951-e616-4e3e-ef5a-77021076273e"
      },
      "outputs": [
        {
          "data": {
            "text/plain": [
              "(157067, 4)"
            ]
          },
          "execution_count": 331,
          "metadata": {},
          "output_type": "execute_result"
        }
      ],
      "source": [
        "friendly_df.shape"
      ]
    },
    {
      "cell_type": "markdown",
      "id": "652f7d51-088b-4f19-ba99-1f7d4feca27e",
      "metadata": {
        "id": "652f7d51-088b-4f19-ba99-1f7d4feca27e"
      },
      "source": [
        "The first test of markup"
      ]
    },
    {
      "cell_type": "code",
      "execution_count": null,
      "id": "619018db-3f13-4d6d-a13b-f3d72015e07e",
      "metadata": {
        "collapsed": true,
        "jupyter": {
          "outputs_hidden": true
        },
        "tags": [],
        "id": "619018db-3f13-4d6d-a13b-f3d72015e07e",
        "outputId": "e259ac6b-1598-4822-f462-eda80fda35ab"
      },
      "outputs": [
        {
          "name": "stdout",
          "output_type": "stream",
          "text": [
            "Название:  станция насосный\n"
          ]
        },
        {
          "name": "stdin",
          "output_type": "stream",
          "text": [
            " тов назн\n"
          ]
        },
        {
          "name": "stdout",
          "output_type": "stream",
          "text": [
            "Название:  валик 640100 56889 полиакрил зелёный ворс15мм100 maxitool\n"
          ]
        },
        {
          "name": "stdin",
          "output_type": "stream",
          "text": [
            " стоп\n"
          ]
        },
        {
          "name": "stdout",
          "output_type": "stream",
          "text": [
            "Название:  кондиционер energolux sas07bd1altsau07bd1altws30\n"
          ]
        },
        {
          "name": "stderr",
          "output_type": "stream",
          "text": [
            "Process SpawnPoolWorker-60:\n",
            "Process SpawnPoolWorker-59:\n",
            "Traceback (most recent call last):\n",
            "Traceback (most recent call last):\n",
            "  File \"/Users/ivanlopatkin/opt/anaconda3/lib/python3.9/multiprocessing/process.py\", line 315, in _bootstrap\n",
            "    self.run()\n",
            "  File \"/Users/ivanlopatkin/opt/anaconda3/lib/python3.9/multiprocessing/process.py\", line 315, in _bootstrap\n",
            "    self.run()\n",
            "  File \"/Users/ivanlopatkin/opt/anaconda3/lib/python3.9/multiprocessing/process.py\", line 108, in run\n",
            "    self._target(*self._args, **self._kwargs)\n",
            "  File \"/Users/ivanlopatkin/opt/anaconda3/lib/python3.9/multiprocessing/process.py\", line 108, in run\n",
            "    self._target(*self._args, **self._kwargs)\n",
            "  File \"/Users/ivanlopatkin/opt/anaconda3/lib/python3.9/multiprocessing/pool.py\", line 114, in worker\n",
            "    task = get()\n",
            "  File \"/Users/ivanlopatkin/opt/anaconda3/lib/python3.9/multiprocessing/pool.py\", line 114, in worker\n",
            "    task = get()\n",
            "  File \"/Users/ivanlopatkin/opt/anaconda3/lib/python3.9/multiprocessing/queues.py\", line 364, in get\n",
            "    with self._rlock:\n",
            "  File \"/Users/ivanlopatkin/opt/anaconda3/lib/python3.9/multiprocessing/queues.py\", line 364, in get\n",
            "    with self._rlock:\n",
            "  File \"/Users/ivanlopatkin/opt/anaconda3/lib/python3.9/multiprocessing/synchronize.py\", line 95, in __enter__\n",
            "    return self._semlock.__enter__()\n",
            "  File \"/Users/ivanlopatkin/opt/anaconda3/lib/python3.9/multiprocessing/synchronize.py\", line 95, in __enter__\n",
            "    return self._semlock.__enter__()\n",
            "KeyboardInterrupt\n",
            "KeyboardInterrupt\n"
          ]
        },
        {
          "ename": "KeyboardInterrupt",
          "evalue": "Interrupted by user",
          "output_type": "error",
          "traceback": [
            "\u001b[0;31m---------------------------------------------------------------------------\u001b[0m",
            "\u001b[0;31mKeyboardInterrupt\u001b[0m                         Traceback (most recent call last)",
            "\u001b[0;32m/var/folders/wm/2lqrdly935l4760kvrhk__dw0000gn/T/ipykernel_6157/2634671499.py\u001b[0m in \u001b[0;36m<module>\u001b[0;34m\u001b[0m\n\u001b[1;32m      2\u001b[0m \u001b[0;32mwhile\u001b[0m \u001b[0;32mTrue\u001b[0m\u001b[0;34m:\u001b[0m\u001b[0;34m\u001b[0m\u001b[0;34m\u001b[0m\u001b[0m\n\u001b[1;32m      3\u001b[0m     \u001b[0mnumber\u001b[0m \u001b[0;34m=\u001b[0m \u001b[0mrandom\u001b[0m\u001b[0;34m.\u001b[0m\u001b[0mrandint\u001b[0m\u001b[0;34m(\u001b[0m\u001b[0;36m0\u001b[0m\u001b[0;34m,\u001b[0m \u001b[0mfriendly_df\u001b[0m\u001b[0;34m.\u001b[0m\u001b[0mshape\u001b[0m\u001b[0;34m[\u001b[0m\u001b[0;36m0\u001b[0m\u001b[0;34m]\u001b[0m\u001b[0;34m)\u001b[0m\u001b[0;34m\u001b[0m\u001b[0;34m\u001b[0m\u001b[0m\n\u001b[0;32m----> 4\u001b[0;31m     \u001b[0mrazmetka\u001b[0m\u001b[0;34m(\u001b[0m\u001b[0;34m[\u001b[0m\u001b[0mnumber\u001b[0m\u001b[0;34m,\u001b[0m \u001b[0mnumber\u001b[0m \u001b[0;34m+\u001b[0m \u001b[0;36m1\u001b[0m\u001b[0;34m]\u001b[0m\u001b[0;34m,\u001b[0m \u001b[0mfriendly_df\u001b[0m\u001b[0;34m)\u001b[0m\u001b[0;34m\u001b[0m\u001b[0;34m\u001b[0m\u001b[0m\n\u001b[0m",
            "\u001b[0;32m/var/folders/wm/2lqrdly935l4760kvrhk__dw0000gn/T/ipykernel_6157/364846813.py\u001b[0m in \u001b[0;36mrazmetka\u001b[0;34m(indexs, df)\u001b[0m\n\u001b[1;32m      8\u001b[0m             \u001b[0mprint\u001b[0m\u001b[0;34m(\u001b[0m\u001b[0;34m'Название: '\u001b[0m\u001b[0;34m,\u001b[0m \u001b[0;34m*\u001b[0m\u001b[0mtitle\u001b[0m\u001b[0;34m)\u001b[0m\u001b[0;34m\u001b[0m\u001b[0;34m\u001b[0m\u001b[0m\n\u001b[1;32m      9\u001b[0m     \u001b[0;31m#         print('Инфо: ', *info)\u001b[0m\u001b[0;34m\u001b[0m\u001b[0;34m\u001b[0m\u001b[0m\n\u001b[0;32m---> 10\u001b[0;31m             \u001b[0ms\u001b[0m \u001b[0;34m=\u001b[0m \u001b[0minput\u001b[0m\u001b[0;34m(\u001b[0m\u001b[0;34m)\u001b[0m\u001b[0;34m\u001b[0m\u001b[0;34m\u001b[0m\u001b[0m\n\u001b[0m\u001b[1;32m     11\u001b[0m             \u001b[0;32mif\u001b[0m \u001b[0ms\u001b[0m\u001b[0;34m.\u001b[0m\u001b[0mlower\u001b[0m\u001b[0;34m(\u001b[0m\u001b[0;34m)\u001b[0m \u001b[0;34m==\u001b[0m \u001b[0;34m'стоп'\u001b[0m\u001b[0;34m:\u001b[0m\u001b[0;34m\u001b[0m\u001b[0;34m\u001b[0m\u001b[0m\n\u001b[1;32m     12\u001b[0m                 \u001b[0mdf\u001b[0m\u001b[0;34m[\u001b[0m\u001b[0;34m'markup'\u001b[0m\u001b[0;34m]\u001b[0m \u001b[0;34m=\u001b[0m \u001b[0mser\u001b[0m\u001b[0;34m\u001b[0m\u001b[0;34m\u001b[0m\u001b[0m\n",
            "\u001b[0;32m~/opt/anaconda3/lib/python3.9/site-packages/ipykernel/kernelbase.py\u001b[0m in \u001b[0;36mraw_input\u001b[0;34m(self, prompt)\u001b[0m\n\u001b[1;32m   1175\u001b[0m                 \u001b[0;34m\"raw_input was called, but this frontend does not support input requests.\"\u001b[0m\u001b[0;34m\u001b[0m\u001b[0;34m\u001b[0m\u001b[0m\n\u001b[1;32m   1176\u001b[0m             )\n\u001b[0;32m-> 1177\u001b[0;31m         return self._input_request(\n\u001b[0m\u001b[1;32m   1178\u001b[0m             \u001b[0mstr\u001b[0m\u001b[0;34m(\u001b[0m\u001b[0mprompt\u001b[0m\u001b[0;34m)\u001b[0m\u001b[0;34m,\u001b[0m\u001b[0;34m\u001b[0m\u001b[0;34m\u001b[0m\u001b[0m\n\u001b[1;32m   1179\u001b[0m             \u001b[0mself\u001b[0m\u001b[0;34m.\u001b[0m\u001b[0m_parent_ident\u001b[0m\u001b[0;34m[\u001b[0m\u001b[0;34m\"shell\"\u001b[0m\u001b[0;34m]\u001b[0m\u001b[0;34m,\u001b[0m\u001b[0;34m\u001b[0m\u001b[0;34m\u001b[0m\u001b[0m\n",
            "\u001b[0;32m~/opt/anaconda3/lib/python3.9/site-packages/ipykernel/kernelbase.py\u001b[0m in \u001b[0;36m_input_request\u001b[0;34m(self, prompt, ident, parent, password)\u001b[0m\n\u001b[1;32m   1217\u001b[0m             \u001b[0;32mexcept\u001b[0m \u001b[0mKeyboardInterrupt\u001b[0m\u001b[0;34m:\u001b[0m\u001b[0;34m\u001b[0m\u001b[0;34m\u001b[0m\u001b[0m\n\u001b[1;32m   1218\u001b[0m                 \u001b[0;31m# re-raise KeyboardInterrupt, to truncate traceback\u001b[0m\u001b[0;34m\u001b[0m\u001b[0;34m\u001b[0m\u001b[0m\n\u001b[0;32m-> 1219\u001b[0;31m                 \u001b[0;32mraise\u001b[0m \u001b[0mKeyboardInterrupt\u001b[0m\u001b[0;34m(\u001b[0m\u001b[0;34m\"Interrupted by user\"\u001b[0m\u001b[0;34m)\u001b[0m \u001b[0;32mfrom\u001b[0m \u001b[0;32mNone\u001b[0m\u001b[0;34m\u001b[0m\u001b[0;34m\u001b[0m\u001b[0m\n\u001b[0m\u001b[1;32m   1220\u001b[0m             \u001b[0;32mexcept\u001b[0m \u001b[0mException\u001b[0m\u001b[0;34m:\u001b[0m\u001b[0;34m\u001b[0m\u001b[0;34m\u001b[0m\u001b[0m\n\u001b[1;32m   1221\u001b[0m                 \u001b[0mself\u001b[0m\u001b[0;34m.\u001b[0m\u001b[0mlog\u001b[0m\u001b[0;34m.\u001b[0m\u001b[0mwarning\u001b[0m\u001b[0;34m(\u001b[0m\u001b[0;34m\"Invalid Message:\"\u001b[0m\u001b[0;34m,\u001b[0m \u001b[0mexc_info\u001b[0m\u001b[0;34m=\u001b[0m\u001b[0;32mTrue\u001b[0m\u001b[0;34m)\u001b[0m\u001b[0;34m\u001b[0m\u001b[0;34m\u001b[0m\u001b[0m\n",
            "\u001b[0;31mKeyboardInterrupt\u001b[0m: Interrupted by user"
          ]
        }
      ],
      "source": [
        "import random\n",
        "while True:\n",
        "    number = random.randint(0, friendly_df.shape[0])\n",
        "    razmetka([number, number + 1], friendly_df)"
      ]
    },
    {
      "cell_type": "markdown",
      "id": "48ad953d-0c73-4c33-8017-44af6a8874c8",
      "metadata": {
        "tags": [],
        "id": "48ad953d-0c73-4c33-8017-44af6a8874c8"
      },
      "source": [
        "##### Import of markup by Ustinov Kirill Evgenievich (Было согласовано с Никитой Владимировичем)"
      ]
    },
    {
      "cell_type": "code",
      "execution_count": null,
      "id": "e8396e0e-ff64-4c30-a0cc-5a0573a67645",
      "metadata": {
        "id": "e8396e0e-ff64-4c30-a0cc-5a0573a67645"
      },
      "outputs": [],
      "source": [
        "half_metka = pd.read_json('/Users/ivanlopatkin/Downloads/23_04.json')"
      ]
    },
    {
      "cell_type": "code",
      "execution_count": null,
      "id": "73df10fd-bbf1-440a-85be-725a14452ec1",
      "metadata": {
        "id": "73df10fd-bbf1-440a-85be-725a14452ec1",
        "outputId": "cb8d01e0-d0d0-448b-9ca4-5b343e10dc37"
      },
      "outputs": [
        {
          "data": {
            "text/html": [
              "<div>\n",
              "<style scoped>\n",
              "    .dataframe tbody tr th:only-of-type {\n",
              "        vertical-align: middle;\n",
              "    }\n",
              "\n",
              "    .dataframe tbody tr th {\n",
              "        vertical-align: top;\n",
              "    }\n",
              "\n",
              "    .dataframe thead th {\n",
              "        text-align: right;\n",
              "    }\n",
              "</style>\n",
              "<table border=\"1\" class=\"dataframe\">\n",
              "  <thead>\n",
              "    <tr style=\"text-align: right;\">\n",
              "      <th></th>\n",
              "      <th>Info</th>\n",
              "      <th>Norm_Title</th>\n",
              "      <th>Razme4</th>\n",
              "    </tr>\n",
              "  </thead>\n",
              "  <tbody>\n",
              "    <tr>\n",
              "      <th>0</th>\n",
              "      <td>[Толщина (мм): 20/45, ширина (мм): 90/135/140,...</td>\n",
              "      <td>[доска, пол, имитация, брус, блокхаус, декинг,...</td>\n",
              "      <td>None</td>\n",
              "    </tr>\n",
              "    <tr>\n",
              "      <th>1</th>\n",
              "      <td>[Продаем погонажные изделия хвойных пород, шир...</td>\n",
              "      <td>[вагонка, блок, хаус, доска, пол, строгать, до...</td>\n",
              "      <td>None</td>\n",
              "    </tr>\n",
              "    <tr>\n",
              "      <th>2</th>\n",
              "      <td>[Собственное производство в Архангельской обла...</td>\n",
              "      <td>[погонажный, изделие, вагонка, евровагонка, им...</td>\n",
              "      <td>None</td>\n",
              "    </tr>\n",
              "    <tr>\n",
              "      <th>3</th>\n",
              "      <td>[Двери входные технические  металлические для ...</td>\n",
              "      <td>[технический, входной, дверь]</td>\n",
              "      <td>None</td>\n",
              "    </tr>\n",
              "    <tr>\n",
              "      <th>4</th>\n",
              "      <td>[Компания ООО Ингстром производит тротуарную п...</td>\n",
              "      <td>[тротуарный, плитка, искусственный, камень]</td>\n",
              "      <td>None</td>\n",
              "    </tr>\n",
              "  </tbody>\n",
              "</table>\n",
              "</div>"
            ],
            "text/plain": [
              "                                                Info  \\\n",
              "0  [Толщина (мм): 20/45, ширина (мм): 90/135/140,...   \n",
              "1  [Продаем погонажные изделия хвойных пород, шир...   \n",
              "2  [Собственное производство в Архангельской обла...   \n",
              "3  [Двери входные технические  металлические для ...   \n",
              "4  [Компания ООО Ингстром производит тротуарную п...   \n",
              "\n",
              "                                          Norm_Title Razme4  \n",
              "0  [доска, пол, имитация, брус, блокхаус, декинг,...   None  \n",
              "1  [вагонка, блок, хаус, доска, пол, строгать, до...   None  \n",
              "2  [погонажный, изделие, вагонка, евровагонка, им...   None  \n",
              "3                      [технический, входной, дверь]   None  \n",
              "4        [тротуарный, плитка, искусственный, камень]   None  "
            ]
          },
          "execution_count": 7,
          "metadata": {},
          "output_type": "execute_result"
        }
      ],
      "source": [
        "half_metka.head()"
      ]
    },
    {
      "cell_type": "code",
      "execution_count": null,
      "id": "7de0838a-4591-4feb-9fdc-c0e849f632e8",
      "metadata": {
        "id": "7de0838a-4591-4feb-9fdc-c0e849f632e8"
      },
      "outputs": [],
      "source": [
        "with_metka = half_metka[half_metka.Razme4.isna() == False]"
      ]
    },
    {
      "cell_type": "code",
      "execution_count": null,
      "id": "d4fc5874-a5b8-4a09-afe6-72a769ba64d8",
      "metadata": {
        "collapsed": true,
        "jupyter": {
          "outputs_hidden": true
        },
        "tags": [],
        "id": "d4fc5874-a5b8-4a09-afe6-72a769ba64d8",
        "outputId": "34bc7010-d6d5-4536-d175-a95b11fb1610"
      },
      "outputs": [
        {
          "name": "stdout",
          "output_type": "stream",
          "text": [
            "{'аквавошер': 'тов', 'clean': 'бренд', 'cube': 'бренд', 'рro': 'бренд', 'для': '-', 'стиральный': 'назн', 'машина': '-'}\n",
            "{'жёсткий': 'тов', 'диск': 'тов', '500': '-', 'гб': 'раз'}\n",
            "{'жёсткий': 'тов', 'диск': 'тов', '1x2tb': 'раз', 'sata': 'бренд', 'гарантия': '1', '1': '-', 'год': '-'}\n",
            "{'заправка': 'тов', 'картридж': 'тов', 'cf212a': 'бренд', 'hp': 'бренд'}\n",
            "{'заправка': 'тов', 'картридж': 'тов'}\n",
            "{'тэн': 'тов', 'стиральный': 'назн', 'машина': 'тов', 'универсальный': '-', '1700w': 'разм'}\n",
            "{'запчасть': 'тов', 'для': '-', 'бытовой': 'наз', 'техника': 'тов'}\n",
            "{'ремонт': 'тов', 'стиральный': 'наз', 'машина': 'тов', 'indesit': 'бренд', 'индезита': 'бренд'}\n",
            "{'фильтр': 'тов', 'для': '-', 'вода': '-', 'посудомоечный': 'назн', 'и': '-', 'стиральный': 'наз', 'машина': '-', 'ariston': 'бренд', '91845': '-'}\n",
            "{'стиральный': 'назн', 'машина': 'тов', 'indesit': 'бренд', 'iwuc': '1', '4105': '-'}\n",
            "{'жёсткий': 'тов', 'диск': 'тов', 'toshiba': 'бренд', 'p300': '-'}\n",
            "{'заправка': 'тов', 'картридж': 'тов'}\n",
            "{'заправка': 'тов', 'картридж': 'тов'}\n",
            "{'ремонт': '-', 'холодильный': 'назн', 'оборудование': '1', 'холодильник': '-', 'и': '-', 'стиральный': '-', 'машина': '-'}\n",
            "{'ремонт': 'тов', 'стиральный': 'назн', 'посудомоечный': 'назн', 'машина': '1', 'холодильниковсвч': '-', 'пылесос': '-'}\n",
            "{'обслуживание': 'тов', 'и': '-', 'ремонт': 'тов', 'оргтехника': '1', 'заправка': '-', 'лазерный': '-', 'картридж': '-'}\n",
            "{'настольный': 'назн', 'жёсткий': 'тов', 'диск': 'тов', 'lacie': 'бренд', 'christofle': 'бренд', 'sphere': 'бренд'}\n",
            "{'таможенный': 'назн', 'оформление': 'тов'}\n",
            "{'финансовый': 'назн', 'услугибанковский': '1', 'гарантиитендерный': '-', 'сопровождение': '-'}\n",
            "{'юридический': 'назн', 'услуга': 'тов'}\n",
            "{'представительство': 'тов', 'в': '-', 'суд': '-', 'общий': 'назн', 'юрисдикция': '-'}\n",
            "{'юридический': 'назн', 'услуга': 'тов', 'для': '-', 'ип': '-'}\n",
            "{'юридический': 'назн', 'услуга': 'тов'}\n",
            "{'юридический': 'назн', 'услуга': 'тов'}\n",
            "{'страхование': 'тов', 'груз': '-'}\n",
            "{'сертификация': 'тов', 'таможенный': '-', 'оформление': '-'}\n",
            "{'изготовление': 'тов', 'печать': '1', 'и': '-', 'штамп': '-'}\n",
            "{'экспертиза': 'тов', 'качество': '1', 'монтаж': '-', 'и': '-', 'изготовление': '-', 'окно': '-', 'дверь': '-'}\n",
            "{'юридический': 'назн', 'услуга': 'тов'}\n",
            "{'изготовление': 'тов', 'печать': '1', 'и': '-', 'штамп': '-'}\n",
            "{'юридический': 'назн', 'услуга': 'тов'}\n",
            "{'юридический': 'назн', 'консультация': 'тов', 'лицензирование': '1', 'взыскание': '-', 'долг': '-'}\n",
            "{'юридический': 'назн', 'консультация': 'тов', 'по': '1', 'вопрос': '-', 'недвижимость': '-'}\n",
            "{'юридический': 'назн', 'услуга': 'тов', 'в': '-', 'сфера': 'тип', 'автомобильный': '1', 'грузоперевозка': '-'}\n",
            "{'тендерный': 'назн', 'сопровождение': 'тов', 'под': '1', 'ключ': '-'}\n",
            "{'вывоз': 'тов', 'строительный': 'тип', 'мусор': '1'}\n",
            "{'чистка': 'тов', 'уборка': 'тов', 'и': '-', 'вывоз': 'тов', 'снег': 'назн'}\n",
            "{'вывоз': 'тов', 'строительный': 'тип', 'мусор': '1', 'камаз': '-', '10м315тонна': '-'}\n",
            "{'контейнер': 'тов', '40': '1', 'фут': '-', 'dc': '-'}\n",
            "{'контейнер': 'тов', '20': '-', 'фут': '-', 'dc': '-', 'новый': 'тип'}\n",
            "{'контейнер': 'тов', 'самоопрокидывающийся': 'тип'}\n",
            "{'морской': 'назн', 'контейнер': 'тов'}\n",
            "{'стрелочный': 'тип', 'перевод': 'тов', 'марка': '1', 'р65': '-', '19': '-', 'проект': '-', '2434': '-', 'демонтаж': '-', 'без': '-', 'износ': '-'}\n",
            "{'рельс': 'тов', 'новый': 'тип', 'и': '-', 'бу': 'тип'}\n",
            "{'накладка': 'тов', '2р65': '-', 'старогодный': 'тип'}\n",
            "{'шпала': 'тов', 'деревянный': 'мат', 'бу': 'тип', '1': '-', 'сорт': 'тип', 'рязань': 'гор'}\n",
            "{'шпала': 'тов', 'железобетонный': 'мат', 'бу': 'тип', 'ш1': '-'}\n",
            "{'шпала': 'тов', 'бу': 'тип', '1': '1', 'группа': '-'}\n",
            "{'рельс': 'тов', 'р50': 'мод'}\n",
            "{'подкладка': 'тов', 'накладка': 'тов', 'рельс': 'тов', 'в': '-', 'наличие': 'тип'}\n",
            "{'железнодорожный': 'тип', 'настил': 'тов', 'переезд': '1'}\n",
            "{'стрелочный': 'назн', 'перевод': 'тов', 'р50': '1', '19': '-', '111': '-'}\n",
            "{'международный': 'тип', 'перевозка': 'тов', 'груз': '1', 'европароссияевроп': '-'}\n",
            "{'грузоперевозка': 'тов', 'сборный': 'тип', 'и': '-', 'генеральный': 'тип', 'груз': '1', 'от': '-', '1': '-', 'кг': '-'}\n",
            "{'внутригородской': 'тип', 'перевозка': 'тов', 'город': 'гор', 'кемерово': 'разм', 'вес': 'разм', 'кг': 'разм', 'объём': '1', 'м3': '-', '1000112000': '-', '3001450': '-', 'норма': '-', 'время': '-', 'на': '-', 'погрузка': '-', 'выгрузка': '-', 'склад': '-', 'мина': '-', '60': '-'}\n",
            "{'услуга': 'тов', 'фронтальный': 'тип', 'погрузчик': '1', '18': '-', '2': '-', 'м3': '-', 'час': '-'}\n",
            "{'подбор': 'тов', 'квартира': 'тов', 'в': '-', 'новостройка': 'тип', 'спб': 'гор', 'и': '1', 'ло': '-'}\n",
            "{'3': '-', 'комнатный': 'тип', 'квартира': 'тов', 'в': '-', 'новостройка': 'тип'}\n",
            "{'2': '-', 'комнатный': 'тип', 'квартира': 'тов', 'в': '-', 'новостройка': 'тип'}\n",
            "{'модульный': 'тип', 'блокконтейнер': 'тов', 'бытовка': 'тип'}\n",
            "{'блок': 'тип', 'контейнер': 'тов', 'для': '-', 'дача': 'назн'}\n",
            "{'модульный': 'тип', 'здание': 'тов', 'для': '-', 'разный': 'тип', 'оборудование': 'назн'}\n",
            "{'бытовка': 'тов', 'вагончик': 'тип', 'офис': '1'}\n",
            "{'промышленный': 'назн', 'и': '-', 'модульный': 'тип', 'здание': 'тов'}\n",
            "{'бытовка': 'тов', 'базовый': 'тип'}\n",
            "{'бытовка': 'тов', 'монтажный': 'тип'}\n",
            "{'дачный': 'тип', 'домик': 'тов', 'бытовка': 'тип'}\n",
            "{'остекление': 'тов', 'балкон': 'тип', 'и': '-', 'лоджия': 'тип'}\n",
            "{'полимерный': 'тип', 'порошковый': 'тип', 'окраска': 'тов'}\n",
            "{'изготовление': 'тов', 'ландшафтный': 'тип', 'макет': 'назн'}\n",
            "{'косметический': 'тип', 'ремонт': 'тов', 'и': '-', 'отделка': 'тов', 'помещение': 'тип', 'от': '1', '2500': '-', 'руб': '-', 'квм': '-'}\n",
            "{'ремонт': 'тов', 'и': '-', 'отделка': '-', 'помещение': '1', 'любой': '-', 'сложность': '-', 'общестроительный': '-', 'работа': '-', 'внутренний': '-', 'барельеф': '-', 'художественный': '-', 'роспись': '-', 'декоративный': '-', 'штукатурка': '-'}\n",
            "{'продать': 'тов', 'радиатор': 'тов'}\n",
            "{'радиатор': 'тов', 'алюм': 'мат', 'alcobro': '1', '2е3508012': '-'}\n",
            "{'радиатор': 'тов', 'параллель': 'тип'}\n",
            "{'насос': 'тов', 'погружной': 'назн', 'дренажный': 'тип', 'dab': '1', 'verty': '-', 'nova': '-', '200': '-', 'ma': '-', 'для': '-', 'автономный': '-', 'канализация': '-', 'kolo': '-', 'vesi': '-', 'с': '-', 'поплавковый': '-', 'выключатель': '-'}\n",
            "{'алюминиевый': 'мат', 'радиатор': 'тов', 'global': '1', 'iseo': '-'}\n",
            "{'продажа': 'тов', 'покраска': 'тов', 'и': '-', 'реставрация': 'тов', 'чугунный': 'мат', 'радиатор': 'тов'}\n",
            "{'продать': 'тов', 'биметаллический': 'тип', 'радиатор': 'тов', 'отопление': 'тип'}\n",
            "{'стальной': 'мат', 'радиатор': 'тов', 'prado': '1', '225001000': '-'}\n",
            "{'стальной': 'мат', 'радиатор': 'тов', 'luxuni': '1'}\n",
            "{'стальной': 'мат', 'радиатор': 'тов', 'prado': '1'}\n",
            "{'стальной': 'мат', 'панельный': 'тип', 'радиатор': 'тов', 'henrad': '1', 'v22': '-', '300х1000': '-'}\n",
            "{'радиатор': 'товар', 'prado': 'бренд', 'universal': 'бренд', 'тип': '-', '11x500x500': 'размер', 'нижний': '-', 'подводка': 'размер'}\n",
            "{'радиатор': 'тов', 'prado': 'бренд', 'universal': 'бренд', 'тип': '-', '11x300x1600': 'раз', 'нижний': '1', 'подводка': '-'}\n",
            "{'радиатор': 'тов', 'панель': '1', 'с': '-'}\n",
            "{'радиатор': 'тов', 'панель': '1', 'с': '-'}\n",
            "{'радиатор': 'тов', 'logatrend': 'бренд', 'vkprofil': 'бренд', '22600900': '-'}\n",
            "{'радиатор': 'тов', 'logatrend': 'бренд', 'vkprofil': 'бренд', '22600600': 'бренд'}\n",
            "{'радиатор': 'тов', 'logatrend': 'бренд', 'vkprofil': 'бренд', '22400400': '-'}\n",
            "{'блок': 'тов', 'фудаментный': 'назн', 'фбс': '1', '2446': '-'}\n",
            "{'сайдинга': 'тов', 'docke': 'бренд', 'блок': '1', 'хаус': '-'}\n",
            "{'блок': 'тов', 'пазогребневый': 'назн', 'русеана': 'бренд', 'пгп': '-', '667х500х80': 'раз', 'мм': 'раз'}\n",
            "{'блок': '-', 'портальный': 'назн', 'стенка': '-', 'фундамент': 'назн', 'тпр': '1', '503701590': '-'}\n",
            "{'блок': 'тов', 'бонолита': 'материал', 'd600': 'бренд', 'стеновый': 'назн'}\n",
            "{'фундаментный': 'назн', 'блок': 'тов', 'фбс': '-'}\n",
            "{'блок': 'тов', 'упор': 'назн', 'у1': 'бренд', 'серия': '-', '35011156': '-'}\n",
            "{'фундаментный': 'назн', 'блок': 'товар', 'фбс': '-', '2436': '-'}\n",
            "{'блок': 'тов', 'вентиляционный': 'назн', 'вб': 'бренд', '1901': '-'}\n",
            "{'блок': 'тов', 'бетонный': 'назн', 'для': '1', 'стена': '-', 'подвал': '-'}\n",
            "{'блок': 'тов', 'газобетонный': 'назн', 'д500': 'мод'}\n",
            "{'вентиляционный': 'назн', 'блок': 'тов', 'вб228': 'мод'}\n",
            "{'керамический': 'мат', 'блок': 'тов', 'с': '1', 'пазогребнев': '-', 'соединение': '-'}\n",
            "{'фундаментный': 'назн', 'блок': 'тов', 'фбс': 'мод', '9х3х6': 'раз'}\n",
            "{'строительство': 'тов', 'дом': '1', 'из': '-', 'газобетонный': '-', 'блок': '-'}\n",
            "{'фбс': 'мод', 'фундаментный': 'назн', 'блок': 'тов', 'стена': '-'}\n",
            "{'газосиликатный': 'назн', 'блок': 'тов', 'автоклавный': 'назн', 'твердение': '-'}\n",
            "{'железобетонный': 'мат', 'изделие': 'тов', 'жби': 'тип', 'плита': '1', 'блок': '-', 'кольцо': '-', 'перемычка': '-', 'свая': '-'}\n",
            "{'фундаментный': 'назн', 'блок': 'тов', 'фбс': 'тип', '2466': 'модель', '2380х600х580': 'раз', 'бу': 'тип'}\n",
            "{'лоток': 'тов', 'железобетонный': 'мат', 'водоотводный': 'назн', 'сооружение': '-', 'на': '-', 'автомобильный': 'назн', 'дорога': '-', 'серия': '-', '3503166': 'мод', 'изделие': '-', 'блок': '-', 'б8': 'тип'}\n",
            "{'блок': '-', 'фундамент': '1', '45': '-'}\n",
            "{'лекальный': 'назн', 'фундаментный': 'назн', 'блок': 'тов', 'для': '-', 'гофрированный': 'тип', 'водопропускной': 'назн', 'труба': '-'}\n",
            "{'монтажный': 'назн', 'клей': 'тов', 'для': '-', 'блок': '-', 'тонкослойный': '-', 'старатель': '-', '25кг': 'разм'}\n",
            "{'клей': 'тов', 'дяч': '-', 'бетон': '-', 'блок': '-', '25кг': 'раз', 'ливнапрофит': 'бренд'}\n",
            "{'блок': 'тов', 'фундаментный': 'назн', 'стеновый': 'назн', 'по': '-', 'гост': 'гост', '1357978': 'мод', 'фбс': 'тип', '1243': '1', 'так': '-'}\n",
            "{'блок': 'тов', 'бетонный': 'мат', 'из': '-', 'тяжёлый': 'тип', 'бетон': '-', 'класс': '-', 'в': '-', '75': '1', 'марк': '-', 'м': '-', '100': '-', 'по': '-', 'гост': '-', '1357978': '-', 'фбс': '-', '1243т': '-'}\n",
            "{'пеноблок': 'тов', 'на': '-', 'полуавтоматический': 'тип', 'линия': '-', 'по': '-', 'гост': 'гост', '2152089': '-', 'с': '1', 'заливка': '-', 'в': '-', 'металлоформа': '-', 'блок': '-', 'стеновый': '-'}\n",
            "{'блок': 'тов', 'лоток': '-', 'л1': '-', 'и': '-', 'л2': '-', 'по': '-', 'серия': 'тип', '3501318710': 'мод', '3501318301184031850318609': 'мод'}\n",
            "{'блок': 'тов', 'стена': '-', 'подвал': '-', 'фбс956t': 'тип'}\n",
            "{'клей': 'тов', 'конструкционный': 'назн', 'полиуретановый': 'тип', 'профессиональный': 'тип', 'всесезонный': 'тип', 'для': '-', 'строительный': 'назн', 'блок': 'тов', 'и': '-', 'кирпич': 'мат', 'kudo': 'бренд', 'proff': 'бренд', '28': '1', 'новинка': '-'}\n",
            "{'фундаментный': 'назн', 'блок': 'тов', 'гост1357978': 'гост', 'фбс': 'тип', '666': 'мод', 'вес': 'раз', 'так': '-', '053': '-', 'размер': 'раз', 'мм': 'раз', 'длинаширинавысота': 'раз', '580х600х580': 'раз'}\n",
            "{'фундаментный': 'назн', 'блок': 'тов', 'стеновый': 'назн', 'фбс': 'тип', '1256': 'мод', 'так': '-'}\n",
            "{'блок': 'тов', 'фундаментный': 'назн', 'фбс': 'тип', '1236': 'мод'}\n",
            "{'плита': 'тов', 'дорожный': 'тип', '2п301810': 'мод'}\n",
            "{'плита': 'тов', 'дорожный': 'назн', 'пд': 'тип', '20156': 'мод'}\n",
            "{'плита': 'тов', 'дорожный': 'назн', 'пд16': 'мод'}\n",
            "{'плита': 'тов', 'дорожный': 'назн', 'пд195': 'мод'}\n",
            "{'плита': 'тов', 'дорожный': 'назн', 'пд323': 'мод'}\n",
            "{'плита': 'тов', 'дорожный': 'назн', '2п': 'тип', '301830': 'мод', '3000х1750': 'раз', 'мм': 'раз', 'аэродромный': 'назн'}\n",
            "{'плита': 'тов', 'дорожный': 'назн', '1п': 'тип', '301830': 'мод', '3000х1750': 'раз', 'мм': 'раз'}\n",
            "{'плита': 'тов', 'дорожный': 'назн', 'по3': 'мод', 'с': '1', 'отв': '-', 'ф': '-', '700': '-'}\n",
            "{'плита': 'тов', 'дорожный': 'назн', 'пд': 'мод', 'лт': 'мод', 'с': '-', 'отверстие': '-', 'под': '-', 'люк': '-', 'd700': 'мод'}\n",
            "{'плита': 'тов', 'дорожный': 'назн', 'с': '1', 'ниша': '-', 'для': '-', 'люк': '-', 'пд': '-', '10': '-', 'жб': '-'}\n",
            "{'плита': '1', 'дорожный': '-', 'с': '-', 'ниша': '-', 'для': '-', 'люк': '-', 'пд': '-', '6': '-'}\n",
            "{'плита': 'тов', 'дорожный': 'назн', '1п': 'мод', '301510': 'мод', '3000х1500': 'раз', 'мм': 'раз'}\n",
            "{'плита': 'тов', 'дорожный': 'назн', '1п': 'мод', '301810': 'мод', '3000х1750': 'раз', 'мм': 'раз'}\n",
            "{'свая': 'тов', 'железобетонный': 'мат', 'сх306': 'мод'}\n",
            "{'свая': 'тов', 'железобетонный': 'мат', 'сх4013': 'мод'}\n",
            "{'свая': 'тов', 'железобетонный': 'мат', 'сх3510': 'мод'}\n",
            "{'свая': 'тов', 'железобетонный': 'мат', 'сх309': 'мод'}\n",
            "{'свая': 'тов', 'железобетонный': 'мат', 'сх3011': 'мод'}\n",
            "{'плита': 'тов', 'пк': 'мод', '56128': 'мод', 'перекрытие': '1', 'пустотный': '-'}\n",
            "{'свая': 'тов', 'железобетонный': 'мат', 'c7035внсв4': 'мод'}\n",
            "{'лоток': '-', 'междушпальный': 'тип', 'крышка': '1', 'кр1': '-'}\n",
            "{'свая': 'тов', 'с': '-', '35210н': 'мод'}\n",
            "{'свая': 'тов', 'с': '-', '2516н': 'мод'}\n",
            "{'свая': 'тов', 'с': '-', '25161': 'мод'}\n",
            "{'свая': 'тов', 'с': '-', '352120': 'мод'}\n",
            "{'свая': 'тов', 'с': '-', '35280': 'мод'}\n",
            "{'свая': 'тов', 'с': '-', '25181': 'мод'}\n",
            "{'шпатель': 'тов', 'зубр': 'тип', 'мастер': '-', 'фасадный': 'назн', 'нержавеющий': 'мат', 'полотно': '-', '450мма': 'раз', 'зуб': '-', '6х6мма': 'раз'}\n",
            "{'шпатель': 'тов', 'зубр': '1', 'мастер': '-', 'фасадный': '-', 'нержавеющий': '-', 'полотно': '-', '300мма': '-', 'зуб': '-', '10х10мма': '-'}\n",
            "{'шпатель': 'тов', 'зубр': 'тип', 'профессионал': 'назн', 'профилировать': 'назн', 'нержавеющий': 'мат', 'полотно': 'раз', '2к': 'раз', 'ручка': 'раз', '100мма': 'раз'}\n",
            "{'шпатель': 'тов', 'зубр': 'тов', 'профессионал': 'назн', 'профилировать': 'назн', 'нержавеющий': 'мат', 'полотно': 'раз', '2к': 'раз', 'ручка': 'раз', '40мма': 'раз'}\n",
            "{'proflat': 'бренд', 'фасадный': 'наз', 'шпатель': 'тов', 'анодировать': 'назн', '470': 'раз', 'мм': 'раз', '2к': 'раз', 'ручка': 'раз', 'stayer': 'тип'}\n",
            "{'валик': 'тов', 'сменный': 'тип', 'pro': 'мод', 'line': 'мод', '180': 'мод', 'мм': '-', 'ворс': 'раз', '18': 'тов', 'd': 'раз', '40': 'раз', 'ручка': '1', '6': '-', 'mtx': '-'}\n",
            "{'кисть': 'тов', 'плоский': 'тип', 'stayer': 'бренд', 'universallux': 'бренд', 'светлый': 'тип', 'натуральный': 'тип', 'щетина': 'тов', 'деревянный': 'мат', 'ручка': 'тов', '50мма': 'раз', 'артикул': 'мод', '01053050': 'мод'}\n",
            "{'валик': 'тов', '848250': 'мод', '56407': 'мод', 'акция': 'тип', 'велюр': 'мат', 'оранжевый': 'цвет', 'с': '1', 'ручка': '-', 'ворс': '-', '4мм': '-', '50': '-', 'в': '-', 'кор': '-', 'дер': '-', 'мастер': '-', 'rcrh09': '-'}\n",
            "{'валик': 'тов', 'сменный': 'тип', 'matrix': 'бред', 'политекс': '1', 'фасад': '-', '250': '-', 'мм': '-', '80768': '-'}\n",
            "{'валик': 'тов', 'малярный': 'тип', 'matrix': 'бренд', 'микрофибра': 'мат', 'сменный': 'тип', '180': 'раз', 'мм': 'раз', '80702': 'мод'}\n",
            "{'валик': 'тов', 'малярный': 'тип', 'matrix': 'бренд', 'угловой': 'тип', 'd': '1', '75': '-', 'мм': '-', '80680': '-'}\n",
            "{'валик': 'тов', 'pro': 'мод', 'line': 'мод', '250': 'раз', 'мм': '-', 'ворс': 'мат', '18': 'раз', 'd': '1', '48': 'раз', 'ручка': '-', '6': '-', 'mtx': '-', '81318': '-'}\n",
            "{'кисть': 'тов', 'макловица': 'мат', '170': 'раз', 'х': 'раз', '70': 'раз', 'мм': 'раз', 'искусственный': 'тип', 'щетина': '-', 'деревянный': 'мат', 'корпус': '-', 'пластмассовый': 'мат', 'ручка': '-', 'matrix': 'бренд', '84086': 'мод'}\n",
            "{'кисть': 'тов', 'макловица': 'мат', '50': 'раз', 'х': 'раз', '150': 'раз', 'мм': 'раз', 'натуральный': 'тип', 'щетина': 'тип', 'пластмассовый': 'мат', 'корпус': 'тип', 'ручка': 'тип', 'sparta': '1', '84124': '-'}\n",
            "{'шпатель': 'тов', 'нержавеющий': 'тип', 'сибин': '-', 'зубчатый': 'тип', 'с': '-', 'пластмассовый': 'мат', 'ручка': 'тип', 'зуб': 'тип', '6х6мма': 'разм', '300мма': 'раз'}\n",
            "{'шпатель': 'тов', 'нержавеющий': 'тип', 'сибин': '-', 'зубчатый': 'тип', 'с': '-', 'пластмассовый': 'мат', 'ручка': 'мат', 'зуб': 'мат', '6х6мма': 'раз', '250мма': 'раз'}\n"
          ]
        }
      ],
      "source": [
        "for i in with_metka.iterrows():\n",
        "    print(i[1][2])"
      ]
    },
    {
      "cell_type": "markdown",
      "id": "1d38a4d0-2275-41b3-9688-cc2b4a07e327",
      "metadata": {
        "id": "1d38a4d0-2275-41b3-9688-cc2b4a07e327"
      },
      "source": [
        "##### Моя часть разметки (после перезапуска ячеек слетели input'ы, именно из-за этого через 3 ячейки я закоммитился)"
      ]
    },
    {
      "cell_type": "code",
      "execution_count": null,
      "id": "046e03de-30ad-4e27-be6c-2bda320191fe",
      "metadata": {
        "collapsed": true,
        "jupyter": {
          "outputs_hidden": true
        },
        "tags": [],
        "id": "046e03de-30ad-4e27-be6c-2bda320191fe",
        "outputId": "4cd6bdde-c989-4eac-b52a-279c92d1c6d8"
      },
      "outputs": [
        {
          "ename": "NameError",
          "evalue": "name 'razmetka' is not defined",
          "output_type": "error",
          "traceback": [
            "\u001b[0;31m---------------------------------------------------------------------------\u001b[0m",
            "\u001b[0;31mNameError\u001b[0m                                 Traceback (most recent call last)",
            "\u001b[0;32m/var/folders/wm/2lqrdly935l4760kvrhk__dw0000gn/T/ipykernel_1648/2114372364.py\u001b[0m in \u001b[0;36m<module>\u001b[0;34m\u001b[0m\n\u001b[1;32m      2\u001b[0m \u001b[0;32mwhile\u001b[0m \u001b[0;32mTrue\u001b[0m\u001b[0;34m:\u001b[0m\u001b[0;34m\u001b[0m\u001b[0;34m\u001b[0m\u001b[0m\n\u001b[1;32m      3\u001b[0m     \u001b[0mnumber\u001b[0m \u001b[0;34m=\u001b[0m \u001b[0mrandom\u001b[0m\u001b[0;34m.\u001b[0m\u001b[0mrandint\u001b[0m\u001b[0;34m(\u001b[0m\u001b[0;36m0\u001b[0m\u001b[0;34m,\u001b[0m \u001b[0;36m104000\u001b[0m\u001b[0;34m)\u001b[0m\u001b[0;34m\u001b[0m\u001b[0;34m\u001b[0m\u001b[0m\n\u001b[0;32m----> 4\u001b[0;31m     \u001b[0mrazmetka\u001b[0m\u001b[0;34m(\u001b[0m\u001b[0;34m[\u001b[0m\u001b[0mnumber\u001b[0m\u001b[0;34m,\u001b[0m \u001b[0mnumber\u001b[0m \u001b[0;34m+\u001b[0m \u001b[0;36m1\u001b[0m\u001b[0;34m]\u001b[0m\u001b[0;34m,\u001b[0m \u001b[0mhalf_metka\u001b[0m\u001b[0;34m)\u001b[0m\u001b[0;34m\u001b[0m\u001b[0;34m\u001b[0m\u001b[0m\n\u001b[0m",
            "\u001b[0;31mNameError\u001b[0m: name 'razmetka' is not defined"
          ]
        }
      ],
      "source": [
        "import random\n",
        "while True:\n",
        "    number = random.randint(0, 104000)\n",
        "    razmetka([number, number + 1], half_metka)"
      ]
    },
    {
      "cell_type": "code",
      "execution_count": null,
      "id": "76b08d0e-9564-4e92-88b7-28b840b8b1b8",
      "metadata": {
        "collapsed": true,
        "jupyter": {
          "outputs_hidden": true
        },
        "tags": [],
        "id": "76b08d0e-9564-4e92-88b7-28b840b8b1b8",
        "outputId": "8486e2a2-a009-476e-b01f-5d47aafce57c"
      },
      "outputs": [
        {
          "data": {
            "text/plain": [
              "(166, 3)"
            ]
          },
          "execution_count": 19,
          "metadata": {},
          "output_type": "execute_result"
        }
      ],
      "source": [
        "with_metka = half_metka[half_metka.Razme4.isna() == False]\n",
        "with_metka.shape"
      ]
    },
    {
      "cell_type": "markdown",
      "id": "9ea84d1f-24a7-437e-bdd9-2e3e67d1bb8a",
      "metadata": {
        "id": "9ea84d1f-24a7-437e-bdd9-2e3e67d1bb8a"
      },
      "source": [
        "Всего было размечено 282 тайтла, исходя из которых был сформирован сэмпл из 600 наблюдений."
      ]
    },
    {
      "cell_type": "markdown",
      "id": "d9e0b917-f0d8-46b3-aae6-71f906cf73a6",
      "metadata": {
        "id": "d9e0b917-f0d8-46b3-aae6-71f906cf73a6"
      },
      "source": [
        "Сохранение данных для дальнейшего использования"
      ]
    },
    {
      "cell_type": "code",
      "execution_count": null,
      "id": "e90f9333-227d-4887-8bb3-25251640aec9",
      "metadata": {
        "tags": [],
        "id": "e90f9333-227d-4887-8bb3-25251640aec9"
      },
      "outputs": [],
      "source": [
        "with_metka.to_csv('282_mechennih')"
      ]
    },
    {
      "cell_type": "code",
      "execution_count": 11,
      "id": "2df65664-fa12-4dfe-9aeb-5e3f36431051",
      "metadata": {
        "id": "2df65664-fa12-4dfe-9aeb-5e3f36431051"
      },
      "outputs": [],
      "source": [
        "with open('/content/drive/MyDrive/282_mechennih_js', 'r', encoding='utf-8') as f:\n",
        "    with_metka = json.load(f)"
      ]
    },
    {
      "cell_type": "markdown",
      "id": "1d26a07f-fda3-494a-acdb-4bfd2cb18099",
      "metadata": {
        "id": "1d26a07f-fda3-494a-acdb-4bfd2cb18099"
      },
      "source": [
        "<a id=\"5\"></a>\n",
        "## <b>5 <span style='color:#43a842'>|</span> Creating a sample </b>\n",
        "* [Оглавление](#0)"
      ]
    },
    {
      "cell_type": "markdown",
      "id": "a586735e-a728-4edf-b585-2997a5a60602",
      "metadata": {
        "id": "a586735e-a728-4edf-b585-2997a5a60602"
      },
      "source": [
        "При создании итоговой выборки была проведена итерация по всем словарям, в ходе которых значения в них были распакованы и разбросаны в 2 списка: фича, таргет. "
      ]
    },
    {
      "cell_type": "code",
      "execution_count": 12,
      "id": "20acd28a-c7ba-40a9-b400-7615806570b4",
      "metadata": {
        "id": "20acd28a-c7ba-40a9-b400-7615806570b4"
      },
      "outputs": [],
      "source": [
        "df = pd.DataFrame({'Sentence': [], 'Token': [], 'Tag': []})\n",
        "count = 0\n",
        "tag_list, target_list, sentence = [], [], []\n",
        "for i in with_metka['Razme4'].values():\n",
        "    if len(i) in (np.arange(38, 10**3)):\n",
        "        continue\n",
        "    count += 1\n",
        "    for key, value in dict(i).items():\n",
        "        tag_list.append(value)\n",
        "        target_list.append(key)\n",
        "        sentence.append(count)"
      ]
    },
    {
      "cell_type": "code",
      "execution_count": 13,
      "id": "e2059381-c932-4ed1-91aa-778ece7d8391",
      "metadata": {
        "id": "e2059381-c932-4ed1-91aa-778ece7d8391"
      },
      "outputs": [],
      "source": [
        "df.Token = target_list\n",
        "df.Sentence = sentence\n",
        "df.Tag = tag_list"
      ]
    },
    {
      "cell_type": "code",
      "execution_count": 14,
      "id": "a408be67-2964-4360-a02b-5ef5f46a1d73",
      "metadata": {
        "colab": {
          "base_uri": "https://localhost:8080/",
          "height": 206
        },
        "id": "a408be67-2964-4360-a02b-5ef5f46a1d73",
        "outputId": "043278d9-593d-4f9b-b379-cceb16cfb676"
      },
      "outputs": [
        {
          "output_type": "execute_result",
          "data": {
            "text/plain": [
              "   Sentence      Token    Tag\n",
              "0         1  аквавошер    тов\n",
              "1         1      clean  бренд\n",
              "2         1       cube  бренд\n",
              "3         1        рro  бренд\n",
              "4         1        для      -"
            ],
            "text/html": [
              "\n",
              "  <div id=\"df-67508569-a4fe-4e7c-bc0d-0f39035a09cb\">\n",
              "    <div class=\"colab-df-container\">\n",
              "      <div>\n",
              "<style scoped>\n",
              "    .dataframe tbody tr th:only-of-type {\n",
              "        vertical-align: middle;\n",
              "    }\n",
              "\n",
              "    .dataframe tbody tr th {\n",
              "        vertical-align: top;\n",
              "    }\n",
              "\n",
              "    .dataframe thead th {\n",
              "        text-align: right;\n",
              "    }\n",
              "</style>\n",
              "<table border=\"1\" class=\"dataframe\">\n",
              "  <thead>\n",
              "    <tr style=\"text-align: right;\">\n",
              "      <th></th>\n",
              "      <th>Sentence</th>\n",
              "      <th>Token</th>\n",
              "      <th>Tag</th>\n",
              "    </tr>\n",
              "  </thead>\n",
              "  <tbody>\n",
              "    <tr>\n",
              "      <th>0</th>\n",
              "      <td>1</td>\n",
              "      <td>аквавошер</td>\n",
              "      <td>тов</td>\n",
              "    </tr>\n",
              "    <tr>\n",
              "      <th>1</th>\n",
              "      <td>1</td>\n",
              "      <td>clean</td>\n",
              "      <td>бренд</td>\n",
              "    </tr>\n",
              "    <tr>\n",
              "      <th>2</th>\n",
              "      <td>1</td>\n",
              "      <td>cube</td>\n",
              "      <td>бренд</td>\n",
              "    </tr>\n",
              "    <tr>\n",
              "      <th>3</th>\n",
              "      <td>1</td>\n",
              "      <td>рro</td>\n",
              "      <td>бренд</td>\n",
              "    </tr>\n",
              "    <tr>\n",
              "      <th>4</th>\n",
              "      <td>1</td>\n",
              "      <td>для</td>\n",
              "      <td>-</td>\n",
              "    </tr>\n",
              "  </tbody>\n",
              "</table>\n",
              "</div>\n",
              "      <button class=\"colab-df-convert\" onclick=\"convertToInteractive('df-67508569-a4fe-4e7c-bc0d-0f39035a09cb')\"\n",
              "              title=\"Convert this dataframe to an interactive table.\"\n",
              "              style=\"display:none;\">\n",
              "        \n",
              "  <svg xmlns=\"http://www.w3.org/2000/svg\" height=\"24px\"viewBox=\"0 0 24 24\"\n",
              "       width=\"24px\">\n",
              "    <path d=\"M0 0h24v24H0V0z\" fill=\"none\"/>\n",
              "    <path d=\"M18.56 5.44l.94 2.06.94-2.06 2.06-.94-2.06-.94-.94-2.06-.94 2.06-2.06.94zm-11 1L8.5 8.5l.94-2.06 2.06-.94-2.06-.94L8.5 2.5l-.94 2.06-2.06.94zm10 10l.94 2.06.94-2.06 2.06-.94-2.06-.94-.94-2.06-.94 2.06-2.06.94z\"/><path d=\"M17.41 7.96l-1.37-1.37c-.4-.4-.92-.59-1.43-.59-.52 0-1.04.2-1.43.59L10.3 9.45l-7.72 7.72c-.78.78-.78 2.05 0 2.83L4 21.41c.39.39.9.59 1.41.59.51 0 1.02-.2 1.41-.59l7.78-7.78 2.81-2.81c.8-.78.8-2.07 0-2.86zM5.41 20L4 18.59l7.72-7.72 1.47 1.35L5.41 20z\"/>\n",
              "  </svg>\n",
              "      </button>\n",
              "      \n",
              "  <style>\n",
              "    .colab-df-container {\n",
              "      display:flex;\n",
              "      flex-wrap:wrap;\n",
              "      gap: 12px;\n",
              "    }\n",
              "\n",
              "    .colab-df-convert {\n",
              "      background-color: #E8F0FE;\n",
              "      border: none;\n",
              "      border-radius: 50%;\n",
              "      cursor: pointer;\n",
              "      display: none;\n",
              "      fill: #1967D2;\n",
              "      height: 32px;\n",
              "      padding: 0 0 0 0;\n",
              "      width: 32px;\n",
              "    }\n",
              "\n",
              "    .colab-df-convert:hover {\n",
              "      background-color: #E2EBFA;\n",
              "      box-shadow: 0px 1px 2px rgba(60, 64, 67, 0.3), 0px 1px 3px 1px rgba(60, 64, 67, 0.15);\n",
              "      fill: #174EA6;\n",
              "    }\n",
              "\n",
              "    [theme=dark] .colab-df-convert {\n",
              "      background-color: #3B4455;\n",
              "      fill: #D2E3FC;\n",
              "    }\n",
              "\n",
              "    [theme=dark] .colab-df-convert:hover {\n",
              "      background-color: #434B5C;\n",
              "      box-shadow: 0px 1px 3px 1px rgba(0, 0, 0, 0.15);\n",
              "      filter: drop-shadow(0px 1px 2px rgba(0, 0, 0, 0.3));\n",
              "      fill: #FFFFFF;\n",
              "    }\n",
              "  </style>\n",
              "\n",
              "      <script>\n",
              "        const buttonEl =\n",
              "          document.querySelector('#df-67508569-a4fe-4e7c-bc0d-0f39035a09cb button.colab-df-convert');\n",
              "        buttonEl.style.display =\n",
              "          google.colab.kernel.accessAllowed ? 'block' : 'none';\n",
              "\n",
              "        async function convertToInteractive(key) {\n",
              "          const element = document.querySelector('#df-67508569-a4fe-4e7c-bc0d-0f39035a09cb');\n",
              "          const dataTable =\n",
              "            await google.colab.kernel.invokeFunction('convertToInteractive',\n",
              "                                                     [key], {});\n",
              "          if (!dataTable) return;\n",
              "\n",
              "          const docLinkHtml = 'Like what you see? Visit the ' +\n",
              "            '<a target=\"_blank\" href=https://colab.research.google.com/notebooks/data_table.ipynb>data table notebook</a>'\n",
              "            + ' to learn more about interactive tables.';\n",
              "          element.innerHTML = '';\n",
              "          dataTable['output_type'] = 'display_data';\n",
              "          await google.colab.output.renderOutput(dataTable, element);\n",
              "          const docLink = document.createElement('div');\n",
              "          docLink.innerHTML = docLinkHtml;\n",
              "          element.appendChild(docLink);\n",
              "        }\n",
              "      </script>\n",
              "    </div>\n",
              "  </div>\n",
              "  "
            ]
          },
          "metadata": {},
          "execution_count": 14
        }
      ],
      "source": [
        "df.head()"
      ]
    },
    {
      "cell_type": "code",
      "source": [
        "from google.colab import drive\n",
        "drive.mount('/content/drive')"
      ],
      "metadata": {
        "id": "DvgGhN8X0I85",
        "colab": {
          "base_uri": "https://localhost:8080/"
        },
        "outputId": "ec4faa2e-be8c-4bfd-9789-6cb4a38c2be7"
      },
      "id": "DvgGhN8X0I85",
      "execution_count": 3,
      "outputs": [
        {
          "output_type": "stream",
          "name": "stdout",
          "text": [
            "Mounted at /content/drive\n"
          ]
        }
      ]
    },
    {
      "cell_type": "code",
      "source": [
        "df.groupby('Sentence').agg({'Tag': 'count'}).sort_values('Tag')"
      ],
      "metadata": {
        "colab": {
          "base_uri": "https://localhost:8080/",
          "height": 455
        },
        "id": "UiX2vvF_mfWI",
        "outputId": "ba546774-092c-4be0-b4d1-db01fe8df991"
      },
      "id": "UiX2vvF_mfWI",
      "execution_count": null,
      "outputs": [
        {
          "output_type": "execute_result",
          "data": {
            "text/plain": [
              "          Tag\n",
              "Sentence     \n",
              "65          2\n",
              "66          2\n",
              "31          2\n",
              "29          2\n",
              "41          2\n",
              "...       ...\n",
              "120        14\n",
              "157        15\n",
              "76         16\n",
              "116        16\n",
              "55         17\n",
              "\n",
              "[165 rows x 1 columns]"
            ],
            "text/html": [
              "\n",
              "  <div id=\"df-1078ce9b-ad10-4f61-bbfe-21ba0596be95\">\n",
              "    <div class=\"colab-df-container\">\n",
              "      <div>\n",
              "<style scoped>\n",
              "    .dataframe tbody tr th:only-of-type {\n",
              "        vertical-align: middle;\n",
              "    }\n",
              "\n",
              "    .dataframe tbody tr th {\n",
              "        vertical-align: top;\n",
              "    }\n",
              "\n",
              "    .dataframe thead th {\n",
              "        text-align: right;\n",
              "    }\n",
              "</style>\n",
              "<table border=\"1\" class=\"dataframe\">\n",
              "  <thead>\n",
              "    <tr style=\"text-align: right;\">\n",
              "      <th></th>\n",
              "      <th>Tag</th>\n",
              "    </tr>\n",
              "    <tr>\n",
              "      <th>Sentence</th>\n",
              "      <th></th>\n",
              "    </tr>\n",
              "  </thead>\n",
              "  <tbody>\n",
              "    <tr>\n",
              "      <th>65</th>\n",
              "      <td>2</td>\n",
              "    </tr>\n",
              "    <tr>\n",
              "      <th>66</th>\n",
              "      <td>2</td>\n",
              "    </tr>\n",
              "    <tr>\n",
              "      <th>31</th>\n",
              "      <td>2</td>\n",
              "    </tr>\n",
              "    <tr>\n",
              "      <th>29</th>\n",
              "      <td>2</td>\n",
              "    </tr>\n",
              "    <tr>\n",
              "      <th>41</th>\n",
              "      <td>2</td>\n",
              "    </tr>\n",
              "    <tr>\n",
              "      <th>...</th>\n",
              "      <td>...</td>\n",
              "    </tr>\n",
              "    <tr>\n",
              "      <th>120</th>\n",
              "      <td>14</td>\n",
              "    </tr>\n",
              "    <tr>\n",
              "      <th>157</th>\n",
              "      <td>15</td>\n",
              "    </tr>\n",
              "    <tr>\n",
              "      <th>76</th>\n",
              "      <td>16</td>\n",
              "    </tr>\n",
              "    <tr>\n",
              "      <th>116</th>\n",
              "      <td>16</td>\n",
              "    </tr>\n",
              "    <tr>\n",
              "      <th>55</th>\n",
              "      <td>17</td>\n",
              "    </tr>\n",
              "  </tbody>\n",
              "</table>\n",
              "<p>165 rows × 1 columns</p>\n",
              "</div>\n",
              "      <button class=\"colab-df-convert\" onclick=\"convertToInteractive('df-1078ce9b-ad10-4f61-bbfe-21ba0596be95')\"\n",
              "              title=\"Convert this dataframe to an interactive table.\"\n",
              "              style=\"display:none;\">\n",
              "        \n",
              "  <svg xmlns=\"http://www.w3.org/2000/svg\" height=\"24px\"viewBox=\"0 0 24 24\"\n",
              "       width=\"24px\">\n",
              "    <path d=\"M0 0h24v24H0V0z\" fill=\"none\"/>\n",
              "    <path d=\"M18.56 5.44l.94 2.06.94-2.06 2.06-.94-2.06-.94-.94-2.06-.94 2.06-2.06.94zm-11 1L8.5 8.5l.94-2.06 2.06-.94-2.06-.94L8.5 2.5l-.94 2.06-2.06.94zm10 10l.94 2.06.94-2.06 2.06-.94-2.06-.94-.94-2.06-.94 2.06-2.06.94z\"/><path d=\"M17.41 7.96l-1.37-1.37c-.4-.4-.92-.59-1.43-.59-.52 0-1.04.2-1.43.59L10.3 9.45l-7.72 7.72c-.78.78-.78 2.05 0 2.83L4 21.41c.39.39.9.59 1.41.59.51 0 1.02-.2 1.41-.59l7.78-7.78 2.81-2.81c.8-.78.8-2.07 0-2.86zM5.41 20L4 18.59l7.72-7.72 1.47 1.35L5.41 20z\"/>\n",
              "  </svg>\n",
              "      </button>\n",
              "      \n",
              "  <style>\n",
              "    .colab-df-container {\n",
              "      display:flex;\n",
              "      flex-wrap:wrap;\n",
              "      gap: 12px;\n",
              "    }\n",
              "\n",
              "    .colab-df-convert {\n",
              "      background-color: #E8F0FE;\n",
              "      border: none;\n",
              "      border-radius: 50%;\n",
              "      cursor: pointer;\n",
              "      display: none;\n",
              "      fill: #1967D2;\n",
              "      height: 32px;\n",
              "      padding: 0 0 0 0;\n",
              "      width: 32px;\n",
              "    }\n",
              "\n",
              "    .colab-df-convert:hover {\n",
              "      background-color: #E2EBFA;\n",
              "      box-shadow: 0px 1px 2px rgba(60, 64, 67, 0.3), 0px 1px 3px 1px rgba(60, 64, 67, 0.15);\n",
              "      fill: #174EA6;\n",
              "    }\n",
              "\n",
              "    [theme=dark] .colab-df-convert {\n",
              "      background-color: #3B4455;\n",
              "      fill: #D2E3FC;\n",
              "    }\n",
              "\n",
              "    [theme=dark] .colab-df-convert:hover {\n",
              "      background-color: #434B5C;\n",
              "      box-shadow: 0px 1px 3px 1px rgba(0, 0, 0, 0.15);\n",
              "      filter: drop-shadow(0px 1px 2px rgba(0, 0, 0, 0.3));\n",
              "      fill: #FFFFFF;\n",
              "    }\n",
              "  </style>\n",
              "\n",
              "      <script>\n",
              "        const buttonEl =\n",
              "          document.querySelector('#df-1078ce9b-ad10-4f61-bbfe-21ba0596be95 button.colab-df-convert');\n",
              "        buttonEl.style.display =\n",
              "          google.colab.kernel.accessAllowed ? 'block' : 'none';\n",
              "\n",
              "        async function convertToInteractive(key) {\n",
              "          const element = document.querySelector('#df-1078ce9b-ad10-4f61-bbfe-21ba0596be95');\n",
              "          const dataTable =\n",
              "            await google.colab.kernel.invokeFunction('convertToInteractive',\n",
              "                                                     [key], {});\n",
              "          if (!dataTable) return;\n",
              "\n",
              "          const docLinkHtml = 'Like what you see? Visit the ' +\n",
              "            '<a target=\"_blank\" href=https://colab.research.google.com/notebooks/data_table.ipynb>data table notebook</a>'\n",
              "            + ' to learn more about interactive tables.';\n",
              "          element.innerHTML = '';\n",
              "          dataTable['output_type'] = 'display_data';\n",
              "          await google.colab.output.renderOutput(dataTable, element);\n",
              "          const docLink = document.createElement('div');\n",
              "          docLink.innerHTML = docLinkHtml;\n",
              "          element.appendChild(docLink);\n",
              "        }\n",
              "      </script>\n",
              "    </div>\n",
              "  </div>\n",
              "  "
            ]
          },
          "metadata": {},
          "execution_count": 62
        }
      ]
    },
    {
      "cell_type": "code",
      "execution_count": 109,
      "id": "20f6348d-97ea-42cc-9fe6-a9f0ae34478f",
      "metadata": {
        "id": "20f6348d-97ea-42cc-9fe6-a9f0ae34478f"
      },
      "outputs": [],
      "source": [
        "class Sentence_getter(object):\n",
        "    def __init__(self, data):\n",
        "        self.data = data\n",
        "        agg_fun = lambda s: [(w, p) for w, p in zip(s[\"Token\"].values.tolist(),\n",
        "                                                       s['Tag'].values.tolist())]\n",
        "        \n",
        "        self.grouped = self.data.groupby('Sentence').apply(agg_fun)\n",
        "        self.sentences = [i for i in self.grouped]"
      ]
    },
    {
      "cell_type": "code",
      "execution_count": 110,
      "id": "78a297ac-c447-4cf1-acce-615b63fee0cb",
      "metadata": {
        "id": "78a297ac-c447-4cf1-acce-615b63fee0cb"
      },
      "outputs": [],
      "source": [
        "getter = Sentence_getter(df)"
      ]
    },
    {
      "cell_type": "code",
      "execution_count": 111,
      "id": "2d82fc47-2b1c-4d28-9a25-37ba3c8583c1",
      "metadata": {
        "id": "2d82fc47-2b1c-4d28-9a25-37ba3c8583c1"
      },
      "outputs": [],
      "source": [
        "sentences = getter.sentences"
      ]
    },
    {
      "cell_type": "code",
      "execution_count": 112,
      "id": "9031dd73-d23d-43cf-be56-8f5fd959347b",
      "metadata": {
        "colab": {
          "base_uri": "https://localhost:8080/"
        },
        "id": "9031dd73-d23d-43cf-be56-8f5fd959347b",
        "outputId": "5e762f7d-06b7-4d59-988a-41ad5500ab5f"
      },
      "outputs": [
        {
          "output_type": "execute_result",
          "data": {
            "text/plain": [
              "[('аквавошер', 'тов'),\n",
              " ('clean', 'бренд'),\n",
              " ('cube', 'бренд'),\n",
              " ('рro', 'бренд'),\n",
              " ('для', '-'),\n",
              " ('стиральный', 'назн'),\n",
              " ('машина', '-')]"
            ]
          },
          "metadata": {},
          "execution_count": 112
        }
      ],
      "source": [
        "sentences[0]"
      ]
    },
    {
      "cell_type": "code",
      "execution_count": 113,
      "id": "40ebf292-7ea1-4677-a362-0a2ba7bca858",
      "metadata": {
        "id": "40ebf292-7ea1-4677-a362-0a2ba7bca858"
      },
      "outputs": [],
      "source": [
        "words = list(set(df[\"Token\"].values))\n",
        "tags = list(set(df[\"Tag\"].values))"
      ]
    },
    {
      "cell_type": "code",
      "execution_count": 114,
      "id": "04390465-6bcc-4cac-859a-0a8c9125c150",
      "metadata": {
        "id": "04390465-6bcc-4cac-859a-0a8c9125c150"
      },
      "outputs": [],
      "source": [
        "# Creating vocabulary\n",
        "word2idx = {w: i + 1 for i, w in enumerate(words)}\n",
        "tag2idx = {t: i for i, t in enumerate(tags)}"
      ]
    },
    {
      "cell_type": "code",
      "execution_count": 115,
      "id": "dcb0fdef-7aff-49e6-968d-f12eb2b37db3",
      "metadata": {
        "colab": {
          "base_uri": "https://localhost:8080/"
        },
        "id": "dcb0fdef-7aff-49e6-968d-f12eb2b37db3",
        "outputId": "97f72a6a-9144-4617-d279-c92112779513"
      },
      "outputs": [
        {
          "output_type": "execute_result",
          "data": {
            "text/plain": [
              "{'бренд': 0,\n",
              " 'мод': 1,\n",
              " 'назн': 2,\n",
              " 'тип': 3,\n",
              " 'тов': 4,\n",
              " 'мат': 5,\n",
              " '-': 6,\n",
              " 'разм': 7}"
            ]
          },
          "metadata": {},
          "execution_count": 115
        }
      ],
      "source": [
        "tag2idx"
      ]
    },
    {
      "cell_type": "code",
      "execution_count": 116,
      "id": "f963254c-3387-44cd-b8df-2d1c3f3a7169",
      "metadata": {
        "colab": {
          "base_uri": "https://localhost:8080/",
          "height": 484
        },
        "id": "f963254c-3387-44cd-b8df-2d1c3f3a7169",
        "outputId": "df85cd11-8ffc-4a51-9364-d51c6d1a9dcb"
      },
      "outputs": [
        {
          "output_type": "display_data",
          "data": {
            "text/plain": [
              "<Figure size 800x550 with 1 Axes>"
            ],
            "image/png": "[encoded data removed]"
          },
          "metadata": {}
        }
      ],
      "source": [
        "plt.hist([len(s) for s in sentences], bins = 50)\n",
        "plt.show()"
      ]
    },
    {
      "cell_type": "code",
      "source": [
        "num_words = len(words)\n",
        "num_tags = len(tags)\n",
        "num_words"
      ],
      "metadata": {
        "id": "HKRpoN4nlRye",
        "colab": {
          "base_uri": "https://localhost:8080/"
        },
        "outputId": "1a5a79b9-cfcb-4f0f-d381-107550052be4"
      },
      "id": "HKRpoN4nlRye",
      "execution_count": 117,
      "outputs": [
        {
          "output_type": "execute_result",
          "data": {
            "text/plain": [
              "481"
            ]
          },
          "metadata": {},
          "execution_count": 117
        }
      ]
    },
    {
      "cell_type": "code",
      "source": [
        "max_len = 20\n",
        "\n",
        "X = [[word2idx[w[0]] for w in s] for s in sentences] # представление слов тайтла в соот-ие индексы\n",
        "X = pad_sequences(maxlen = max_len, sequences=X, padding='post', value=num_words-1)\n",
        "\n",
        "y = [[tag2idx[w[1]] for w in s] for s in sentences]\n",
        "y = pad_sequences(maxlen = max_len, sequences=y, padding='post', value=tag2idx[\"-\"])"
      ],
      "metadata": {
        "id": "W-2S9J6Xg2xW"
      },
      "id": "W-2S9J6Xg2xW",
      "execution_count": 119,
      "outputs": []
    },
    {
      "cell_type": "markdown",
      "source": [
        "One hot encoder"
      ],
      "metadata": {
        "id": "EgplZ0vSoZTT"
      },
      "id": "EgplZ0vSoZTT"
    },
    {
      "cell_type": "code",
      "source": [
        "y = [to_categorical(i, num_classes=num_tags) for i in y]"
      ],
      "metadata": {
        "id": "Vs1u3NeMoYff"
      },
      "id": "Vs1u3NeMoYff",
      "execution_count": 120,
      "outputs": []
    },
    {
      "cell_type": "code",
      "source": [
        "X_train, X_test, y_train, y_test = train_test_split(X, y, test_size=0.1,random_state=42)"
      ],
      "metadata": {
        "id": "LOEce9rpohef"
      },
      "id": "LOEce9rpohef",
      "execution_count": 168,
      "outputs": []
    },
    {
      "cell_type": "code",
      "source": [
        "input_word = Input(shape=(max_len,))\n",
        "model = Embedding(input_dim=num_words, output_dim=max_len, input_length=max_len)(input_word)\n",
        "model = SpatialDropout1D(0.1)(model)\n",
        "model = Bidirectional(LSTM(units=100, return_sequences=True, recurrent_dropout=0.1))(model)\n",
        "out = TimeDistributed(Dense(num_tags, activation='softmax'))(model)\n",
        "\n",
        "model = Model(input_word, out)\n",
        "model.summary()"
      ],
      "metadata": {
        "colab": {
          "base_uri": "https://localhost:8080/"
        },
        "id": "Jm2qQ3PAoncu",
        "outputId": "823f7526-4016-48c5-c6db-65baac3139df"
      },
      "id": "Jm2qQ3PAoncu",
      "execution_count": 122,
      "outputs": [
        {
          "output_type": "stream",
          "name": "stdout",
          "text": [
            "Model: \"model_5\"\n",
            "_________________________________________________________________\n",
            " Layer (type)                Output Shape              Param #   \n",
            "=================================================================\n",
            " input_7 (InputLayer)        [(None, 20)]              0         \n",
            "                                                                 \n",
            " embedding_6 (Embedding)     (None, 20, 20)            9620      \n",
            "                                                                 \n",
            " spatial_dropout1d_6 (Spatia  (None, 20, 20)           0         \n",
            " lDropout1D)                                                     \n",
            "                                                                 \n",
            " bidirectional_6 (Bidirectio  (None, 20, 200)          96800     \n",
            " nal)                                                            \n",
            "                                                                 \n",
            " time_distributed_5 (TimeDis  (None, 20, 8)            1608      \n",
            " tributed)                                                       \n",
            "                                                                 \n",
            "=================================================================\n",
            "Total params: 108,028\n",
            "Trainable params: 108,028\n",
            "Non-trainable params: 0\n",
            "_________________________________________________________________\n"
          ]
        }
      ]
    },
    {
      "cell_type": "code",
      "source": [
        "def f1_macro(y_train, y_pred):\n",
        "    return f1_score(tensorflow.argmax(y_train, axis=1), tensorflow.argmax(y_pred, axis=1), average='macro')"
      ],
      "metadata": {
        "id": "XIkZQwoYq4bY"
      },
      "id": "XIkZQwoYq4bY",
      "execution_count": 129,
      "outputs": []
    },
    {
      "cell_type": "code",
      "source": [
        "model.compile(optimizer='adam',loss='categorical_crossentropy',\n",
        "             metrics=['accuracy'])"
      ],
      "metadata": {
        "id": "aokNgjfeo77G"
      },
      "id": "aokNgjfeo77G",
      "execution_count": 123,
      "outputs": []
    },
    {
      "cell_type": "markdown",
      "source": [
        "EarlyStopping в Keras позволяет остановить обучение модели, когда заданное метрическое значение перестает улучшаться"
      ],
      "metadata": {
        "id": "UGfYrZ8BzSlt"
      },
      "id": "UGfYrZ8BzSlt"
    },
    {
      "cell_type": "code",
      "source": [
        "early_stopping = EarlyStopping(monitor='val_accuracy', patience = 1, verbose=0, mode='max', restore_best_weights=False)\n",
        "callbacks = [PlotLossesKeras(), early_stopping]\n",
        "\n",
        "history = model.fit(\n",
        "    X_train, np.array(y_train),\n",
        "    validation_split=0.2,\n",
        "    batch_size=32,\n",
        "    epochs=3,\n",
        "    verbose=1,\n",
        "    callbacks=callbacks\n",
        ")"
      ],
      "metadata": {
        "id": "lb8kTBefpFhu"
      },
      "id": "lb8kTBefpFhu",
      "execution_count": null,
      "outputs": []
    },
    {
      "cell_type": "code",
      "source": [
        "len(X_test), len(y_test)"
      ],
      "metadata": {
        "colab": {
          "base_uri": "https://localhost:8080/"
        },
        "id": "GydFOQDHsGe9",
        "outputId": "76c957c5-b07c-4468-a234-0982c431ef36"
      },
      "id": "GydFOQDHsGe9",
      "execution_count": 126,
      "outputs": [
        {
          "output_type": "execute_result",
          "data": {
            "text/plain": [
              "(17, 17)"
            ]
          },
          "metadata": {},
          "execution_count": 126
        }
      ]
    },
    {
      "cell_type": "code",
      "source": [
        "model.evaluate(X_train, np.array(y_train))"
      ],
      "metadata": {
        "id": "0437_i-ksi8l"
      },
      "id": "0437_i-ksi8l",
      "execution_count": null,
      "outputs": []
    },
    {
      "cell_type": "code",
      "source": [
        "model.evaluate(X_test, np.array(y_test))"
      ],
      "metadata": {
        "colab": {
          "base_uri": "https://localhost:8080/"
        },
        "id": "102UFePtr6Ru",
        "outputId": "57a79d2e-fc88-457d-a11f-226faf7f08cd"
      },
      "id": "102UFePtr6Ru",
      "execution_count": 128,
      "outputs": [
        {
          "output_type": "stream",
          "name": "stdout",
          "text": [
            "1/1 [==============================] - 0s 46ms/step - loss: 1.8070 - accuracy: 0.8706\n"
          ]
        },
        {
          "output_type": "execute_result",
          "data": {
            "text/plain": [
              "[1.806983470916748, 0.8705882430076599]"
            ]
          },
          "metadata": {},
          "execution_count": 128
        }
      ]
    },
    {
      "cell_type": "code",
      "source": [
        "y_pred = model.predict(X_test)"
      ],
      "metadata": {
        "colab": {
          "base_uri": "https://localhost:8080/"
        },
        "id": "9BtllRgA62kQ",
        "outputId": "a4b2b3bd-17b5-40d2-a8ee-44ac7c5332a5"
      },
      "id": "9BtllRgA62kQ",
      "execution_count": 174,
      "outputs": [
        {
          "output_type": "stream",
          "name": "stdout",
          "text": [
            "1/1 [==============================] - 0s 69ms/step\n"
          ]
        }
      ]
    },
    {
      "cell_type": "markdown",
      "id": "90f741d5-878d-437f-ac60-ffe606f7887c",
      "metadata": {
        "tags": [],
        "id": "90f741d5-878d-437f-ac60-ffe606f7887c"
      },
      "source": [
        "<a id=\"6\"></a>\n",
        "## <b>6 <span style='color:#43a842'>|</span> Markup Preprocessing</b>\n",
        "* [Оглавление](#0)"
      ]
    },
    {
      "cell_type": "markdown",
      "id": "ea5c9406-ad6b-4c08-9007-8279c6513884",
      "metadata": {
        "id": "ea5c9406-ad6b-4c08-9007-8279c6513884"
      },
      "source": [
        "На данном этапе работы были учтены все недочеты ручной разметки. Итоговая выборка очищенна и проанализирована на наличие дисбаланса классов. Можно увидеть, что классы не сбалансированы."
      ]
    },
    {
      "cell_type": "code",
      "execution_count": 15,
      "id": "b42dbcb7-dfb3-4837-a5a8-65cc536e7207",
      "metadata": {
        "id": "b42dbcb7-dfb3-4837-a5a8-65cc536e7207",
        "colab": {
          "base_uri": "https://localhost:8080/"
        },
        "outputId": "8d2ad0c8-f6ee-42a0-9514-91962329b817"
      },
      "outputs": [
        {
          "output_type": "execute_result",
          "data": {
            "text/plain": [
              "array(['тов', 'бренд', '-', 'назн', 'раз', '1', 'разм', 'наз', 'тип',\n",
              "       'мат', 'гор', 'мод', 'товар', 'размер', 'материал', 'модель',\n",
              "       'гост', 'цвет', 'бред'], dtype=object)"
            ]
          },
          "metadata": {},
          "execution_count": 15
        }
      ],
      "source": [
        "df.Tag.unique()"
      ]
    },
    {
      "cell_type": "code",
      "execution_count": 16,
      "id": "f9e4af5c-fa75-40e9-8dcd-ef89aa096735",
      "metadata": {
        "id": "f9e4af5c-fa75-40e9-8dcd-ef89aa096735"
      },
      "outputs": [],
      "source": [
        "def replace_word(true_word, false_word):\n",
        "    df.Tag = df.Tag.apply(lambda x: true_word if x == false_word else x)"
      ]
    },
    {
      "cell_type": "code",
      "execution_count": 17,
      "id": "c94ee6be-f506-464a-bb34-1e9a0372551d",
      "metadata": {
        "id": "c94ee6be-f506-464a-bb34-1e9a0372551d"
      },
      "outputs": [],
      "source": [
        "replace_word('тов', 'товар')\n",
        "replace_word('назн', 'наз')\n",
        "replace_word('бренд', 'бред')\n",
        "replace_word('мод', 'модель')\n",
        "replace_word('мат', 'материал')\n",
        "replace_word('разм', 'размер')\n",
        "replace_word('разм', 'раз')\n",
        "replace_word('-', '1')"
      ]
    },
    {
      "cell_type": "code",
      "execution_count": 18,
      "id": "5cd7b519-3385-4fd8-ab7d-b4a4da8d1a3a",
      "metadata": {
        "colab": {
          "base_uri": "https://localhost:8080/"
        },
        "id": "5cd7b519-3385-4fd8-ab7d-b4a4da8d1a3a",
        "outputId": "e3239c8e-7c29-4973-fd8a-248917d1caa6"
      },
      "outputs": [
        {
          "output_type": "execute_result",
          "data": {
            "text/plain": [
              "-        349\n",
              "тов      188\n",
              "тип       93\n",
              "назн      82\n",
              "разм      63\n",
              "мод       53\n",
              "бренд     40\n",
              "мат       37\n",
              "гор        3\n",
              "гост       3\n",
              "цвет       1\n",
              "Name: Tag, dtype: int64"
            ]
          },
          "metadata": {},
          "execution_count": 18
        }
      ],
      "source": [
        "df['Tag'].value_counts()"
      ]
    },
    {
      "cell_type": "code",
      "execution_count": 19,
      "id": "babeb8ea-99e2-4608-b9bf-cf8ea3514a8f",
      "metadata": {
        "id": "babeb8ea-99e2-4608-b9bf-cf8ea3514a8f"
      },
      "outputs": [],
      "source": [
        "#df = df[df.Tag != '-']\n",
        "df = df[df.Tag != 'гост']\n",
        "df = df[df.Tag != 'цвет']\n",
        "df = df[df.Tag != 'гор']"
      ]
    },
    {
      "cell_type": "code",
      "execution_count": 20,
      "id": "d738586c-4ffd-4fd8-92d7-572336052fc6",
      "metadata": {
        "colab": {
          "base_uri": "https://localhost:8080/"
        },
        "id": "d738586c-4ffd-4fd8-92d7-572336052fc6",
        "outputId": "02a474eb-afb3-4ca5-d7d1-dea00d5b6596"
      },
      "outputs": [
        {
          "output_type": "execute_result",
          "data": {
            "text/plain": [
              "-        349\n",
              "тов      188\n",
              "тип       93\n",
              "назн      82\n",
              "разм      63\n",
              "мод       53\n",
              "бренд     40\n",
              "мат       37\n",
              "Name: Tag, dtype: int64"
            ]
          },
          "metadata": {},
          "execution_count": 20
        }
      ],
      "source": [
        "df['Tag'].value_counts()"
      ]
    },
    {
      "cell_type": "code",
      "execution_count": 21,
      "id": "672f1c37-a7e1-420e-b49c-c796189a476b",
      "metadata": {
        "colab": {
          "base_uri": "https://localhost:8080/",
          "height": 468
        },
        "id": "672f1c37-a7e1-420e-b49c-c796189a476b",
        "outputId": "851d5523-f02e-4289-a9b1-a21873adb831"
      },
      "outputs": [
        {
          "output_type": "display_data",
          "data": {
            "text/plain": [
              "<Figure size 800x550 with 1 Axes>"
            ],
            "image/png": "[encoded data removed]"
          },
          "metadata": {}
        }
      ],
      "source": [
        "plt.hist(df['Tag'], bins=df['Tag'].nunique(), rwidth=0.5)\n",
        "plt.xticks([])\n",
        "plt.show()"
      ]
    },
    {
      "cell_type": "markdown",
      "id": "097bf0e7-b906-489d-a5c7-da4d0f077a2d",
      "metadata": {
        "id": "097bf0e7-b906-489d-a5c7-da4d0f077a2d"
      },
      "source": [
        "<a id=\"7\"></a>\n",
        "## <b>7 <span style='color:#43a842'>|</span> Vectorization</b>\n",
        "* [Оглавление](#0)"
      ]
    },
    {
      "cell_type": "markdown",
      "id": "e4d346cb-f195-4323-b3c9-587c4f3cc1ad",
      "metadata": {
        "id": "e4d346cb-f195-4323-b3c9-587c4f3cc1ad"
      },
      "source": [
        "> Векторизация в NLP — это процесс преобразования текстовых данных в числовые векторы, которые могут быть использованы для обучения моделей машинного обучения или анализа текста. \n",
        "Существует несколько методов векторизации текста, но в данной работе был взят «мешок слов». Мешок слов (Bag-of-Words, BoW) — это метод, в котором каждое слово в тексте преобразуется в отдельный признак, а затем создается вектор, в котором каждый элемент соответствует количеству вхождений слова в тексте. Этот метод не учитывает порядок слов в тексте, но может быть эффективен для моделей, которые не требуют контекста"
      ]
    },
    {
      "cell_type": "markdown",
      "id": "ea8421e8-7a84-43b9-9263-ddcf183c11b9",
      "metadata": {
        "id": "ea8421e8-7a84-43b9-9263-ddcf183c11b9"
      },
      "source": [
        "Разделение набора данных на обучающую и тестовую выборки и векторизации текстовых данных с использованием метода \"мешка слов\"."
      ]
    },
    {
      "cell_type": "code",
      "execution_count": null,
      "id": "bf06d76a-be1c-46b3-9909-3adbbd358ffc",
      "metadata": {
        "id": "bf06d76a-be1c-46b3-9909-3adbbd358ffc"
      },
      "outputs": [],
      "source": [
        "y = df['Target']\n",
        "X = df['Tag']\n",
        "X_train, X_test, y_train, y_test = train_test_split(X, y, test_size = 0.25, random_state=42, stratify=y)"
      ]
    },
    {
      "cell_type": "markdown",
      "id": "a670955f-d016-4c0d-a07e-f596c361ffc3",
      "metadata": {
        "id": "a670955f-d016-4c0d-a07e-f596c361ffc3"
      },
      "source": [
        "Применен метод fit_transform() к корпусу текстов, который вернул матрицу bow, где каждый ряд соответствует документу, а каждый столбец - слову из корпуса."
      ]
    },
    {
      "cell_type": "code",
      "execution_count": null,
      "id": "a60cf847-04e0-4a21-9d76-b9d244084623",
      "metadata": {
        "id": "a60cf847-04e0-4a21-9d76-b9d244084623"
      },
      "outputs": [],
      "source": [
        "vec = CountVectorizer(ngram_range=(1, 1))\n",
        "bow = vec.fit_transform(X_train)"
      ]
    },
    {
      "cell_type": "markdown",
      "id": "d9a03985-de92-467d-83a0-8bea7e3dbafc",
      "metadata": {
        "id": "d9a03985-de92-467d-83a0-8bea7e3dbafc"
      },
      "source": [
        "Метод для получения словаря, который соотносит слова с их индексами в матрице признаков"
      ]
    },
    {
      "cell_type": "code",
      "execution_count": null,
      "id": "5b741f4b-3ed4-47f3-8e61-4c613dcdd23f",
      "metadata": {
        "id": "5b741f4b-3ed4-47f3-8e61-4c613dcdd23f",
        "outputId": "9c797bd2-d9aa-4a3d-e051-a376ad3e450a"
      },
      "outputs": [
        {
          "data": {
            "text/plain": [
              "[('картридж', 118),\n",
              " ('блок', 80),\n",
              " ('отопление', 153),\n",
              " ('б8', 77),\n",
              " ('line', 59),\n",
              " ('таможенный', 214),\n",
              " ('стиральный', 205),\n",
              " ('шпатель', 233),\n",
              " ('proff', 63),\n",
              " ('470', 34)]"
            ]
          },
          "execution_count": 223,
          "metadata": {},
          "output_type": "execute_result"
        }
      ],
      "source": [
        "list(vec.vocabulary_.items())[:10]"
      ]
    },
    {
      "cell_type": "markdown",
      "id": "7c47b58a-d248-4374-9502-a07505c302b7",
      "metadata": {
        "id": "7c47b58a-d248-4374-9502-a07505c302b7"
      },
      "source": [
        "<a id=\"8\"></a>\n",
        "## <b>8 <span style='color:#43a842'>|</span> Model Training</b>\n",
        "* [Оглавление](#0)"
      ]
    },
    {
      "cell_type": "markdown",
      "id": "fa923eb5-ac57-4e5c-aa6a-4e71c1ee5202",
      "metadata": {
        "id": "fa923eb5-ac57-4e5c-aa6a-4e71c1ee5202"
      },
      "source": [
        "Для суммарной оценки моделей был создан DataFrame, который иллюстрирует качество моделей, исходя из 3 метрик: accuracy, f1-macro и f1- weighted (взвешенное)."
      ]
    },
    {
      "cell_type": "code",
      "execution_count": null,
      "id": "6db32f92-e45b-42e1-a2ce-83442136dd69",
      "metadata": {
        "id": "6db32f92-e45b-42e1-a2ce-83442136dd69"
      },
      "outputs": [],
      "source": [
        "def first_models(state, class_weight=None):\n",
        "    global clf, dt, rf\n",
        "    clf = LogisticRegression(random_state=state, max_iter=500, class_weight=class_weight).fit(bow, y_train)\n",
        "    dt = DecisionTreeClassifier(random_state=state, class_weight=class_weight).fit(bow, y_train)\n",
        "    rf = RandomForestClassifier(random_state=state, class_weight=class_weight).fit(bow, y_train)\n",
        "    kn_clf = KNeighborsClassifier().fit(bow, y_train)\n",
        "    svc = SVC(random_state=state, class_weight=class_weight).fit(bow, y_train)\n",
        "    mlp = MLPClassifier(random_state=state).fit(bow, y_train)\n",
        "    \n",
        "    #print(classification_report(clf.predict(vec.transform(X_test)), y_test))\n",
        "    \n",
        "    df_metrics = pd.DataFrame({'Models': ['Logistic Regression',\n",
        "                             'Decision Tree',\n",
        "                             'Random Forest',\n",
        "                             'K Neighbors',\n",
        "                             'Support Vec', \n",
        "                             'MLP'],\n",
        "                  'Accuracy': [accuracy_score(y_test, clf.predict(vec.transform(X_test))),\n",
        "                              accuracy_score(y_test, dt.predict(vec.transform(X_test))),\n",
        "                              accuracy_score(y_test, rf.predict(vec.transform(X_test))),\n",
        "                              accuracy_score(y_test, kn_clf.predict(vec.transform(X_test))),\n",
        "                              accuracy_score(y_test, svc.predict(vec.transform(X_test))), \n",
        "                              accuracy_score(y_test, mlp.predict(vec.transform(X_test)))],\n",
        "                  'f1_macro': [f1_score(y_test, clf.predict(vec.transform(X_test)), average='macro'),\n",
        "                              f1_score(y_test, dt.predict(vec.transform(X_test)), average='macro'),\n",
        "                              f1_score(y_test, rf.predict(vec.transform(X_test)), average='macro'),\n",
        "                              f1_score(y_test, kn_clf.predict(vec.transform(X_test)), average='macro'),\n",
        "                              f1_score(y_test, svc.predict(vec.transform(X_test)), average='macro'),\n",
        "                              f1_score(y_test, mlp.predict(vec.transform(X_test)), average='macro')],\n",
        "                  'f1_weighted': [f1_score(y_test, clf.predict(vec.transform(X_test)), average='weighted'),\n",
        "                              f1_score(y_test, dt.predict(vec.transform(X_test)), average='weighted'),\n",
        "                              f1_score(y_test, rf.predict(vec.transform(X_test)), average='weighted'),\n",
        "                              f1_score(y_test, kn_clf.predict(vec.transform(X_test)), average='weighted'),\n",
        "                              f1_score(y_test, svc.predict(vec.transform(X_test)), average='weighted'),\n",
        "                              f1_score(y_test, mlp.predict(vec.transform(X_test)), average='weighted')]})\n",
        "    \n",
        "    return df_metrics"
      ]
    },
    {
      "cell_type": "code",
      "execution_count": null,
      "id": "e436c889-f270-4419-b908-f4dd8763bcc7",
      "metadata": {
        "id": "e436c889-f270-4419-b908-f4dd8763bcc7",
        "outputId": "86be741c-cf88-42ca-ecff-6807180ceea2"
      },
      "outputs": [
        {
          "data": {
            "text/html": [
              "<div>\n",
              "<style scoped>\n",
              "    .dataframe tbody tr th:only-of-type {\n",
              "        vertical-align: middle;\n",
              "    }\n",
              "\n",
              "    .dataframe tbody tr th {\n",
              "        vertical-align: top;\n",
              "    }\n",
              "\n",
              "    .dataframe thead th {\n",
              "        text-align: right;\n",
              "    }\n",
              "</style>\n",
              "<table border=\"1\" class=\"dataframe\">\n",
              "  <thead>\n",
              "    <tr style=\"text-align: right;\">\n",
              "      <th></th>\n",
              "      <th>Models</th>\n",
              "      <th>Accuracy</th>\n",
              "      <th>f1_macro</th>\n",
              "      <th>f1_weighted</th>\n",
              "    </tr>\n",
              "  </thead>\n",
              "  <tbody>\n",
              "    <tr>\n",
              "      <th>0</th>\n",
              "      <td>Logistic Regression</td>\n",
              "      <td>0.525180</td>\n",
              "      <td>0.426566</td>\n",
              "      <td>0.477152</td>\n",
              "    </tr>\n",
              "    <tr>\n",
              "      <th>1</th>\n",
              "      <td>Decision Tree</td>\n",
              "      <td>0.568345</td>\n",
              "      <td>0.488456</td>\n",
              "      <td>0.587650</td>\n",
              "    </tr>\n",
              "    <tr>\n",
              "      <th>2</th>\n",
              "      <td>Random Forest</td>\n",
              "      <td>0.525180</td>\n",
              "      <td>0.434610</td>\n",
              "      <td>0.476380</td>\n",
              "    </tr>\n",
              "    <tr>\n",
              "      <th>3</th>\n",
              "      <td>K Neighbors</td>\n",
              "      <td>0.496403</td>\n",
              "      <td>0.395937</td>\n",
              "      <td>0.436911</td>\n",
              "    </tr>\n",
              "    <tr>\n",
              "      <th>4</th>\n",
              "      <td>Support Vec</td>\n",
              "      <td>0.532374</td>\n",
              "      <td>0.445701</td>\n",
              "      <td>0.488936</td>\n",
              "    </tr>\n",
              "    <tr>\n",
              "      <th>5</th>\n",
              "      <td>MLP</td>\n",
              "      <td>0.525180</td>\n",
              "      <td>0.434610</td>\n",
              "      <td>0.476380</td>\n",
              "    </tr>\n",
              "  </tbody>\n",
              "</table>\n",
              "</div>"
            ],
            "text/plain": [
              "                Models  Accuracy  f1_macro  f1_weighted\n",
              "0  Logistic Regression  0.525180  0.426566     0.477152\n",
              "1        Decision Tree  0.568345  0.488456     0.587650\n",
              "2        Random Forest  0.525180  0.434610     0.476380\n",
              "3          K Neighbors  0.496403  0.395937     0.436911\n",
              "4          Support Vec  0.532374  0.445701     0.488936\n",
              "5                  MLP  0.525180  0.434610     0.476380"
            ]
          },
          "execution_count": 123,
          "metadata": {},
          "output_type": "execute_result"
        }
      ],
      "source": [
        "without_cw = first_models(42)\n",
        "without_cw"
      ]
    },
    {
      "cell_type": "code",
      "execution_count": null,
      "id": "64dc0f06-2ab7-4ded-acac-1f1c82505bd3",
      "metadata": {
        "id": "64dc0f06-2ab7-4ded-acac-1f1c82505bd3",
        "outputId": "2c69ea76-ef6c-4830-cfe6-7dab13b49e0e"
      },
      "outputs": [
        {
          "data": {
            "text/html": [
              "<div>\n",
              "<style scoped>\n",
              "    .dataframe tbody tr th:only-of-type {\n",
              "        vertical-align: middle;\n",
              "    }\n",
              "\n",
              "    .dataframe tbody tr th {\n",
              "        vertical-align: top;\n",
              "    }\n",
              "\n",
              "    .dataframe thead th {\n",
              "        text-align: right;\n",
              "    }\n",
              "</style>\n",
              "<table border=\"1\" class=\"dataframe\">\n",
              "  <thead>\n",
              "    <tr style=\"text-align: right;\">\n",
              "      <th></th>\n",
              "      <th>Models</th>\n",
              "      <th>Accuracy</th>\n",
              "      <th>f1_macro</th>\n",
              "      <th>f1_weighted</th>\n",
              "    </tr>\n",
              "  </thead>\n",
              "  <tbody>\n",
              "    <tr>\n",
              "      <th>0</th>\n",
              "      <td>Logistic Regression</td>\n",
              "      <td>0.575540</td>\n",
              "      <td>0.493841</td>\n",
              "      <td>0.593597</td>\n",
              "    </tr>\n",
              "    <tr>\n",
              "      <th>1</th>\n",
              "      <td>Decision Tree</td>\n",
              "      <td>0.561151</td>\n",
              "      <td>0.504229</td>\n",
              "      <td>0.591235</td>\n",
              "    </tr>\n",
              "    <tr>\n",
              "      <th>2</th>\n",
              "      <td>Random Forest</td>\n",
              "      <td>0.525180</td>\n",
              "      <td>0.434610</td>\n",
              "      <td>0.476380</td>\n",
              "    </tr>\n",
              "    <tr>\n",
              "      <th>3</th>\n",
              "      <td>K Neighbors</td>\n",
              "      <td>0.496403</td>\n",
              "      <td>0.395937</td>\n",
              "      <td>0.436911</td>\n",
              "    </tr>\n",
              "    <tr>\n",
              "      <th>4</th>\n",
              "      <td>Support Vec</td>\n",
              "      <td>0.575540</td>\n",
              "      <td>0.493841</td>\n",
              "      <td>0.593597</td>\n",
              "    </tr>\n",
              "    <tr>\n",
              "      <th>5</th>\n",
              "      <td>MLP</td>\n",
              "      <td>0.525180</td>\n",
              "      <td>0.434610</td>\n",
              "      <td>0.476380</td>\n",
              "    </tr>\n",
              "  </tbody>\n",
              "</table>\n",
              "</div>"
            ],
            "text/plain": [
              "                Models  Accuracy  f1_macro  f1_weighted\n",
              "0  Logistic Regression  0.575540  0.493841     0.593597\n",
              "1        Decision Tree  0.561151  0.504229     0.591235\n",
              "2        Random Forest  0.525180  0.434610     0.476380\n",
              "3          K Neighbors  0.496403  0.395937     0.436911\n",
              "4          Support Vec  0.575540  0.493841     0.593597\n",
              "5                  MLP  0.525180  0.434610     0.476380"
            ]
          },
          "execution_count": 124,
          "metadata": {},
          "output_type": "execute_result"
        }
      ],
      "source": [
        "with_cw = first_models(42, 'balanced')\n",
        "with_cw"
      ]
    },
    {
      "cell_type": "code",
      "execution_count": null,
      "id": "5327a872-6610-4c4f-8993-86d30ae34049",
      "metadata": {
        "id": "5327a872-6610-4c4f-8993-86d30ae34049",
        "outputId": "6f1fcaaf-2d00-4467-c686-2a1d51259713"
      },
      "outputs": [
        {
          "data": {
            "text/plain": [
              "0    6.727516\n",
              "1    1.577297\n",
              "2    0.000000\n",
              "3    0.000000\n",
              "4    4.814026\n",
              "5    0.000000\n",
              "Name: f1_macro, dtype: float64"
            ]
          },
          "execution_count": 125,
          "metadata": {},
          "output_type": "execute_result"
        }
      ],
      "source": [
        "(with_cw.f1_macro - without_cw.f1_macro) * 100"
      ]
    },
    {
      "cell_type": "markdown",
      "id": "b61260a8-44c0-4117-808d-33bcf2888771",
      "metadata": {
        "id": "b61260a8-44c0-4117-808d-33bcf2888771"
      },
      "source": [
        "Исходя из данного фрейма можно сделать вывод о том, что логистическая регрессия, дерево решений, случайный лес, SVM и MLP показывают примерно одинаковую точность в данной задаче классификации, с точностью порядка 0.55. Однако, f1_macro и f1_weighted, показывают, что лучшие результаты по этим метрикам дает случайный лес. Ближайших соседей же показал себя намного хуже остальных моделей, что не удивительно, поскольку для данного классификатора нужен большой объем наблюдений."
      ]
    },
    {
      "cell_type": "markdown",
      "id": "f661e9da-fc62-46eb-9187-7ce2f535c61f",
      "metadata": {
        "tags": [],
        "id": "f661e9da-fc62-46eb-9187-7ce2f535c61f"
      },
      "source": [
        "# <a id=\"9\"></a>\n",
        "## <b>9 <span style='color:#43a842'>|</span> Grid Search</b>\n",
        "* [Оглавление](#0)"
      ]
    },
    {
      "cell_type": "markdown",
      "id": "8c24051f-a96e-4c25-88fc-d9d010088d64",
      "metadata": {
        "id": "8c24051f-a96e-4c25-88fc-d9d010088d64"
      },
      "source": [
        "> GridSearchCV - это метод поиска гиперпараметров, который позволяет автоматически перебирать все возможные комбинации заданных гиперпараметров модели и находить наилучшие значения гиперпараметров. Он позволяет выполнить перебор значений гиперпараметров и выбрать лучшие параметры для модели."
      ]
    },
    {
      "cell_type": "code",
      "execution_count": null,
      "id": "a636d2c0-00da-4994-8538-c9b2158cf12d",
      "metadata": {
        "id": "a636d2c0-00da-4994-8538-c9b2158cf12d"
      },
      "outputs": [],
      "source": [
        "def get_metrics(model, title):\n",
        "    met = pd.DataFrame({'Models': [title], \n",
        "                            'Accuracy': accuracy_score(y_test, model.predict(vec.transform(X_test))), \n",
        "                            'f1_macro': f1_score(y_test, model.predict(vec.transform(X_test)), average='macro'), \n",
        "                            'f1_weighted': f1_score(y_test, model.predict(vec.transform(X_test)), average='weighted')})\n",
        "    return met\n"
      ]
    },
    {
      "cell_type": "code",
      "execution_count": null,
      "id": "1e377c56-35a0-4d26-8ed7-4e55cd2df171",
      "metadata": {
        "id": "1e377c56-35a0-4d26-8ed7-4e55cd2df171"
      },
      "outputs": [],
      "source": [
        "template = pd.DataFrame({'Models': [],\n",
        "                              'Accuracy': [],\n",
        "                              'f1_macro': [],\n",
        "                              'f1_weighted': []})"
      ]
    },
    {
      "cell_type": "code",
      "execution_count": null,
      "id": "4b694dc1-409e-47bf-ba37-0c1ae36b56dd",
      "metadata": {
        "id": "4b694dc1-409e-47bf-ba37-0c1ae36b56dd"
      },
      "outputs": [],
      "source": [
        "lr_grid = {\n",
        "    \"C\": [0.01, 0.1, 1, 10, 100, 1000], \n",
        "      \"penalty\": ['l1', 'l2', 'elasticnet'],\n",
        "      \"solver\": ['lbfgs', 'liblinear', 'newton-cg', 'newton-cholesky', 'sag', 'saga']\n",
        "}\n",
        "\n",
        "rf_grid = {\n",
        "    'max_depth': range(1, 100), \n",
        "    'min_samples_split': range(1, 10),\n",
        "    'max_features': ['sqrt']\n",
        "}\n",
        "\n",
        "dt_grid = {\n",
        "    'criterion': ['gini', 'entropy'],\n",
        "    'max_depth': [None, 5, 10, 15],\n",
        "    'min_samples_split': [2, 5, 10],\n",
        "    'min_samples_leaf': [1, 2, 4],\n",
        "    'max_features': [None, 'sqrt', 'log2']\n",
        "}"
      ]
    },
    {
      "cell_type": "code",
      "execution_count": null,
      "id": "4e06de7b-00ed-4fa0-a9a4-c7f546d9ed1a",
      "metadata": {
        "id": "4e06de7b-00ed-4fa0-a9a4-c7f546d9ed1a"
      },
      "outputs": [],
      "source": [
        "def gridsearch(model, params, title):\n",
        "    global template\n",
        "    search = GridSearchCV(model, params, cv=5, scoring='f1_macro').fit(bow, y_train)\n",
        "    best_lr = search.best_estimator_\n",
        "    template = template.append(get_metrics(best_lr, title))"
      ]
    },
    {
      "cell_type": "code",
      "execution_count": null,
      "id": "e89110f5-c7d0-4add-ae04-8e0cab97db31",
      "metadata": {
        "id": "e89110f5-c7d0-4add-ae04-8e0cab97db31"
      },
      "outputs": [],
      "source": [
        "titles = ['Remastered LR', 'Remastered RF', 'Remastered DT']\n",
        "models = [clf, rf, dt]\n",
        "grids = [lr_grid, rf_grid, dt_grid]"
      ]
    },
    {
      "cell_type": "code",
      "execution_count": null,
      "id": "874852d2-4c1a-4d6c-88fa-c07b3a52ba12",
      "metadata": {
        "id": "874852d2-4c1a-4d6c-88fa-c07b3a52ba12"
      },
      "outputs": [],
      "source": [
        "for i in range(3):\n",
        "    gridsearch(models[i], grids[i], titles[i])"
      ]
    },
    {
      "cell_type": "code",
      "execution_count": null,
      "id": "a90281ec-5d04-4fd0-8ad6-8edcfb2ee93c",
      "metadata": {
        "id": "a90281ec-5d04-4fd0-8ad6-8edcfb2ee93c",
        "outputId": "56100c0f-5f92-4ab4-8c22-7a8b99f88350"
      },
      "outputs": [
        {
          "data": {
            "text/html": [
              "<div>\n",
              "<style scoped>\n",
              "    .dataframe tbody tr th:only-of-type {\n",
              "        vertical-align: middle;\n",
              "    }\n",
              "\n",
              "    .dataframe tbody tr th {\n",
              "        vertical-align: top;\n",
              "    }\n",
              "\n",
              "    .dataframe thead th {\n",
              "        text-align: right;\n",
              "    }\n",
              "</style>\n",
              "<table border=\"1\" class=\"dataframe\">\n",
              "  <thead>\n",
              "    <tr style=\"text-align: right;\">\n",
              "      <th></th>\n",
              "      <th>Models</th>\n",
              "      <th>Accuracy</th>\n",
              "      <th>f1_macro</th>\n",
              "      <th>f1_weighted</th>\n",
              "    </tr>\n",
              "  </thead>\n",
              "  <tbody>\n",
              "    <tr>\n",
              "      <th>0</th>\n",
              "      <td>Remastered LR</td>\n",
              "      <td>0.568345</td>\n",
              "      <td>0.515320</td>\n",
              "      <td>0.603790</td>\n",
              "    </tr>\n",
              "    <tr>\n",
              "      <th>0</th>\n",
              "      <td>Remastered RF</td>\n",
              "      <td>0.532374</td>\n",
              "      <td>0.474426</td>\n",
              "      <td>0.560141</td>\n",
              "    </tr>\n",
              "    <tr>\n",
              "      <th>0</th>\n",
              "      <td>Remastered DT</td>\n",
              "      <td>0.568345</td>\n",
              "      <td>0.488456</td>\n",
              "      <td>0.587650</td>\n",
              "    </tr>\n",
              "  </tbody>\n",
              "</table>\n",
              "</div>"
            ],
            "text/plain": [
              "          Models  Accuracy  f1_macro  f1_weighted\n",
              "0  Remastered LR  0.568345  0.515320     0.603790\n",
              "0  Remastered RF  0.532374  0.474426     0.560141\n",
              "0  Remastered DT  0.568345  0.488456     0.587650"
            ]
          },
          "execution_count": 133,
          "metadata": {},
          "output_type": "execute_result"
        }
      ],
      "source": [
        "template"
      ]
    },
    {
      "cell_type": "markdown",
      "id": "e9eb387f-bcc0-4b79-b5df-c8a090c578df",
      "metadata": {
        "jp-MarkdownHeadingCollapsed": true,
        "tags": [],
        "id": "e9eb387f-bcc0-4b79-b5df-c8a090c578df"
      },
      "source": [
        "# <a id=\"9.1\"></a>\n",
        "### <b>9.1 <span style='color:#43a842'>|</span> Logistic Regression</b>\n",
        "* [Оглавление](#0)"
      ]
    },
    {
      "cell_type": "code",
      "execution_count": null,
      "id": "b1e48319-9110-40ff-98cd-e6e51e2a2281",
      "metadata": {
        "id": "b1e48319-9110-40ff-98cd-e6e51e2a2281",
        "outputId": "3cf1342a-b226-430f-b251-07682e5fce5c"
      },
      "outputs": [
        {
          "name": "stdout",
          "output_type": "stream",
          "text": [
            "CPU times: user 20.5 s, sys: 69.8 ms, total: 20.5 s\n",
            "Wall time: 20.6 s\n"
          ]
        }
      ],
      "source": [
        "%%time\n",
        "search = GridSearchCV(clf, params, cv=10, scoring='f1_macro').fit(bow, y_train)"
      ]
    },
    {
      "cell_type": "code",
      "execution_count": null,
      "id": "d65df498-5011-4bc2-a129-bd32676b9deb",
      "metadata": {
        "id": "d65df498-5011-4bc2-a129-bd32676b9deb",
        "outputId": "bc898a31-5a8a-45c2-e81c-d41ec80a2d9e"
      },
      "outputs": [
        {
          "data": {
            "text/plain": [
              "{'C': 0.01, 'penalty': 'l2', 'solver': 'sag'}"
            ]
          },
          "execution_count": 65,
          "metadata": {},
          "output_type": "execute_result"
        }
      ],
      "source": [
        "search.best_params_"
      ]
    },
    {
      "cell_type": "code",
      "execution_count": null,
      "id": "5703a3e4-bc23-48a0-b70b-bac5d7093b39",
      "metadata": {
        "id": "5703a3e4-bc23-48a0-b70b-bac5d7093b39"
      },
      "outputs": [],
      "source": [
        "best_lr = search.best_estimator_"
      ]
    },
    {
      "cell_type": "code",
      "execution_count": null,
      "id": "19493170-1503-4733-9625-5f1c9ecf3d43",
      "metadata": {
        "id": "19493170-1503-4733-9625-5f1c9ecf3d43"
      },
      "outputs": [],
      "source": [
        "template = template.append(get_metrics(best_lr, 'Remastered LR'))"
      ]
    },
    {
      "cell_type": "code",
      "execution_count": null,
      "id": "ded5903f-9804-4e62-9007-46273c25a191",
      "metadata": {
        "id": "ded5903f-9804-4e62-9007-46273c25a191",
        "outputId": "a455ac5f-ef64-4b66-c0d1-01a5b22ee4ee"
      },
      "outputs": [
        {
          "data": {
            "text/plain": [
              "<matplotlib.legend.Legend at 0x7fd4dc266700>"
            ]
          },
          "execution_count": 68,
          "metadata": {},
          "output_type": "execute_result"
        },
        {
          "data": {
            "image/png": "[encoded data removed]",
            "text/plain": [
              "<Figure size 800x550 with 1 Axes>"
            ]
          },
          "metadata": {},
          "output_type": "display_data"
        }
      ],
      "source": [
        "trains = []\n",
        "tests = []\n",
        "for i in np.logspace(-3, 3, 20):\n",
        "    lr = LogisticRegression(C=i).fit(bow, y_train)\n",
        "    trains.append(f1_score(y_train, lr.predict(vec.transform(X_train)), average='macro'))\n",
        "    tests.append(f1_score(y_test, lr.predict(vec.transform(X_test)), average='macro'))\n",
        "\n",
        "plt.plot(trains, label=\"train\")\n",
        "plt.plot(tests, label=\"test\")\n",
        "plt.legend()"
      ]
    },
    {
      "cell_type": "markdown",
      "id": "205d70f3-104a-4f71-a76e-952bf2aa7ddd",
      "metadata": {
        "jp-MarkdownHeadingCollapsed": true,
        "tags": [],
        "id": "205d70f3-104a-4f71-a76e-952bf2aa7ddd"
      },
      "source": [
        "# <a id=\"9.2\"></a>\n",
        "### <b>9.2 <span style='color:#43a842'>|</span> Random Forest</b>\n",
        "* [Оглавление](#0)"
      ]
    },
    {
      "cell_type": "code",
      "execution_count": null,
      "id": "d5642bee-d3ed-41e5-bb69-0cfaa48774f2",
      "metadata": {
        "id": "d5642bee-d3ed-41e5-bb69-0cfaa48774f2"
      },
      "outputs": [],
      "source": [
        "params = {'max_depth': range(1, 100), 'min_samples_split': range(1, 10)}"
      ]
    },
    {
      "cell_type": "code",
      "execution_count": null,
      "id": "893304be-006a-40a2-9da9-6d72a96cbfcb",
      "metadata": {
        "id": "893304be-006a-40a2-9da9-6d72a96cbfcb",
        "outputId": "f6add555-40af-4e90-9d21-13a1ef16f04c"
      },
      "outputs": [
        {
          "name": "stdout",
          "output_type": "stream",
          "text": [
            "CPU times: user 5.28 s, sys: 71.6 ms, total: 5.35 s\n",
            "Wall time: 5.36 s\n"
          ]
        }
      ],
      "source": [
        "%%time\n",
        "search = RandomizedSearchCV(rf, params, cv=5, scoring='f1_macro').fit(bow, y_train)"
      ]
    },
    {
      "cell_type": "code",
      "execution_count": null,
      "id": "dd9c55da-04e9-4f3a-8d45-2c49f75e7029",
      "metadata": {
        "id": "dd9c55da-04e9-4f3a-8d45-2c49f75e7029",
        "outputId": "0b0b7453-6959-4f8a-f096-2b5a5268144a"
      },
      "outputs": [
        {
          "data": {
            "text/plain": [
              "{'min_samples_split': 4, 'max_depth': 87}"
            ]
          },
          "execution_count": 71,
          "metadata": {},
          "output_type": "execute_result"
        }
      ],
      "source": [
        "search.best_params_"
      ]
    },
    {
      "cell_type": "code",
      "execution_count": null,
      "id": "99fad5ba-15c6-4d9d-8d5d-721859c8f526",
      "metadata": {
        "id": "99fad5ba-15c6-4d9d-8d5d-721859c8f526"
      },
      "outputs": [],
      "source": [
        "best_rf = search.best_estimator_"
      ]
    },
    {
      "cell_type": "code",
      "execution_count": null,
      "id": "c67b2509-6980-4068-a400-a228e42276cd",
      "metadata": {
        "id": "c67b2509-6980-4068-a400-a228e42276cd"
      },
      "outputs": [],
      "source": [
        "template = template.append(get_metrics(best_rf, 'Remastered RF'))"
      ]
    },
    {
      "cell_type": "code",
      "execution_count": null,
      "id": "1d449292-8119-4cbd-8a8c-c42d5538491f",
      "metadata": {
        "id": "1d449292-8119-4cbd-8a8c-c42d5538491f",
        "outputId": "27cde39f-051a-4302-c0a4-246a7405a0d3"
      },
      "outputs": [
        {
          "data": {
            "text/plain": [
              "<matplotlib.legend.Legend at 0x7fd4dc3841f0>"
            ]
          },
          "execution_count": 74,
          "metadata": {},
          "output_type": "execute_result"
        },
        {
          "data": {
            "image/png": "[encoded data removed]",
            "text/plain": [
              "<Figure size 800x550 with 1 Axes>"
            ]
          },
          "metadata": {},
          "output_type": "display_data"
        }
      ],
      "source": [
        "trains = []\n",
        "tests = []\n",
        "for depth in np.linspace(1, 101, 100):\n",
        "    rf = RandomForestClassifier(max_depth=depth).fit(bow, y_train)\n",
        "    trains.append(f1_score(y_train, rf.predict(vec.transform(X_train)), average='macro'))\n",
        "    tests.append(f1_score(y_test, rf.predict(vec.transform(X_test)), average='macro'))\n",
        "\n",
        "plt.plot(trains, label=\"train\")\n",
        "plt.plot(tests, label=\"test\")\n",
        "plt.legend()"
      ]
    },
    {
      "cell_type": "markdown",
      "id": "342589ae-35f3-475a-8216-97589785d651",
      "metadata": {
        "jp-MarkdownHeadingCollapsed": true,
        "tags": [],
        "id": "342589ae-35f3-475a-8216-97589785d651"
      },
      "source": [
        "# <a id=\"9.3\"></a>\n",
        "### <b>9.3 <span style='color:#43a842'>|</span> Decision Tree</b>\n",
        "* [Оглавление](#0)"
      ]
    },
    {
      "cell_type": "code",
      "execution_count": null,
      "id": "024ad72f-1658-4ef4-8554-438949db9edc",
      "metadata": {
        "id": "024ad72f-1658-4ef4-8554-438949db9edc"
      },
      "outputs": [],
      "source": [
        "params = {\n",
        "    'criterion': ['gini', 'entropy'],\n",
        "    'max_depth': [None, 5, 10, 15],\n",
        "    'min_samples_split': [2, 5, 10],\n",
        "    'min_samples_leaf': [1, 2, 4],\n",
        "    'max_features': [None, 'sqrt', 'log2']\n",
        "}\n"
      ]
    },
    {
      "cell_type": "code",
      "execution_count": null,
      "id": "3171f1f6-f876-4c51-97b9-815093546cce",
      "metadata": {
        "id": "3171f1f6-f876-4c51-97b9-815093546cce",
        "outputId": "46a21ac0-d090-4a52-ed31-1f89f1dbf2b2"
      },
      "outputs": [
        {
          "name": "stdout",
          "output_type": "stream",
          "text": [
            "CPU times: user 3.83 s, sys: 10.5 ms, total: 3.84 s\n",
            "Wall time: 3.85 s\n"
          ]
        }
      ],
      "source": [
        "%%time\n",
        "search = GridSearchCV(dt, params, cv=10, scoring='f1_macro').fit(bow, y_train)"
      ]
    },
    {
      "cell_type": "code",
      "execution_count": null,
      "id": "4cd8712f-4d7a-4d53-9b7e-7576d0a45465",
      "metadata": {
        "id": "4cd8712f-4d7a-4d53-9b7e-7576d0a45465",
        "outputId": "922f61e6-f71f-4090-dc0a-e54d49dbcaac"
      },
      "outputs": [
        {
          "data": {
            "text/plain": [
              "{'criterion': 'gini',\n",
              " 'max_depth': None,\n",
              " 'max_features': None,\n",
              " 'min_samples_leaf': 1,\n",
              " 'min_samples_split': 2}"
            ]
          },
          "execution_count": 77,
          "metadata": {},
          "output_type": "execute_result"
        }
      ],
      "source": [
        "search.best_params_"
      ]
    },
    {
      "cell_type": "code",
      "execution_count": null,
      "id": "a54a7693-9caf-4b18-8ef2-4f43465d10be",
      "metadata": {
        "id": "a54a7693-9caf-4b18-8ef2-4f43465d10be"
      },
      "outputs": [],
      "source": [
        "best_dt = search.best_estimator_"
      ]
    },
    {
      "cell_type": "code",
      "execution_count": null,
      "id": "1082f9e6-eda0-4aef-8783-3f2eb47682fa",
      "metadata": {
        "id": "1082f9e6-eda0-4aef-8783-3f2eb47682fa"
      },
      "outputs": [],
      "source": [
        "template = template.append(get_metrics(best_dt, 'Remastered D Tree'))"
      ]
    },
    {
      "cell_type": "code",
      "execution_count": null,
      "id": "54314f33-5ed5-4a49-8955-688a03ed1b4e",
      "metadata": {
        "id": "54314f33-5ed5-4a49-8955-688a03ed1b4e",
        "outputId": "1dde6827-baf5-4aad-c320-e4330828d6a9"
      },
      "outputs": [
        {
          "data": {
            "text/plain": [
              "<matplotlib.legend.Legend at 0x7fd4dbfede50>"
            ]
          },
          "execution_count": 80,
          "metadata": {},
          "output_type": "execute_result"
        },
        {
          "data": {
            "image/png": "[encoded data removed]",
            "text/plain": [
              "<Figure size 800x550 with 1 Axes>"
            ]
          },
          "metadata": {},
          "output_type": "display_data"
        }
      ],
      "source": [
        "trains = []\n",
        "tests = []\n",
        "for depth in np.linspace(1, 101, 100):\n",
        "    dt = DecisionTreeClassifier(max_depth=depth).fit(bow, y_train)\n",
        "    trains.append(f1_score(y_train, dt.predict(vec.transform(X_train)), average='macro'))\n",
        "    tests.append(f1_score(y_test, dt.predict(vec.transform(X_test)), average='macro'))\n",
        "\n",
        "plt.plot(trains, label=\"train\")\n",
        "plt.plot(tests, label=\"test\")\n",
        "plt.legend()"
      ]
    },
    {
      "cell_type": "code",
      "execution_count": null,
      "id": "100be79f-7c7a-4ec5-b968-18bbff741383",
      "metadata": {
        "id": "100be79f-7c7a-4ec5-b968-18bbff741383",
        "outputId": "b506da21-69e3-4690-f80e-e8212947ff07"
      },
      "outputs": [
        {
          "data": {
            "image/png": "[encoded data removed]",
            "text/plain": [
              "<Figure size 800x550 with 1 Axes>"
            ]
          },
          "metadata": {},
          "output_type": "display_data"
        }
      ],
      "source": [
        "visualizer = LearningCurve(\n",
        "    DecisionTreeClassifier(random_state=42), train_sizes=np.linspace(0.1, 1.0, 10)\n",
        ").fit(bow, y_train).show() "
      ]
    },
    {
      "cell_type": "markdown",
      "id": "874273d5-d13e-40d4-a2df-999eb8274698",
      "metadata": {
        "tags": [],
        "id": "874273d5-d13e-40d4-a2df-999eb8274698"
      },
      "source": [
        "# <a id=\"10\"></a>\n",
        "## <b>10 <span style='color:#43a842'>|</span> Oversampling</b>\n",
        "* [Оглавление](#0)"
      ]
    },
    {
      "cell_type": "markdown",
      "id": "3caa2d28-3a6c-4629-b4f9-8d877901c61f",
      "metadata": {
        "id": "3caa2d28-3a6c-4629-b4f9-8d877901c61f"
      },
      "source": [
        "> Oversampling (увеличение выборки) - это техника балансировки классов, которая заключается в увеличении числа примеров меньшего класса, чтобы достичь более равномерного распределения классов в обучающей выборке."
      ]
    },
    {
      "cell_type": "code",
      "execution_count": null,
      "id": "ac7970d8-4dbb-434f-982e-52b9938c20b0",
      "metadata": {
        "id": "ac7970d8-4dbb-434f-982e-52b9938c20b0"
      },
      "outputs": [],
      "source": [
        "train_os = pd.DataFrame({'Token': X_train,\n",
        "                        'Target': y_train})"
      ]
    },
    {
      "cell_type": "code",
      "execution_count": null,
      "id": "d8b15dff-c152-401b-a8d7-b36f74878858",
      "metadata": {
        "id": "d8b15dff-c152-401b-a8d7-b36f74878858",
        "outputId": "39a01fbc-7b1a-4abe-95ee-8d1f84008d70"
      },
      "outputs": [
        {
          "data": {
            "text/plain": [
              "тов      141\n",
              "тип       70\n",
              "назн      61\n",
              "разм      47\n",
              "мод       40\n",
              "бренд     30\n",
              "мат       28\n",
              "Name: Target, dtype: int64"
            ]
          },
          "execution_count": 225,
          "metadata": {},
          "output_type": "execute_result"
        }
      ],
      "source": [
        "train_os.Target.value_counts()"
      ]
    },
    {
      "cell_type": "code",
      "execution_count": null,
      "id": "73fd038d-582c-4074-970f-b79934f42651",
      "metadata": {
        "id": "73fd038d-582c-4074-970f-b79934f42651"
      },
      "outputs": [],
      "source": [
        "smote = SMOTE(random_state=42)\n",
        "X_resampled, y_resampled = smote.fit_resample(bow, y_train)"
      ]
    },
    {
      "cell_type": "code",
      "execution_count": null,
      "id": "87e2dea7-f9ba-4d82-a2b5-8673d3729e20",
      "metadata": {
        "id": "87e2dea7-f9ba-4d82-a2b5-8673d3729e20"
      },
      "outputs": [],
      "source": [
        "oversample = LogisticRegression(random_state=42, class_weight='balanced').fit(X_resampled, y_resampled)"
      ]
    },
    {
      "cell_type": "code",
      "execution_count": null,
      "id": "73bef74c-68fa-4cbd-9b0c-e7397dce7d04",
      "metadata": {
        "id": "73bef74c-68fa-4cbd-9b0c-e7397dce7d04",
        "outputId": "da88b5b3-0332-413a-df1c-396a90aa32aa"
      },
      "outputs": [
        {
          "name": "stdout",
          "output_type": "stream",
          "text": [
            "              precision    recall  f1-score   support\n",
            "\n",
            "       бренд       0.20      0.67      0.31         3\n",
            "         мат       0.44      1.00      0.62         4\n",
            "         мод       1.00      0.20      0.33        66\n",
            "        назн       0.48      1.00      0.65        10\n",
            "        разм       0.38      0.67      0.48         9\n",
            "         тип       0.22      0.71      0.33         7\n",
            "         тов       0.83      0.97      0.90        40\n",
            "\n",
            "    accuracy                           0.57       139\n",
            "   macro avg       0.51      0.75      0.52       139\n",
            "weighted avg       0.80      0.57      0.53       139\n",
            "\n"
          ]
        }
      ],
      "source": [
        "y_pred = oversample.predict(vec.transform(X_test))\n",
        "print(classification_report(y_pred, y_test))"
      ]
    },
    {
      "cell_type": "code",
      "execution_count": null,
      "id": "e0244c9d-d8b0-49ef-862b-5085adad1dd4",
      "metadata": {
        "id": "e0244c9d-d8b0-49ef-862b-5085adad1dd4"
      },
      "outputs": [],
      "source": [
        "oversample_df = pd.DataFrame({'Models': [],\n",
        "                              'Accuracy': [],\n",
        "                              'f1_macro': [],\n",
        "                              'f1_weighted': []})"
      ]
    },
    {
      "cell_type": "code",
      "execution_count": null,
      "id": "5b005c59-ca78-4c9e-86c2-520dba3d68c5",
      "metadata": {
        "id": "5b005c59-ca78-4c9e-86c2-520dba3d68c5"
      },
      "outputs": [],
      "source": [
        "def train_for_model(model, df, title):\n",
        "    clf = model.fit(X_resampled, y_resampled)\n",
        "    y_pred = clf.predict(vec.transform(X_test))\n",
        "    info = pd.DataFrame({'Models': [title],\n",
        "                  'Accuracy': accuracy_score(y_test, y_pred),\n",
        "                  'f1_macro': f1_score(y_test, y_pred, average='macro'),\n",
        "                  'f1_weighted': f1_score(y_test, y_pred, average='weighted')})\n",
        "    df = df.append(info)\n",
        "    return df"
      ]
    },
    {
      "cell_type": "code",
      "execution_count": null,
      "id": "a6a7866c-271f-4da1-9315-90e4d4f55381",
      "metadata": {
        "id": "a6a7866c-271f-4da1-9315-90e4d4f55381"
      },
      "outputs": [],
      "source": [
        "lr_info = train_for_model(LogisticRegression(random_state=42), oversample_df, 'OS Log Rega')\n",
        "rf_info = train_for_model(RandomForestClassifier(random_state=42), lr_info, 'OS R Forest')\n",
        "dt_info = train_for_model(DecisionTreeClassifier(random_state=42), rf_info, 'OS D Tree')"
      ]
    },
    {
      "cell_type": "markdown",
      "id": "c85444c4-1758-43d6-8cbf-abc15456bb2f",
      "metadata": {
        "id": "c85444c4-1758-43d6-8cbf-abc15456bb2f"
      },
      "source": [
        "# Smote results"
      ]
    },
    {
      "cell_type": "code",
      "execution_count": null,
      "id": "3fc8fd05-399a-4be4-a698-e77c557b6751",
      "metadata": {
        "id": "3fc8fd05-399a-4be4-a698-e77c557b6751",
        "outputId": "529668a7-0526-44fe-8cfb-c03d252405f4"
      },
      "outputs": [
        {
          "data": {
            "text/html": [
              "<div>\n",
              "<style scoped>\n",
              "    .dataframe tbody tr th:only-of-type {\n",
              "        vertical-align: middle;\n",
              "    }\n",
              "\n",
              "    .dataframe tbody tr th {\n",
              "        vertical-align: top;\n",
              "    }\n",
              "\n",
              "    .dataframe thead th {\n",
              "        text-align: right;\n",
              "    }\n",
              "</style>\n",
              "<table border=\"1\" class=\"dataframe\">\n",
              "  <thead>\n",
              "    <tr style=\"text-align: right;\">\n",
              "      <th></th>\n",
              "      <th>Models</th>\n",
              "      <th>Accuracy</th>\n",
              "      <th>f1_macro</th>\n",
              "      <th>f1_weighted</th>\n",
              "    </tr>\n",
              "  </thead>\n",
              "  <tbody>\n",
              "    <tr>\n",
              "      <th>0</th>\n",
              "      <td>OS Log Rega</td>\n",
              "      <td>0.568345</td>\n",
              "      <td>0.515320</td>\n",
              "      <td>0.603790</td>\n",
              "    </tr>\n",
              "    <tr>\n",
              "      <th>0</th>\n",
              "      <td>OS R Forest</td>\n",
              "      <td>0.539568</td>\n",
              "      <td>0.479798</td>\n",
              "      <td>0.581497</td>\n",
              "    </tr>\n",
              "    <tr>\n",
              "      <th>0</th>\n",
              "      <td>OS D Tree</td>\n",
              "      <td>0.532374</td>\n",
              "      <td>0.468708</td>\n",
              "      <td>0.568941</td>\n",
              "    </tr>\n",
              "  </tbody>\n",
              "</table>\n",
              "</div>"
            ],
            "text/plain": [
              "        Models  Accuracy  f1_macro  f1_weighted\n",
              "0  OS Log Rega  0.568345  0.515320     0.603790\n",
              "0  OS R Forest  0.539568  0.479798     0.581497\n",
              "0    OS D Tree  0.532374  0.468708     0.568941"
            ]
          },
          "execution_count": 232,
          "metadata": {},
          "output_type": "execute_result"
        }
      ],
      "source": [
        "dt_info"
      ]
    },
    {
      "cell_type": "markdown",
      "id": "7970412a-b414-444e-bc79-b249dc132f03",
      "metadata": {
        "tags": [],
        "id": "7970412a-b414-444e-bc79-b249dc132f03"
      },
      "source": [
        "# My_oversampling"
      ]
    },
    {
      "cell_type": "code",
      "execution_count": null,
      "id": "d70d85ea-4adf-48cd-992b-92cd13e2cc45",
      "metadata": {
        "id": "d70d85ea-4adf-48cd-992b-92cd13e2cc45"
      },
      "outputs": [],
      "source": [
        "train_os = pd.DataFrame({'Token': X_train,\n",
        "                        'Target': y_train})"
      ]
    },
    {
      "cell_type": "code",
      "execution_count": null,
      "id": "e4676523-8132-45c7-af15-fd6944e8dd3c",
      "metadata": {
        "id": "e4676523-8132-45c7-af15-fd6944e8dd3c",
        "outputId": "20a39d63-dab5-4676-9873-97c81956bd5f"
      },
      "outputs": [
        {
          "data": {
            "text/plain": [
              "[1.0,\n",
              " 2.0142857142857142,\n",
              " 2.3114754098360657,\n",
              " 3.0,\n",
              " 3.525,\n",
              " 4.7,\n",
              " 5.035714285714286]"
            ]
          },
          "execution_count": 234,
          "metadata": {},
          "output_type": "execute_result"
        }
      ],
      "source": [
        "rats = []\n",
        "largest_class = train_os.Target.value_counts().max()\n",
        "for i in train_os.Target.value_counts():\n",
        "    rats.append(largest_class / i)\n",
        "rats"
      ]
    },
    {
      "cell_type": "code",
      "execution_count": null,
      "id": "51ad61f0-3a6c-44fe-8deb-c8d8abbfc10e",
      "metadata": {
        "id": "51ad61f0-3a6c-44fe-8deb-c8d8abbfc10e"
      },
      "outputs": [],
      "source": [
        "def oversampling(df, rats, *target):\n",
        "    oversampl_df = df.loc[df.Target == 'тов']\n",
        "    for i in range(len(target)):\n",
        "        mask = df.loc[df.Target == target[i]]\n",
        "        sampled_class = mask.loc[mask.index.repeat(int(rats[i + 1]))]\n",
        "        oversampl_df = oversampl_df.append(sampled_class)\n",
        "    return oversampl_df"
      ]
    },
    {
      "cell_type": "code",
      "execution_count": null,
      "id": "a265b77b-4037-462d-99b9-5399c2de5f08",
      "metadata": {
        "id": "a265b77b-4037-462d-99b9-5399c2de5f08",
        "outputId": "0afcd820-a83d-4463-a92a-0d5791481f08"
      },
      "outputs": [
        {
          "data": {
            "text/plain": [
              "(924, 2)"
            ]
          },
          "execution_count": 236,
          "metadata": {},
          "output_type": "execute_result"
        }
      ],
      "source": [
        "new_train_os = oversampling(train_os, rats, 'тип', 'назн', 'разм', 'мод', 'бренд', 'мат')\n",
        "new_train_os.shape"
      ]
    },
    {
      "cell_type": "code",
      "execution_count": null,
      "id": "57683c1b-7205-4d15-b872-d7e646b23865",
      "metadata": {
        "id": "57683c1b-7205-4d15-b872-d7e646b23865",
        "outputId": "3105d098-7606-4e63-c88c-dd46fbb824a0"
      },
      "outputs": [
        {
          "data": {
            "image/png": "[encoded data removed]",
            "text/plain": [
              "<Figure size 800x550 with 1 Axes>"
            ]
          },
          "metadata": {},
          "output_type": "display_data"
        }
      ],
      "source": [
        "plt.hist(new_train_os['Target'], bins=new_train_os['Target'].nunique(), rwidth=0.5)\n",
        "plt.xticks([])\n",
        "plt.show()"
      ]
    },
    {
      "cell_type": "code",
      "execution_count": null,
      "id": "27aed74b-5343-4f53-bbd6-2b7670d481f1",
      "metadata": {
        "id": "27aed74b-5343-4f53-bbd6-2b7670d481f1"
      },
      "outputs": [],
      "source": [
        "y_os = new_train_os['Target']\n",
        "X_os = new_train_os['Token']\n",
        "X_train_os, X_test_os, y_train_os, y_test_os = train_test_split(X_os, y_os, test_size = 0.25, random_state=42)"
      ]
    },
    {
      "cell_type": "code",
      "execution_count": null,
      "id": "a77f8a66-3bb5-42a9-9aa9-cfef7f969cd0",
      "metadata": {
        "id": "a77f8a66-3bb5-42a9-9aa9-cfef7f969cd0"
      },
      "outputs": [],
      "source": [
        "vec = CountVectorizer(ngram_range=(1, 1)) # строим BoW для слов\n",
        "new_bow = vec.fit_transform(X_train_os)"
      ]
    },
    {
      "cell_type": "code",
      "execution_count": null,
      "id": "2b94c46f-750a-4368-abf6-201343aac37c",
      "metadata": {
        "id": "2b94c46f-750a-4368-abf6-201343aac37c"
      },
      "outputs": [],
      "source": [
        "clf_os = LogisticRegression(random_state=42, class_weight='balanced').fit(new_bow, y_train_os)"
      ]
    },
    {
      "cell_type": "markdown",
      "id": "f1387bdb-300c-414a-a305-23f90376037e",
      "metadata": {
        "id": "f1387bdb-300c-414a-a305-23f90376037e"
      },
      "source": [
        "##### Оценка модели по новой выборке"
      ]
    },
    {
      "cell_type": "code",
      "execution_count": null,
      "id": "8e2a8908-4dd5-4b22-abd7-6585e8ca80f5",
      "metadata": {
        "id": "8e2a8908-4dd5-4b22-abd7-6585e8ca80f5",
        "outputId": "068439eb-eb3e-4fc9-c607-5fb374a27142"
      },
      "outputs": [
        {
          "name": "stdout",
          "output_type": "stream",
          "text": [
            "              precision    recall  f1-score   support\n",
            "\n",
            "       бренд       1.00      1.00      1.00        26\n",
            "         мат       1.00      0.90      0.95        39\n",
            "         мод       1.00      0.81      0.90        32\n",
            "        назн       0.89      1.00      0.94        33\n",
            "        разм       0.90      1.00      0.95        35\n",
            "         тип       0.80      0.65      0.72        37\n",
            "         тов       0.76      1.00      0.87        29\n",
            "\n",
            "    accuracy                           0.90       231\n",
            "   macro avg       0.91      0.91      0.90       231\n",
            "weighted avg       0.91      0.90      0.90       231\n",
            "\n"
          ]
        }
      ],
      "source": [
        "y_pred = clf_os.predict(vec.transform(X_test_os))\n",
        "print(classification_report(y_pred, y_test_os))"
      ]
    },
    {
      "cell_type": "markdown",
      "id": "54182bcf-6dca-4f7b-b894-780a8f9600e4",
      "metadata": {
        "id": "54182bcf-6dca-4f7b-b894-780a8f9600e4"
      },
      "source": [
        "##### Оценка модели по первой выборке (несбалансированной)"
      ]
    },
    {
      "cell_type": "code",
      "execution_count": null,
      "id": "5911e391-e0f7-44d6-af77-cf7723d3fcea",
      "metadata": {
        "id": "5911e391-e0f7-44d6-af77-cf7723d3fcea",
        "outputId": "7bb4f820-b54a-498d-c33d-ae868f8261a8"
      },
      "outputs": [
        {
          "name": "stdout",
          "output_type": "stream",
          "text": [
            "              precision    recall  f1-score   support\n",
            "\n",
            "       бренд       0.20      0.67      0.31         3\n",
            "         мат       0.44      1.00      0.62         4\n",
            "         мод       0.08      0.25      0.12         4\n",
            "        назн       0.48      1.00      0.65        10\n",
            "        разм       0.38      0.67      0.48         9\n",
            "         тип       0.78      0.25      0.38        71\n",
            "         тов       0.81      1.00      0.89        38\n",
            "\n",
            "    accuracy                           0.57       139\n",
            "   macro avg       0.45      0.69      0.49       139\n",
            "weighted avg       0.70      0.57      0.55       139\n",
            "\n"
          ]
        }
      ],
      "source": [
        "y_predicted = clf_os.predict(vec.transform(X_test))\n",
        "print(classification_report(y_predicted, y_test))"
      ]
    },
    {
      "cell_type": "code",
      "execution_count": null,
      "id": "96706646-7ef8-4531-981a-d3bf1ae3518e",
      "metadata": {
        "id": "96706646-7ef8-4531-981a-d3bf1ae3518e"
      },
      "outputs": [],
      "source": [
        "def train_for_model(model, df, title):\n",
        "    clf = model.fit(new_bow, y_train_os)\n",
        "    y_pred = clf.predict(vec.transform(X_test))\n",
        "    info = pd.DataFrame({'Models': [title],\n",
        "                  'Accuracy': accuracy_score(y_test, y_pred),\n",
        "                  'f1_macro': f1_score(y_test, y_pred, average='macro'),\n",
        "                  'f1_weighted': f1_score(y_test, y_pred, average='weighted')})\n",
        "    df = df.append(info)\n",
        "    return df"
      ]
    },
    {
      "cell_type": "code",
      "execution_count": null,
      "id": "503c8565-d4d5-4410-b9c2-b382469d2ee5",
      "metadata": {
        "id": "503c8565-d4d5-4410-b9c2-b382469d2ee5",
        "outputId": "d2e04780-31b4-45c8-d160-a8c5bef4dc0b"
      },
      "outputs": [
        {
          "data": {
            "text/html": [
              "<div>\n",
              "<style scoped>\n",
              "    .dataframe tbody tr th:only-of-type {\n",
              "        vertical-align: middle;\n",
              "    }\n",
              "\n",
              "    .dataframe tbody tr th {\n",
              "        vertical-align: top;\n",
              "    }\n",
              "\n",
              "    .dataframe thead th {\n",
              "        text-align: right;\n",
              "    }\n",
              "</style>\n",
              "<table border=\"1\" class=\"dataframe\">\n",
              "  <thead>\n",
              "    <tr style=\"text-align: right;\">\n",
              "      <th></th>\n",
              "      <th>Models</th>\n",
              "      <th>Accuracy</th>\n",
              "      <th>f1_macro</th>\n",
              "      <th>f1_weighted</th>\n",
              "    </tr>\n",
              "  </thead>\n",
              "  <tbody>\n",
              "    <tr>\n",
              "      <th>0</th>\n",
              "      <td>OS Log Rega</td>\n",
              "      <td>0.568345</td>\n",
              "      <td>0.491855</td>\n",
              "      <td>0.591404</td>\n",
              "    </tr>\n",
              "  </tbody>\n",
              "</table>\n",
              "</div>"
            ],
            "text/plain": [
              "        Models  Accuracy  f1_macro  f1_weighted\n",
              "0  OS Log Rega  0.568345  0.491855     0.591404"
            ]
          },
          "execution_count": 244,
          "metadata": {},
          "output_type": "execute_result"
        }
      ],
      "source": [
        "lr_info = train_for_model(LogisticRegression(random_state=42), oversample_df, 'OS Log Rega')\n",
        "lr_info"
      ]
    },
    {
      "cell_type": "markdown",
      "id": "af40ab01-8869-442a-8e02-fd1bd0a5882c",
      "metadata": {
        "id": "af40ab01-8869-442a-8e02-fd1bd0a5882c"
      },
      "source": [
        "С oversampling'ом"
      ]
    },
    {
      "cell_type": "code",
      "execution_count": null,
      "id": "1e43a2ed-b52c-4e81-a3cc-c7d0021c32dd",
      "metadata": {
        "id": "1e43a2ed-b52c-4e81-a3cc-c7d0021c32dd",
        "outputId": "f25a5e0b-7616-4f18-dfed-852e8e578ff2"
      },
      "outputs": [
        {
          "data": {
            "text/html": [
              "<div>\n",
              "<style scoped>\n",
              "    .dataframe tbody tr th:only-of-type {\n",
              "        vertical-align: middle;\n",
              "    }\n",
              "\n",
              "    .dataframe tbody tr th {\n",
              "        vertical-align: top;\n",
              "    }\n",
              "\n",
              "    .dataframe thead th {\n",
              "        text-align: right;\n",
              "    }\n",
              "</style>\n",
              "<table border=\"1\" class=\"dataframe\">\n",
              "  <thead>\n",
              "    <tr style=\"text-align: right;\">\n",
              "      <th></th>\n",
              "      <th>Models</th>\n",
              "      <th>Accuracy</th>\n",
              "      <th>f1_macro</th>\n",
              "      <th>f1_weighted</th>\n",
              "    </tr>\n",
              "  </thead>\n",
              "  <tbody>\n",
              "    <tr>\n",
              "      <th>0</th>\n",
              "      <td>OS Log Rega</td>\n",
              "      <td>0.568345</td>\n",
              "      <td>0.491855</td>\n",
              "      <td>0.591404</td>\n",
              "    </tr>\n",
              "    <tr>\n",
              "      <th>0</th>\n",
              "      <td>OS R Forest</td>\n",
              "      <td>0.568345</td>\n",
              "      <td>0.491855</td>\n",
              "      <td>0.591404</td>\n",
              "    </tr>\n",
              "  </tbody>\n",
              "</table>\n",
              "</div>"
            ],
            "text/plain": [
              "        Models  Accuracy  f1_macro  f1_weighted\n",
              "0  OS Log Rega  0.568345  0.491855     0.591404\n",
              "0  OS R Forest  0.568345  0.491855     0.591404"
            ]
          },
          "execution_count": 245,
          "metadata": {},
          "output_type": "execute_result"
        }
      ],
      "source": [
        "rf_info = train_for_model(RandomForestClassifier(random_state=42), lr_info, 'OS R Forest')\n",
        "rf_info"
      ]
    },
    {
      "cell_type": "markdown",
      "id": "6888956b-c116-42bb-ac90-ebdad8df0b45",
      "metadata": {
        "id": "6888956b-c116-42bb-ac90-ebdad8df0b45"
      },
      "source": [
        "# <a id=\"11\"></a>\n",
        "### <b>11<span style='color:#43a842'>|</span> Demonstration of results</b>\n",
        "* [Оглавление](#0)"
      ]
    },
    {
      "cell_type": "markdown",
      "source": [
        "В данном блоке работы была разработана функция, принимающая абсолютно любое название товара и делает предикт для каждого токена в нем. Строка нормализуется и идет в предикт уже готового классификатора."
      ],
      "metadata": {
        "id": "jgAWXPGN9dqW"
      },
      "id": "jgAWXPGN9dqW"
    },
    {
      "cell_type": "code",
      "execution_count": null,
      "id": "a322edc6-d050-4ae4-b1a6-8de6d5f8d04f",
      "metadata": {
        "id": "a322edc6-d050-4ae4-b1a6-8de6d5f8d04f"
      },
      "outputs": [],
      "source": [
        "def predict(title):\n",
        "    \n",
        "    title = re.sub(r'[^\\w\\s]', '', title)\n",
        "    title = [word.lower() for word in title.split() if not word in stop_words and len(word) > 2]\n",
        "    norm_title = [morph.parse(token)[0].normal_form for token in title]\n",
        "    print('Normolized title:', norm_title)\n",
        "    \n",
        "    X = pd.Series(norm_title)\n",
        "    print(f'Predicted values:{clf.predict(vec.transform(X))}')"
      ]
    },
    {
      "cell_type": "code",
      "execution_count": null,
      "id": "7565215d-84f6-457b-8e43-012a19596f1f",
      "metadata": {
        "id": "7565215d-84f6-457b-8e43-012a19596f1f",
        "outputId": "894cabcd-5681-4ec6-fd2a-68f7e9bbad98"
      },
      "outputs": [
        {
          "name": "stdout",
          "output_type": "stream",
          "text": [
            "Normolized title: ['погонажный', 'изделие', 'вагонка', 'евровагонка', 'имитация', 'брус', 'доска', 'пол', 'строгать', 'доска']\n",
            "Predicted values:['тип' 'тов' 'тип' 'тип' 'тип' 'тип' 'тип' 'тип' 'тип' 'тип']\n"
          ]
        }
      ],
      "source": [
        "predict('Погонажные изделия, вагонка, евровагонка, имитация бруса, доска пола, строганная доска')"
      ]
    },
    {
      "cell_type": "markdown",
      "source": [
        "# <a id=\"12\"></a>\n",
        "### <b>12<span style='color:#43a842'>|</span> The simplest neural network</b>\n",
        "* [Оглавление](#0)"
      ],
      "metadata": {
        "id": "Lkr9O7S81MXN"
      },
      "id": "Lkr9O7S81MXN"
    },
    {
      "cell_type": "markdown",
      "source": [
        "Для того, чтобы убедиться в том, что машинное обучение в чистом виде плохо себе показывает в задачах Named-entity recognition, было проведено исследование самой базовой модели нейронной сети. Для ее создания использовался пакет Tensor Flow и входящий в него Keras."
      ],
      "metadata": {
        "id": "agLivefC9h_K"
      },
      "id": "agLivefC9h_K"
    },
    {
      "cell_type": "code",
      "execution_count": 22,
      "metadata": {
        "id": "Cs0-MyFn1IDL"
      },
      "outputs": [],
      "source": [
        "class Sentence_getter(object):\n",
        "    def __init__(self, data):\n",
        "        self.data = data\n",
        "        agg_fun = lambda s: [(w, p) for w, p in zip(s[\"Token\"].values.tolist(),\n",
        "                                                       s['Tag'].values.tolist())]\n",
        "        \n",
        "        self.grouped = self.data.groupby('Sentence').apply(agg_fun)\n",
        "        self.sentences = [i for i in self.grouped]"
      ],
      "id": "Cs0-MyFn1IDL"
    },
    {
      "cell_type": "code",
      "execution_count": 23,
      "metadata": {
        "id": "X8SUWYCP1IDY"
      },
      "outputs": [],
      "source": [
        "getter = Sentence_getter(df)"
      ],
      "id": "X8SUWYCP1IDY"
    },
    {
      "cell_type": "markdown",
      "source": [
        "Создание списков из zip с атрибутами и самим токеном для каждого товара"
      ],
      "metadata": {
        "id": "CDPRkFuS9tUa"
      },
      "id": "CDPRkFuS9tUa"
    },
    {
      "cell_type": "code",
      "execution_count": 24,
      "metadata": {
        "id": "HARD0JsN1IDY"
      },
      "outputs": [],
      "source": [
        "sentences = getter.sentences"
      ],
      "id": "HARD0JsN1IDY"
    },
    {
      "cell_type": "code",
      "execution_count": 25,
      "metadata": {
        "colab": {
          "base_uri": "https://localhost:8080/"
        },
        "outputId": "db92ea71-384a-4107-973a-81e830e5f883",
        "id": "tH8LBgsE1IDY"
      },
      "outputs": [
        {
          "output_type": "execute_result",
          "data": {
            "text/plain": [
              "[('аквавошер', 'тов'),\n",
              " ('clean', 'бренд'),\n",
              " ('cube', 'бренд'),\n",
              " ('рro', 'бренд'),\n",
              " ('для', '-'),\n",
              " ('стиральный', 'назн'),\n",
              " ('машина', '-')]"
            ]
          },
          "metadata": {},
          "execution_count": 25
        }
      ],
      "source": [
        "sentences[0]"
      ],
      "id": "tH8LBgsE1IDY"
    },
    {
      "cell_type": "code",
      "execution_count": 26,
      "metadata": {
        "id": "sRW3BEK31IDZ"
      },
      "outputs": [],
      "source": [
        "words = list(set(df[\"Token\"].values))\n",
        "tags = list(set(df[\"Tag\"].values))"
      ],
      "id": "sRW3BEK31IDZ"
    },
    {
      "cell_type": "markdown",
      "source": [
        "Для каждого уникального токена/тэга задаются соответсвующие уникальные индексы"
      ],
      "metadata": {
        "id": "qo0ioqds-Nyx"
      },
      "id": "qo0ioqds-Nyx"
    },
    {
      "cell_type": "code",
      "execution_count": 27,
      "metadata": {
        "id": "RLChzMNA1IDZ"
      },
      "outputs": [],
      "source": [
        "# Creating vocabulary\n",
        "word2idx = {w: i + 1 for i, w in enumerate(words)}\n",
        "tag2idx = {t: i for i, t in enumerate(tags)}"
      ],
      "id": "RLChzMNA1IDZ"
    },
    {
      "cell_type": "code",
      "execution_count": 28,
      "metadata": {
        "colab": {
          "base_uri": "https://localhost:8080/"
        },
        "outputId": "d73d1ab9-942f-474a-d728-35dd3e21c80c",
        "id": "43adEdnT1IDZ"
      },
      "outputs": [
        {
          "output_type": "execute_result",
          "data": {
            "text/plain": [
              "{'мод': 0,\n",
              " 'бренд': 1,\n",
              " 'разм': 2,\n",
              " 'тип': 3,\n",
              " 'тов': 4,\n",
              " 'мат': 5,\n",
              " 'назн': 6,\n",
              " '-': 7}"
            ]
          },
          "metadata": {},
          "execution_count": 28
        }
      ],
      "source": [
        "tag2idx"
      ],
      "id": "43adEdnT1IDZ"
    },
    {
      "cell_type": "code",
      "execution_count": 29,
      "metadata": {
        "colab": {
          "base_uri": "https://localhost:8080/",
          "height": 484
        },
        "outputId": "d36dc971-5293-4717-9af9-22163f39c51a",
        "id": "82-7ihc91IDZ"
      },
      "outputs": [
        {
          "output_type": "display_data",
          "data": {
            "text/plain": [
              "<Figure size 800x550 with 1 Axes>"
            ],
            "image/png": "[encoded data removed]"
          },
          "metadata": {}
        }
      ],
      "source": [
        "plt.hist([len(s) for s in sentences], bins = 50)\n",
        "plt.show()"
      ],
      "id": "82-7ihc91IDZ"
    },
    {
      "cell_type": "code",
      "source": [
        "num_words = len(words)\n",
        "num_tags = len(tags)\n",
        "num_words"
      ],
      "metadata": {
        "colab": {
          "base_uri": "https://localhost:8080/"
        },
        "outputId": "cc397fba-bcbf-44c5-a310-511a55dc2c03",
        "id": "JTV5CwQa1IDZ"
      },
      "execution_count": 30,
      "outputs": [
        {
          "output_type": "execute_result",
          "data": {
            "text/plain": [
              "481"
            ]
          },
          "metadata": {},
          "execution_count": 30
        }
      ],
      "id": "JTV5CwQa1IDZ"
    },
    {
      "cell_type": "code",
      "source": [
        "max_len = 20\n",
        "\n",
        "X = [[word2idx[w[0]] for w in s] for s in sentences] # представление слов тайтла в соот-ие индексы\n",
        "X = pad_sequences(maxlen = max_len, sequences=X, padding='post', value=num_words-1)  # формирование матрицы, при помощи добавления последнего индекса до того момента, пока длина листа не будет 20\n",
        "\n",
        "y = [[tag2idx[w[1]] for w in s] for s in sentences]\n",
        "y = pad_sequences(maxlen = max_len, sequences=y, padding='post', value=tag2idx[\"-\"])"
      ],
      "metadata": {
        "id": "GduQEe6-1IDZ"
      },
      "execution_count": 31,
      "outputs": [],
      "id": "GduQEe6-1IDZ"
    },
    {
      "cell_type": "markdown",
      "source": [
        "One hot encoder. Преобразует целочисленные метки классов в бинарную матрицу, где каждая метка класса представлена в виде вектора с единицей в соответствующем индексе класса"
      ],
      "metadata": {
        "id": "nLLamFhL1IDZ"
      },
      "id": "nLLamFhL1IDZ"
    },
    {
      "cell_type": "code",
      "source": [
        "y = [to_categorical(i, num_classes=num_tags) for i in y]"
      ],
      "metadata": {
        "id": "Ml5dTuF01IDa"
      },
      "execution_count": 32,
      "outputs": [],
      "id": "Ml5dTuF01IDa"
    },
    {
      "cell_type": "code",
      "source": [
        "X_train, X_test, y_train, y_test = train_test_split(X, y, test_size=0.1,random_state=42)"
      ],
      "metadata": {
        "id": "_R8GpyyE1IDa"
      },
      "execution_count": 33,
      "outputs": [],
      "id": "_R8GpyyE1IDa"
    },
    {
      "cell_type": "markdown",
      "source": [
        "Описание архитектуры нейронной сети."
      ],
      "metadata": {
        "id": "38QHs2Rb_g5q"
      },
      "id": "38QHs2Rb_g5q"
    },
    {
      "cell_type": "code",
      "source": [
        "input_word = Input(shape=(max_len,)) # создается входной слой с заданной формой \n",
        "model = Embedding(input_dim=num_words, output_dim=max_len, input_length=max_len)(input_word) #Слой отображает целые числа (входные индексы слов) в плотные векторы фиксированной размерности\n",
        "model = SpatialDropout1D(0.1)(model) #регуляризацию модели путем случайного обнуления (dropout) некоторых выходных признаков на уровне фичей входной последовательности\n",
        "model = Bidirectional(LSTM(units=100, return_sequences=True, recurrent_dropout=0.1))(model) #слой, который позволяет модели улавливать и использовать информацию из прошлых и будущих состояний последовательности\n",
        "out = TimeDistributed(Dense(num_tags, activation='softmax'))(model) #позволяет применить плотный слой ко всем временным шагам (выходам) предыдущего слоя\n",
        "\n",
        "model = Model(input_word, out) # экземпляр модели, определяющий входной и выходной слои\n",
        "model.summary() #сводка"
      ],
      "metadata": {
        "colab": {
          "base_uri": "https://localhost:8080/"
        },
        "outputId": "57b1654a-c386-42a0-9244-a629d3f372f4",
        "id": "xYaqo0rz1IDa"
      },
      "execution_count": 34,
      "outputs": [
        {
          "output_type": "stream",
          "name": "stdout",
          "text": [
            "Model: \"model\"\n",
            "_________________________________________________________________\n",
            " Layer (type)                Output Shape              Param #   \n",
            "=================================================================\n",
            " input_1 (InputLayer)        [(None, 20)]              0         \n",
            "                                                                 \n",
            " embedding (Embedding)       (None, 20, 20)            9620      \n",
            "                                                                 \n",
            " spatial_dropout1d (SpatialD  (None, 20, 20)           0         \n",
            " ropout1D)                                                       \n",
            "                                                                 \n",
            " bidirectional (Bidirectiona  (None, 20, 200)          96800     \n",
            " l)                                                              \n",
            "                                                                 \n",
            " time_distributed (TimeDistr  (None, 20, 8)            1608      \n",
            " ibuted)                                                         \n",
            "                                                                 \n",
            "=================================================================\n",
            "Total params: 108,028\n",
            "Trainable params: 108,028\n",
            "Non-trainable params: 0\n",
            "_________________________________________________________________\n"
          ]
        }
      ],
      "id": "xYaqo0rz1IDa"
    },
    {
      "cell_type": "code",
      "source": [
        "def f1_macro(y_train, y_pred):\n",
        "    return f1_score(tensorflow.argmax(y_train, axis=1), tensorflow.argmax(y_pred, axis=1), average='macro')"
      ],
      "metadata": {
        "id": "AmR-_WB21IDa"
      },
      "execution_count": null,
      "outputs": [],
      "id": "AmR-_WB21IDa"
    },
    {
      "cell_type": "code",
      "source": [
        "#для компиляции модели в Keras после ее определения\n",
        "model.compile(optimizer='adam',loss='categorical_crossentropy',\n",
        "             metrics=['accuracy'])"
      ],
      "metadata": {
        "id": "4-4f6lU11IDa"
      },
      "execution_count": 35,
      "outputs": [],
      "id": "4-4f6lU11IDa"
    },
    {
      "cell_type": "markdown",
      "source": [
        "EarlyStopping в Keras позволяет остановить обучение модели, когда заданное метрическое значение перестает улучшаться"
      ],
      "metadata": {
        "id": "EtmzVb8o1IDa"
      },
      "id": "EtmzVb8o1IDa"
    },
    {
      "cell_type": "code",
      "source": [
        "early_stopping = EarlyStopping(monitor='val_accuracy', patience = 1, verbose=0, mode='max', restore_best_weights=False)\n",
        "callbacks = [PlotLossesKeras(), early_stopping]\n",
        "\n",
        "history = model.fit(\n",
        "    X_train, np.array(y_train),\n",
        "    validation_split=0.2,\n",
        "    batch_size=32,\n",
        "    epochs=3,\n",
        "    verbose=1,\n",
        "    callbacks=callbacks\n",
        ")"
      ],
      "metadata": {
        "id": "ttf5a7aW1IDa"
      },
      "execution_count": null,
      "outputs": [],
      "id": "ttf5a7aW1IDa"
    },
    {
      "cell_type": "code",
      "source": [
        "len(X_test), len(y_test)"
      ],
      "metadata": {
        "colab": {
          "base_uri": "https://localhost:8080/"
        },
        "outputId": "18fe76ea-51af-407c-9ad9-8592fa551c44",
        "id": "TDmtcavT1IDa"
      },
      "execution_count": 39,
      "outputs": [
        {
          "output_type": "execute_result",
          "data": {
            "text/plain": [
              "(17, 17)"
            ]
          },
          "metadata": {},
          "execution_count": 39
        }
      ],
      "id": "TDmtcavT1IDa"
    },
    {
      "cell_type": "code",
      "source": [
        "model.evaluate(X_train, np.array(y_train))"
      ],
      "metadata": {
        "id": "ZGCSm5Jb1IDa"
      },
      "execution_count": null,
      "outputs": [],
      "id": "ZGCSm5Jb1IDa"
    },
    {
      "cell_type": "code",
      "source": [
        "model.evaluate(X_test, np.array(y_test))"
      ],
      "metadata": {
        "colab": {
          "base_uri": "https://localhost:8080/"
        },
        "outputId": "57a79d2e-fc88-457d-a11f-226faf7f08cd",
        "id": "w4thqqJ41IDb"
      },
      "execution_count": null,
      "outputs": [
        {
          "output_type": "stream",
          "name": "stdout",
          "text": [
            "1/1 [==============================] - 0s 46ms/step - loss: 1.8070 - accuracy: 0.8706\n"
          ]
        },
        {
          "output_type": "execute_result",
          "data": {
            "text/plain": [
              "[1.806983470916748, 0.8705882430076599]"
            ]
          },
          "metadata": {},
          "execution_count": 128
        }
      ],
      "id": "w4thqqJ41IDb"
    },
    {
      "cell_type": "code",
      "source": [
        "y_pred = model.predict(X_test)"
      ],
      "metadata": {
        "colab": {
          "base_uri": "https://localhost:8080/"
        },
        "outputId": "a4b2b3bd-17b5-40d2-a8ee-44ac7c5332a5",
        "id": "ZfQ7QEXH1IDb"
      },
      "execution_count": null,
      "outputs": [
        {
          "output_type": "stream",
          "name": "stdout",
          "text": [
            "1/1 [==============================] - 0s 69ms/step\n"
          ]
        }
      ],
      "id": "ZfQ7QEXH1IDb"
    },
    {
      "cell_type": "markdown",
      "id": "19436bd1-f73b-4b75-aa3f-5fb9847c6b1b",
      "metadata": {
        "id": "19436bd1-f73b-4b75-aa3f-5fb9847c6b1b"
      },
      "source": [
        "<a id=\"13\"></a>\n",
        "## <b>13<span style='color:#43a842'>|</span> Сonclusion</b>\n",
        "* [Оглавление](#0)"
      ]
    },
    {
      "cell_type": "markdown",
      "id": "07c8245a-840d-4eed-aba6-5f700d241fc2",
      "metadata": {
        "id": "07c8245a-840d-4eed-aba6-5f700d241fc2"
      },
      "source": [
        "Из-за недостаточного количества данных в задаче, любой перекос в сторону одного из классов оказывался критическим. \n",
        "Для преодоления этой проблемы было принято решение максимально расширить все классы путем добавления n_i chunks по таргету, \n",
        "где n_i = int((shape[0] самого большого класса) / (shape[0] i-го класса)). После обучения модели на такой выборке был получен довольно неплохой результат на изначальной тестовой выборке, которая была несбалансированной. Были изучены различные методы борьбы с недостатком данных и дисбалансом классов, и была подобрана оптимальная модель для решения задачи многоклассовой классификации с помощью логистической регрессии. Также был проведен анализ NER модели, при помощи Keras и рекуррентной нейронной сети, данная модель показала себя лучше всего, что неудивительно, ведь порядок слов в названии играет огромную роль в задачах NER."
      ]
    }
  ],
  "metadata": {
    "kernelspec": {
      "display_name": "Python 3 (ipykernel)",
      "language": "python",
      "name": "python3"
    },
    "language_info": {
      "codemirror_mode": {
        "name": "ipython",
        "version": 3
      },
      "file_extension": ".py",
      "mimetype": "text/x-python",
      "name": "python",
      "nbconvert_exporter": "python",
      "pygments_lexer": "ipython3",
      "version": "3.9.13"
    },
    "colab": {
      "provenance": [],
      "collapsed_sections": [
        "e9eb387f-bcc0-4b79-b5df-c8a090c578df",
        "205d70f3-104a-4f71-a76e-952bf2aa7ddd",
        "342589ae-35f3-475a-8216-97589785d651"
      ]
    }
  },
  "nbformat": 4,
  "nbformat_minor": 5
}