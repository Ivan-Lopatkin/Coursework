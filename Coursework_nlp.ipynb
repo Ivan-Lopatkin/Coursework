{
 "cells": [
  {
   "cell_type": "markdown",
   "id": "5d23d61a-fbc6-41e5-9235-7e1090a45d49",
   "metadata": {},
   "source": [
    "<h3><center>Федеральное государственное бюджетное образовательное учреждение\n",
    "<center>высшего образования\n",
    "<center>\"Финансовый университет при Правительстве \n",
    "<center>Российской Федерации\"\n",
    "<center>Департамент анализа данных и машинного обучения"
   ]
  },
  {
   "cell_type": "markdown",
   "id": "60d4d9b9-e0e4-452c-a61c-1dbcf97fc1d7",
   "metadata": {},
   "source": [
    "<h3><center>Курсовая работа\n",
    "<center>по дисциплине \"Машинное обучение\" \n",
    "<center>на тему: \n",
    "<center>\"Использование методов машинного обучения для решения задачи выделения атрибутов товаров из текста\"<center>"
   ]
  },
  {
   "cell_type": "markdown",
   "id": "130c1313-4fa4-48cf-ad90-038a69284ab7",
   "metadata": {
    "tags": [],
    "toc-hr-collapsed": true
   },
   "source": [
    "## ***<center> Введение***"
   ]
  },
  {
   "cell_type": "markdown",
   "id": "145e8e1a-4210-4273-83f5-84ae5594a2c3",
   "metadata": {},
   "source": [
    "####  _В современном мире с ростом электронной коммерции объемы информации о товарах, представленных в интернет-магазинах, постоянно увеличиваются. Для упрощения и ускорения поиска необходимой информации покупателями и снижения нагрузки на персонал магазинов, возникает задача автоматического выделения атрибутов товаров из описаний их характеристик, содержащихся в текстовых полях. Решение этой задачи с помощью методов машинного обучения может значительно упростить процесс поиска и сравнения товаров, а также повысить качество рекомендаций, которые система может предложить покупателю. В данной курсовой работе будет рассмотрено применение методов машинного обучения для решения задачи выделения атрибутов товаров из текстовых данных, различные подходы к решению задачи, оценены их достоинства и недостатки, а также проведено сравнение полученных результатов._"
   ]
  },
  {
   "cell_type": "markdown",
   "id": "63f33e7a-e245-45df-8f29-43f6a41d9b17",
   "metadata": {},
   "source": [
    "### ***<center> Цель работы***"
   ]
  },
  {
   "cell_type": "markdown",
   "id": "1dbc18db-b653-428c-aa2b-16c8b5786f8e",
   "metadata": {},
   "source": [
    "#### _Целью данной работы является исследование и применение методов машинного обучения для решения задачи выделения атрибутов товаров из текстовых данных, а также разработка и оценка моделей, способных автоматически извлекать необходимые сущности._"
   ]
  },
  {
   "cell_type": "markdown",
   "id": "ea10e74b-2bf3-4ebb-bdc1-8d9136a9a6e1",
   "metadata": {},
   "source": [
    "### ***<center> Задачи***"
   ]
  },
  {
   "cell_type": "markdown",
   "id": "3c93b003-c26b-486b-8bc7-1d24110686f1",
   "metadata": {},
   "source": [
    "Задачи, которые будут решаться в рамках данной работы, включают в себя: \n",
    "+ Сбор и обработка данных \n",
    "+ Основы Natural Language Processing'а:\n",
    "    + Нормализация (приведение слов к нижнему регистру, удаление всей пунктуации)\n",
    "    + Лемматизация (удаление стоп, приведение слов к нормальной форме)\n",
    "    + bow (bag-of-words) (векторизация)\n",
    "    + токенизация по словам\n",
    "+ Ручная разметка и сбор сэмпла\n",
    "+ Обработка разметочной выборки\n",
    "+ Обучение и подбор различных моделей машинного обучения\n",
    "+ Тюн параметров этих моделей с помощью перебора (GridSearchCV)\n",
    "+ Алгоритм ребалансировки классов \n",
    "+ Вывод результатов всех моделей"
   ]
  },
  {
   "cell_type": "markdown",
   "id": "91a8308c-7e7a-4a21-9077-b0b90af406c5",
   "metadata": {},
   "source": [
    "### ***<center> Содержание***"
   ]
  },
  {
   "cell_type": "markdown",
   "id": "d3a5ace7-f6a1-4e4f-8803-f0a228184120",
   "metadata": {},
   "source": [
    "* [1. Importing](#1) \n",
    "\n",
    "* [2. Data Preprocessing](#2)\n",
    "\n",
    "\n",
    "* [3. Normalization/Lemmatization](#3)\n",
    "\n",
    "    \n",
    "* [4. Markup](#4)\n",
    "\n",
    "* [5. Creating a sample](#5)\n",
    "\n",
    "\n",
    "* [6. Markup Preprocessing](#6)\n",
    "\n",
    "\n",
    "* [7. Vectorization](#7)\n",
    "\n",
    "\n",
    "* [8. Model Training](#8)\n",
    "    * [8.1. Logistic Regression](#8.1)\n",
    "    * [8.2. Decision Tree](#8.2)\n",
    "    * [8.3. Random Forest](#8.3)\n",
    "    * [8.4. K Neighbors Classifier](#8.4)\n",
    "    * [8.5. Support Vector Machine](#8.5)\n",
    "    * [8.6. MLP](#8.6)\n",
    "    * [8.7. Result](#8.7)\n",
    "\n",
    "\n",
    "* [9. Grid Search](#9)\n",
    "    * [9.1. Logistic Regression](#9.1)\n",
    "    * [9.2. Random Forest](#9.2)\n",
    "    * [9.3. Support Vector Machine](#9.3)\n",
    "    \n",
    "* [10. Oversampling](#10)\n",
    "    * [10.1. Logistic Regression](#10.1)\n",
    "    * [10.2. Finish Result](#10.2)\n",
    "   \n",
    "* [11. Final GridSearch](#11)\n",
    "\n",
    "* [12.Conclusion](#12)"
   ]
  },
  {
   "cell_type": "markdown",
   "id": "727835e9-e120-4cbb-b613-e43d8ea95590",
   "metadata": {},
   "source": [
    "<a id=\"1\"></a>\n",
    "# <b>1 <span style='color:#43a842'>|</span> Importing</b>\n",
    "* [Оглавление](#0)"
   ]
  },
  {
   "cell_type": "code",
   "execution_count": 128,
   "id": "27325d36-07b8-4c29-82b9-7276457422eb",
   "metadata": {},
   "outputs": [],
   "source": [
    "import pandas as pd\n",
    "import numpy as np\n",
    "import matplotlib.pyplot as plt\n",
    "import json\n",
    "import re\n",
    "\n",
    "import pymorphy2\n",
    "import nltk\n",
    "from nltk.corpus import stopwords\n",
    "\n",
    "from sklearn.tree import DecisionTreeClassifier\n",
    "from yellowbrick.model_selection import LearningCurve\n",
    "from sklearn.model_selection import train_test_split, cross_val_score, GridSearchCV \n",
    "from sklearn.metrics import accuracy_score, f1_score, classification_report\n",
    "from sklearn.linear_model import LogisticRegression\n",
    "from sklearn.neighbors import KNeighborsClassifier\n",
    "from sklearn.ensemble import RandomForestClassifier\n",
    "from sklearn.model_selection import RandomizedSearchCV\n",
    "from sklearn.svm import SVC\n",
    "from sklearn.neural_network import MLPClassifier\n",
    "from sklearn.naive_bayes import GaussianNB, CategoricalNB\n",
    "from sklearn.feature_extraction.text import CountVectorizer\n",
    "\n",
    "import warnings\n",
    "warnings.filterwarnings(\"ignore\")"
   ]
  },
  {
   "cell_type": "markdown",
   "id": "56fb4151-c73a-4a32-a884-99e1de370583",
   "metadata": {},
   "source": [
    "<a id=\"2\"></a>\n",
    "## <b>2 <span style='color:#43a842'>|</span> Data Preprocessing</b>\n",
    "* [Оглавление](#0)"
   ]
  },
  {
   "cell_type": "code",
   "execution_count": 642,
   "id": "04138ac0-7cd1-4763-b38d-f4265381e7cf",
   "metadata": {
    "tags": []
   },
   "outputs": [
    {
     "data": {
      "text/html": [
       "<div>\n",
       "<style scoped>\n",
       "    .dataframe tbody tr th:only-of-type {\n",
       "        vertical-align: middle;\n",
       "    }\n",
       "\n",
       "    .dataframe tbody tr th {\n",
       "        vertical-align: top;\n",
       "    }\n",
       "\n",
       "    .dataframe thead th {\n",
       "        text-align: right;\n",
       "    }\n",
       "</style>\n",
       "<table border=\"1\" class=\"dataframe\">\n",
       "  <thead>\n",
       "    <tr style=\"text-align: right;\">\n",
       "      <th></th>\n",
       "      <th>ID</th>\n",
       "      <th>Title</th>\n",
       "      <th>Price</th>\n",
       "      <th>Presence</th>\n",
       "      <th>Goods_rating</th>\n",
       "      <th>Info</th>\n",
       "      <th>Nesting_type_tags</th>\n",
       "      <th>Provider</th>\n",
       "      <th>Provider_address</th>\n",
       "      <th>Last_provider_activity</th>\n",
       "      <th>Link_to_provider</th>\n",
       "      <th>Link_to_good</th>\n",
       "      <th>Attached_files</th>\n",
       "    </tr>\n",
       "  </thead>\n",
       "  <tbody>\n",
       "    <tr>\n",
       "      <th>0</th>\n",
       "      <td>9513200</td>\n",
       "      <td>Доска пола; Имитация бруса; Блок-хаус; Декинг;...</td>\n",
       "      <td>33 800 руб.</td>\n",
       "      <td>В наличии</td>\n",
       "      <td>Популярный товар</td>\n",
       "      <td>[Толщина (мм): 20/45, ширина (мм): 90/135/140,...</td>\n",
       "      <td>[Товары и услуги, Строительные материалы, Пого...</td>\n",
       "      <td>Сибирский лес, торгово-строительная компания (...</td>\n",
       "      <td>Барнаул, г.Новоалтайск, ул.Промплощадка,13а</td>\n",
       "      <td>Был на сайте 31.10.2022</td>\n",
       "      <td>https://supl.biz/profiles/1223111/</td>\n",
       "      <td>https://supl.biz/doska-pola-imitatsiya-brusa-b...</td>\n",
       "      <td>NaN</td>\n",
       "    </tr>\n",
       "    <tr>\n",
       "      <th>1</th>\n",
       "      <td>26390427</td>\n",
       "      <td>Вагонка, блок хаус, доска пола, строганная дос...</td>\n",
       "      <td>Цена по запросу</td>\n",
       "      <td>В наличии</td>\n",
       "      <td>Популярный товар</td>\n",
       "      <td>[Продаем погонажные изделия хвойных пород, шир...</td>\n",
       "      <td>[Товары и услуги, Строительные материалы, Пого...</td>\n",
       "      <td>ООО Лестех43</td>\n",
       "      <td>Киров</td>\n",
       "      <td>Был на сайте 18.10.2022</td>\n",
       "      <td>https://supl.biz/profiles/1983162/</td>\n",
       "      <td>https://supl.biz/vagonka-blok-haus-doska-pola-...</td>\n",
       "      <td>https://suplbiz-a.akamaihd.net/media/proposals...</td>\n",
       "    </tr>\n",
       "  </tbody>\n",
       "</table>\n",
       "</div>"
      ],
      "text/plain": [
       "         ID                                              Title  \\\n",
       "0   9513200  Доска пола; Имитация бруса; Блок-хаус; Декинг;...   \n",
       "1  26390427  Вагонка, блок хаус, доска пола, строганная дос...   \n",
       "\n",
       "             Price   Presence      Goods_rating  \\\n",
       "0      33 800 руб.  В наличии  Популярный товар   \n",
       "1  Цена по запросу  В наличии  Популярный товар   \n",
       "\n",
       "                                                Info  \\\n",
       "0  [Толщина (мм): 20/45, ширина (мм): 90/135/140,...   \n",
       "1  [Продаем погонажные изделия хвойных пород, шир...   \n",
       "\n",
       "                                   Nesting_type_tags  \\\n",
       "0  [Товары и услуги, Строительные материалы, Пого...   \n",
       "1  [Товары и услуги, Строительные материалы, Пого...   \n",
       "\n",
       "                                            Provider  \\\n",
       "0  Сибирский лес, торгово-строительная компания (...   \n",
       "1                                       ООО Лестех43   \n",
       "\n",
       "                              Provider_address   Last_provider_activity  \\\n",
       "0  Барнаул, г.Новоалтайск, ул.Промплощадка,13а  Был на сайте 31.10.2022   \n",
       "1                                        Киров  Был на сайте 18.10.2022   \n",
       "\n",
       "                     Link_to_provider  \\\n",
       "0  https://supl.biz/profiles/1223111/   \n",
       "1  https://supl.biz/profiles/1983162/   \n",
       "\n",
       "                                        Link_to_good  \\\n",
       "0  https://supl.biz/doska-pola-imitatsiya-brusa-b...   \n",
       "1  https://supl.biz/vagonka-blok-haus-doska-pola-...   \n",
       "\n",
       "                                      Attached_files  \n",
       "0                                                NaN  \n",
       "1  https://suplbiz-a.akamaihd.net/media/proposals...  "
      ]
     },
     "execution_count": 642,
     "metadata": {},
     "output_type": "execute_result"
    }
   ],
   "source": [
    "first_df = pd.read_json('/Users/ivanlopatkin/Downloads/supl_biz_157k.json')\n",
    "first_df.head(2)"
   ]
  },
  {
   "cell_type": "code",
   "execution_count": 643,
   "id": "22666b19-d9a0-472c-8a89-e81ac97c64c1",
   "metadata": {},
   "outputs": [
    {
     "data": {
      "text/plain": [
       "157068"
      ]
     },
     "execution_count": 643,
     "metadata": {},
     "output_type": "execute_result"
    }
   ],
   "source": [
    "first_df.shape[0]"
   ]
  },
  {
   "cell_type": "code",
   "execution_count": 644,
   "id": "cd94ded5-4958-46e2-8e12-e775618e980c",
   "metadata": {},
   "outputs": [],
   "source": [
    "friendly_df = first_df[['Title', 'Info']]"
   ]
  },
  {
   "cell_type": "code",
   "execution_count": 645,
   "id": "f73f2ba6-1bb0-41c9-92c2-9bfd4e9a80b0",
   "metadata": {},
   "outputs": [],
   "source": [
    "friendly_df.dropna(inplace=True)"
   ]
  },
  {
   "cell_type": "code",
   "execution_count": 646,
   "id": "da6c1a94-3904-48f8-8f55-013dd27e69ee",
   "metadata": {},
   "outputs": [
    {
     "data": {
      "text/html": [
       "<div>\n",
       "<style scoped>\n",
       "    .dataframe tbody tr th:only-of-type {\n",
       "        vertical-align: middle;\n",
       "    }\n",
       "\n",
       "    .dataframe tbody tr th {\n",
       "        vertical-align: top;\n",
       "    }\n",
       "\n",
       "    .dataframe thead th {\n",
       "        text-align: right;\n",
       "    }\n",
       "</style>\n",
       "<table border=\"1\" class=\"dataframe\">\n",
       "  <thead>\n",
       "    <tr style=\"text-align: right;\">\n",
       "      <th></th>\n",
       "      <th>Title</th>\n",
       "      <th>Info</th>\n",
       "    </tr>\n",
       "  </thead>\n",
       "  <tbody>\n",
       "    <tr>\n",
       "      <th>0</th>\n",
       "      <td>Доска пола; Имитация бруса; Блок-хаус; Декинг;...</td>\n",
       "      <td>[Толщина (мм): 20/45, ширина (мм): 90/135/140,...</td>\n",
       "    </tr>\n",
       "  </tbody>\n",
       "</table>\n",
       "</div>"
      ],
      "text/plain": [
       "                                               Title  \\\n",
       "0  Доска пола; Имитация бруса; Блок-хаус; Декинг;...   \n",
       "\n",
       "                                                Info  \n",
       "0  [Толщина (мм): 20/45, ширина (мм): 90/135/140,...  "
      ]
     },
     "execution_count": 646,
     "metadata": {},
     "output_type": "execute_result"
    }
   ],
   "source": [
    "friendly_df.head(1)"
   ]
  },
  {
   "cell_type": "markdown",
   "id": "2b7297b1-c992-4b2c-bb8d-a4f05e31d7d3",
   "metadata": {},
   "source": [
    "<a id=\"3\"></a>\n",
    "## <b>3 <span style='color:#43a842'>|</span> Normalization/Lemmatization </b>\n",
    "* [Оглавление](#0)"
   ]
  },
  {
   "cell_type": "markdown",
   "id": "3e365bad-0997-4778-a516-5497f94d0803",
   "metadata": {},
   "source": [
    "##### Removing all punctuation from the title"
   ]
  },
  {
   "cell_type": "code",
   "execution_count": 647,
   "id": "5aee6908-d271-416a-8273-abefa0dfae61",
   "metadata": {},
   "outputs": [],
   "source": [
    "friendly_df['Title'] = friendly_df['Title'].apply(\n",
    "    lambda x: \n",
    "    re.sub(r'[^\\w\\s]', '', x)\n",
    ")"
   ]
  },
  {
   "cell_type": "code",
   "execution_count": 648,
   "id": "6002b90f-7ae9-43a2-b86a-7d05c1b16d3c",
   "metadata": {},
   "outputs": [
    {
     "data": {
      "text/html": [
       "<div>\n",
       "<style scoped>\n",
       "    .dataframe tbody tr th:only-of-type {\n",
       "        vertical-align: middle;\n",
       "    }\n",
       "\n",
       "    .dataframe tbody tr th {\n",
       "        vertical-align: top;\n",
       "    }\n",
       "\n",
       "    .dataframe thead th {\n",
       "        text-align: right;\n",
       "    }\n",
       "</style>\n",
       "<table border=\"1\" class=\"dataframe\">\n",
       "  <thead>\n",
       "    <tr style=\"text-align: right;\">\n",
       "      <th></th>\n",
       "      <th>Title</th>\n",
       "      <th>Info</th>\n",
       "    </tr>\n",
       "  </thead>\n",
       "  <tbody>\n",
       "    <tr>\n",
       "      <th>0</th>\n",
       "      <td>Доска пола Имитация бруса Блокхаус Декинг Стро...</td>\n",
       "      <td>[Толщина (мм): 20/45, ширина (мм): 90/135/140,...</td>\n",
       "    </tr>\n",
       "  </tbody>\n",
       "</table>\n",
       "</div>"
      ],
      "text/plain": [
       "                                               Title  \\\n",
       "0  Доска пола Имитация бруса Блокхаус Декинг Стро...   \n",
       "\n",
       "                                                Info  \n",
       "0  [Толщина (мм): 20/45, ширина (мм): 90/135/140,...  "
      ]
     },
     "execution_count": 648,
     "metadata": {},
     "output_type": "execute_result"
    }
   ],
   "source": [
    "friendly_df.head(1)"
   ]
  },
  {
   "cell_type": "code",
   "execution_count": 649,
   "id": "7362fd62-b2ab-4c90-a443-9c821356d649",
   "metadata": {},
   "outputs": [],
   "source": [
    "morph = pymorphy2.MorphAnalyzer()"
   ]
  },
  {
   "cell_type": "code",
   "execution_count": 650,
   "id": "eaf0ec58-e5ef-430b-9c8b-e6448b3cd5b9",
   "metadata": {
    "tags": []
   },
   "outputs": [
    {
     "name": "stderr",
     "output_type": "stream",
     "text": [
      "[nltk_data] Downloading package stopwords to\n",
      "[nltk_data]     /Users/ivanlopatkin/nltk_data...\n",
      "[nltk_data]   Package stopwords is already up-to-date!\n"
     ]
    }
   ],
   "source": [
    "nltk.download('stopwords')\n",
    "stop_words = stopwords.words('russian')"
   ]
  },
  {
   "cell_type": "markdown",
   "id": "a73e88a7-89d4-48d3-8b70-a7f00bc49211",
   "metadata": {},
   "source": [
    "##### Removing all stop words from the title (lemmatization) and lowercase words (normalization)"
   ]
  },
  {
   "cell_type": "code",
   "execution_count": 651,
   "id": "fbefdc96-d53d-44eb-848f-57e6439bd07e",
   "metadata": {},
   "outputs": [],
   "source": [
    "friendly_df['Title'] = friendly_df['Title'].apply(\n",
    "    lambda x:\n",
    "    ' '.join([word.lower() for word in x.split() if not word in stop_words and len(word) > 2])\n",
    ")"
   ]
  },
  {
   "cell_type": "code",
   "execution_count": 652,
   "id": "900f59e2-1d64-4f02-a2d5-58e8e040e1a2",
   "metadata": {},
   "outputs": [
    {
     "data": {
      "text/html": [
       "<div>\n",
       "<style scoped>\n",
       "    .dataframe tbody tr th:only-of-type {\n",
       "        vertical-align: middle;\n",
       "    }\n",
       "\n",
       "    .dataframe tbody tr th {\n",
       "        vertical-align: top;\n",
       "    }\n",
       "\n",
       "    .dataframe thead th {\n",
       "        text-align: right;\n",
       "    }\n",
       "</style>\n",
       "<table border=\"1\" class=\"dataframe\">\n",
       "  <thead>\n",
       "    <tr style=\"text-align: right;\">\n",
       "      <th></th>\n",
       "      <th>Title</th>\n",
       "      <th>Info</th>\n",
       "    </tr>\n",
       "  </thead>\n",
       "  <tbody>\n",
       "    <tr>\n",
       "      <th>0</th>\n",
       "      <td>доска пола имитация бруса блокхаус декинг стро...</td>\n",
       "      <td>[Толщина (мм): 20/45, ширина (мм): 90/135/140,...</td>\n",
       "    </tr>\n",
       "    <tr>\n",
       "      <th>1</th>\n",
       "      <td>вагонка блок хаус доска пола строганная доска ...</td>\n",
       "      <td>[Продаем погонажные изделия хвойных пород, шир...</td>\n",
       "    </tr>\n",
       "    <tr>\n",
       "      <th>2</th>\n",
       "      <td>погонажные изделия вагонка евровагонка имитаци...</td>\n",
       "      <td>[Собственное производство в Архангельской обла...</td>\n",
       "    </tr>\n",
       "    <tr>\n",
       "      <th>3</th>\n",
       "      <td>технические входные двери</td>\n",
       "      <td>[Двери входные технические  металлические для ...</td>\n",
       "    </tr>\n",
       "    <tr>\n",
       "      <th>4</th>\n",
       "      <td>тротуарная плитка искусственный камень</td>\n",
       "      <td>[Компания ООО Ингстром производит тротуарную п...</td>\n",
       "    </tr>\n",
       "  </tbody>\n",
       "</table>\n",
       "</div>"
      ],
      "text/plain": [
       "                                               Title  \\\n",
       "0  доска пола имитация бруса блокхаус декинг стро...   \n",
       "1  вагонка блок хаус доска пола строганная доска ...   \n",
       "2  погонажные изделия вагонка евровагонка имитаци...   \n",
       "3                          технические входные двери   \n",
       "4             тротуарная плитка искусственный камень   \n",
       "\n",
       "                                                Info  \n",
       "0  [Толщина (мм): 20/45, ширина (мм): 90/135/140,...  \n",
       "1  [Продаем погонажные изделия хвойных пород, шир...  \n",
       "2  [Собственное производство в Архангельской обла...  \n",
       "3  [Двери входные технические  металлические для ...  \n",
       "4  [Компания ООО Ингстром производит тротуарную п...  "
      ]
     },
     "execution_count": 652,
     "metadata": {},
     "output_type": "execute_result"
    }
   ],
   "source": [
    "friendly_df.head()"
   ]
  },
  {
   "cell_type": "markdown",
   "id": "d96a5b09-ce9e-4f54-8606-f10516e4a394",
   "metadata": {},
   "source": [
    "##### Lemmatization of all words"
   ]
  },
  {
   "cell_type": "code",
   "execution_count": 324,
   "id": "881ae750-ede3-4823-94e8-764bf403726b",
   "metadata": {},
   "outputs": [],
   "source": [
    "friendly_df['Norm_Title'] = friendly_df['Title'].apply(\n",
    "    lambda x: \n",
    "    [morph.parse(token)[0].normal_form for token in x.split()]\n",
    ")"
   ]
  },
  {
   "cell_type": "code",
   "execution_count": 343,
   "id": "5b1e3d9e-6960-4edc-87cf-8fdc3b4cf253",
   "metadata": {},
   "outputs": [
    {
     "data": {
      "text/plain": [
       "('Открою ключ интернетмагазин морепродуктов дней',\n",
       " ['откроить', 'ключ', 'интернетмагазин', 'морепродукт', 'день'])"
      ]
     },
     "execution_count": 343,
     "metadata": {},
     "output_type": "execute_result"
    }
   ],
   "source": [
    "friendly_df['Title'][200], friendly_df['Norm_Title'][200]"
   ]
  },
  {
   "cell_type": "markdown",
   "id": "b589e1ff-e1ba-4d7a-88b8-a07048a72f64",
   "metadata": {},
   "source": [
    "<a id=\"4\"></a>\n",
    "## <b>4 <span style='color:#43a842'>|</span> Markup </b>\n",
    "* [Оглавление](#0)"
   ]
  },
  {
   "cell_type": "code",
   "execution_count": 627,
   "id": "cc1b87fa-f460-4c5f-b077-216caa5166e9",
   "metadata": {},
   "outputs": [],
   "source": [
    "friendly_df['markup'] = pd.Series(np.nan)"
   ]
  },
  {
   "cell_type": "code",
   "execution_count": 129,
   "id": "7a322c5a-5fce-4b3c-88d7-beb8da0ff4db",
   "metadata": {},
   "outputs": [],
   "source": [
    "def razmetka(indexs : list, df):\n",
    "    copy = df.copy()\n",
    "    i = indexs[0]\n",
    "    ser = df.markup\n",
    "    while i != indexs[1]:\n",
    "            title = df.loc[float(str(i))].Norm_Title\n",
    "            info  = df.loc[float(str(i))].Info\n",
    "            print('Название: ', *title)\n",
    "            s = input()\n",
    "            if s.lower() == 'стоп':\n",
    "                df['markup'] = ser\n",
    "                flag = False\n",
    "                break\n",
    "            elif s.lower() == 'скип':\n",
    "                i +=1\n",
    "                continue\n",
    "            else:\n",
    "\n",
    "                s = s.split()\n",
    "                if len(s) != len(title) and s[-1] != '1':\n",
    "                    print('Не все значение размечены')\n",
    "                elif s[-1] == '1':\n",
    "                    s = s + ['-'] * (len(title) - len(s))\n",
    "                    ser[i] = str(dict(zip(title, s)))\n",
    "                    i +=1\n",
    "\n",
    "                else:\n",
    "                    ser[i] = str(dict(zip(title, s)))\n",
    "                    i +=1\n",
    "    df['markup'] = ser"
   ]
  },
  {
   "cell_type": "code",
   "execution_count": 331,
   "id": "6f0cfa0f-0b54-4cd2-9b82-553c971d5989",
   "metadata": {},
   "outputs": [
    {
     "data": {
      "text/plain": [
       "(157067, 4)"
      ]
     },
     "execution_count": 331,
     "metadata": {},
     "output_type": "execute_result"
    }
   ],
   "source": [
    "friendly_df.shape"
   ]
  },
  {
   "cell_type": "markdown",
   "id": "652f7d51-088b-4f19-ba99-1f7d4feca27e",
   "metadata": {},
   "source": [
    "The first test of markup"
   ]
  },
  {
   "cell_type": "code",
   "execution_count": 339,
   "id": "619018db-3f13-4d6d-a13b-f3d72015e07e",
   "metadata": {
    "collapsed": true,
    "jupyter": {
     "outputs_hidden": true
    },
    "tags": []
   },
   "outputs": [
    {
     "name": "stdout",
     "output_type": "stream",
     "text": [
      "Название:  станция насосный\n"
     ]
    },
    {
     "name": "stdin",
     "output_type": "stream",
     "text": [
      " тов назн\n"
     ]
    },
    {
     "name": "stdout",
     "output_type": "stream",
     "text": [
      "Название:  валик 640100 56889 полиакрил зелёный ворс15мм100 maxitool\n"
     ]
    },
    {
     "name": "stdin",
     "output_type": "stream",
     "text": [
      " стоп\n"
     ]
    },
    {
     "name": "stdout",
     "output_type": "stream",
     "text": [
      "Название:  кондиционер energolux sas07bd1altsau07bd1altws30\n"
     ]
    },
    {
     "name": "stderr",
     "output_type": "stream",
     "text": [
      "Process SpawnPoolWorker-60:\n",
      "Process SpawnPoolWorker-59:\n",
      "Traceback (most recent call last):\n",
      "Traceback (most recent call last):\n",
      "  File \"/Users/ivanlopatkin/opt/anaconda3/lib/python3.9/multiprocessing/process.py\", line 315, in _bootstrap\n",
      "    self.run()\n",
      "  File \"/Users/ivanlopatkin/opt/anaconda3/lib/python3.9/multiprocessing/process.py\", line 315, in _bootstrap\n",
      "    self.run()\n",
      "  File \"/Users/ivanlopatkin/opt/anaconda3/lib/python3.9/multiprocessing/process.py\", line 108, in run\n",
      "    self._target(*self._args, **self._kwargs)\n",
      "  File \"/Users/ivanlopatkin/opt/anaconda3/lib/python3.9/multiprocessing/process.py\", line 108, in run\n",
      "    self._target(*self._args, **self._kwargs)\n",
      "  File \"/Users/ivanlopatkin/opt/anaconda3/lib/python3.9/multiprocessing/pool.py\", line 114, in worker\n",
      "    task = get()\n",
      "  File \"/Users/ivanlopatkin/opt/anaconda3/lib/python3.9/multiprocessing/pool.py\", line 114, in worker\n",
      "    task = get()\n",
      "  File \"/Users/ivanlopatkin/opt/anaconda3/lib/python3.9/multiprocessing/queues.py\", line 364, in get\n",
      "    with self._rlock:\n",
      "  File \"/Users/ivanlopatkin/opt/anaconda3/lib/python3.9/multiprocessing/queues.py\", line 364, in get\n",
      "    with self._rlock:\n",
      "  File \"/Users/ivanlopatkin/opt/anaconda3/lib/python3.9/multiprocessing/synchronize.py\", line 95, in __enter__\n",
      "    return self._semlock.__enter__()\n",
      "  File \"/Users/ivanlopatkin/opt/anaconda3/lib/python3.9/multiprocessing/synchronize.py\", line 95, in __enter__\n",
      "    return self._semlock.__enter__()\n",
      "KeyboardInterrupt\n",
      "KeyboardInterrupt\n"
     ]
    },
    {
     "ename": "KeyboardInterrupt",
     "evalue": "Interrupted by user",
     "output_type": "error",
     "traceback": [
      "\u001b[0;31m---------------------------------------------------------------------------\u001b[0m",
      "\u001b[0;31mKeyboardInterrupt\u001b[0m                         Traceback (most recent call last)",
      "\u001b[0;32m/var/folders/wm/2lqrdly935l4760kvrhk__dw0000gn/T/ipykernel_6157/2634671499.py\u001b[0m in \u001b[0;36m<module>\u001b[0;34m\u001b[0m\n\u001b[1;32m      2\u001b[0m \u001b[0;32mwhile\u001b[0m \u001b[0;32mTrue\u001b[0m\u001b[0;34m:\u001b[0m\u001b[0;34m\u001b[0m\u001b[0;34m\u001b[0m\u001b[0m\n\u001b[1;32m      3\u001b[0m     \u001b[0mnumber\u001b[0m \u001b[0;34m=\u001b[0m \u001b[0mrandom\u001b[0m\u001b[0;34m.\u001b[0m\u001b[0mrandint\u001b[0m\u001b[0;34m(\u001b[0m\u001b[0;36m0\u001b[0m\u001b[0;34m,\u001b[0m \u001b[0mfriendly_df\u001b[0m\u001b[0;34m.\u001b[0m\u001b[0mshape\u001b[0m\u001b[0;34m[\u001b[0m\u001b[0;36m0\u001b[0m\u001b[0;34m]\u001b[0m\u001b[0;34m)\u001b[0m\u001b[0;34m\u001b[0m\u001b[0;34m\u001b[0m\u001b[0m\n\u001b[0;32m----> 4\u001b[0;31m     \u001b[0mrazmetka\u001b[0m\u001b[0;34m(\u001b[0m\u001b[0;34m[\u001b[0m\u001b[0mnumber\u001b[0m\u001b[0;34m,\u001b[0m \u001b[0mnumber\u001b[0m \u001b[0;34m+\u001b[0m \u001b[0;36m1\u001b[0m\u001b[0;34m]\u001b[0m\u001b[0;34m,\u001b[0m \u001b[0mfriendly_df\u001b[0m\u001b[0;34m)\u001b[0m\u001b[0;34m\u001b[0m\u001b[0;34m\u001b[0m\u001b[0m\n\u001b[0m",
      "\u001b[0;32m/var/folders/wm/2lqrdly935l4760kvrhk__dw0000gn/T/ipykernel_6157/364846813.py\u001b[0m in \u001b[0;36mrazmetka\u001b[0;34m(indexs, df)\u001b[0m\n\u001b[1;32m      8\u001b[0m             \u001b[0mprint\u001b[0m\u001b[0;34m(\u001b[0m\u001b[0;34m'Название: '\u001b[0m\u001b[0;34m,\u001b[0m \u001b[0;34m*\u001b[0m\u001b[0mtitle\u001b[0m\u001b[0;34m)\u001b[0m\u001b[0;34m\u001b[0m\u001b[0;34m\u001b[0m\u001b[0m\n\u001b[1;32m      9\u001b[0m     \u001b[0;31m#         print('Инфо: ', *info)\u001b[0m\u001b[0;34m\u001b[0m\u001b[0;34m\u001b[0m\u001b[0m\n\u001b[0;32m---> 10\u001b[0;31m             \u001b[0ms\u001b[0m \u001b[0;34m=\u001b[0m \u001b[0minput\u001b[0m\u001b[0;34m(\u001b[0m\u001b[0;34m)\u001b[0m\u001b[0;34m\u001b[0m\u001b[0;34m\u001b[0m\u001b[0m\n\u001b[0m\u001b[1;32m     11\u001b[0m             \u001b[0;32mif\u001b[0m \u001b[0ms\u001b[0m\u001b[0;34m.\u001b[0m\u001b[0mlower\u001b[0m\u001b[0;34m(\u001b[0m\u001b[0;34m)\u001b[0m \u001b[0;34m==\u001b[0m \u001b[0;34m'стоп'\u001b[0m\u001b[0;34m:\u001b[0m\u001b[0;34m\u001b[0m\u001b[0;34m\u001b[0m\u001b[0m\n\u001b[1;32m     12\u001b[0m                 \u001b[0mdf\u001b[0m\u001b[0;34m[\u001b[0m\u001b[0;34m'markup'\u001b[0m\u001b[0;34m]\u001b[0m \u001b[0;34m=\u001b[0m \u001b[0mser\u001b[0m\u001b[0;34m\u001b[0m\u001b[0;34m\u001b[0m\u001b[0m\n",
      "\u001b[0;32m~/opt/anaconda3/lib/python3.9/site-packages/ipykernel/kernelbase.py\u001b[0m in \u001b[0;36mraw_input\u001b[0;34m(self, prompt)\u001b[0m\n\u001b[1;32m   1175\u001b[0m                 \u001b[0;34m\"raw_input was called, but this frontend does not support input requests.\"\u001b[0m\u001b[0;34m\u001b[0m\u001b[0;34m\u001b[0m\u001b[0m\n\u001b[1;32m   1176\u001b[0m             )\n\u001b[0;32m-> 1177\u001b[0;31m         return self._input_request(\n\u001b[0m\u001b[1;32m   1178\u001b[0m             \u001b[0mstr\u001b[0m\u001b[0;34m(\u001b[0m\u001b[0mprompt\u001b[0m\u001b[0;34m)\u001b[0m\u001b[0;34m,\u001b[0m\u001b[0;34m\u001b[0m\u001b[0;34m\u001b[0m\u001b[0m\n\u001b[1;32m   1179\u001b[0m             \u001b[0mself\u001b[0m\u001b[0;34m.\u001b[0m\u001b[0m_parent_ident\u001b[0m\u001b[0;34m[\u001b[0m\u001b[0;34m\"shell\"\u001b[0m\u001b[0;34m]\u001b[0m\u001b[0;34m,\u001b[0m\u001b[0;34m\u001b[0m\u001b[0;34m\u001b[0m\u001b[0m\n",
      "\u001b[0;32m~/opt/anaconda3/lib/python3.9/site-packages/ipykernel/kernelbase.py\u001b[0m in \u001b[0;36m_input_request\u001b[0;34m(self, prompt, ident, parent, password)\u001b[0m\n\u001b[1;32m   1217\u001b[0m             \u001b[0;32mexcept\u001b[0m \u001b[0mKeyboardInterrupt\u001b[0m\u001b[0;34m:\u001b[0m\u001b[0;34m\u001b[0m\u001b[0;34m\u001b[0m\u001b[0m\n\u001b[1;32m   1218\u001b[0m                 \u001b[0;31m# re-raise KeyboardInterrupt, to truncate traceback\u001b[0m\u001b[0;34m\u001b[0m\u001b[0;34m\u001b[0m\u001b[0m\n\u001b[0;32m-> 1219\u001b[0;31m                 \u001b[0;32mraise\u001b[0m \u001b[0mKeyboardInterrupt\u001b[0m\u001b[0;34m(\u001b[0m\u001b[0;34m\"Interrupted by user\"\u001b[0m\u001b[0;34m)\u001b[0m \u001b[0;32mfrom\u001b[0m \u001b[0;32mNone\u001b[0m\u001b[0;34m\u001b[0m\u001b[0;34m\u001b[0m\u001b[0m\n\u001b[0m\u001b[1;32m   1220\u001b[0m             \u001b[0;32mexcept\u001b[0m \u001b[0mException\u001b[0m\u001b[0;34m:\u001b[0m\u001b[0;34m\u001b[0m\u001b[0;34m\u001b[0m\u001b[0m\n\u001b[1;32m   1221\u001b[0m                 \u001b[0mself\u001b[0m\u001b[0;34m.\u001b[0m\u001b[0mlog\u001b[0m\u001b[0;34m.\u001b[0m\u001b[0mwarning\u001b[0m\u001b[0;34m(\u001b[0m\u001b[0;34m\"Invalid Message:\"\u001b[0m\u001b[0;34m,\u001b[0m \u001b[0mexc_info\u001b[0m\u001b[0;34m=\u001b[0m\u001b[0;32mTrue\u001b[0m\u001b[0;34m)\u001b[0m\u001b[0;34m\u001b[0m\u001b[0;34m\u001b[0m\u001b[0m\n",
      "\u001b[0;31mKeyboardInterrupt\u001b[0m: Interrupted by user"
     ]
    }
   ],
   "source": [
    "import random\n",
    "while True:\n",
    "    number = random.randint(0, friendly_df.shape[0])\n",
    "    razmetka([number, number + 1], friendly_df)"
   ]
  },
  {
   "cell_type": "markdown",
   "id": "48ad953d-0c73-4c33-8017-44af6a8874c8",
   "metadata": {
    "tags": []
   },
   "source": [
    "##### Import of markup by Ustinov Kirill Evgenievich (Было разрешено Никитой Владимировичем)"
   ]
  },
  {
   "cell_type": "code",
   "execution_count": 6,
   "id": "e8396e0e-ff64-4c30-a0cc-5a0573a67645",
   "metadata": {},
   "outputs": [],
   "source": [
    "half_metka = pd.read_json('/Users/ivanlopatkin/Downloads/23_04.json')"
   ]
  },
  {
   "cell_type": "code",
   "execution_count": 7,
   "id": "73df10fd-bbf1-440a-85be-725a14452ec1",
   "metadata": {},
   "outputs": [
    {
     "data": {
      "text/html": [
       "<div>\n",
       "<style scoped>\n",
       "    .dataframe tbody tr th:only-of-type {\n",
       "        vertical-align: middle;\n",
       "    }\n",
       "\n",
       "    .dataframe tbody tr th {\n",
       "        vertical-align: top;\n",
       "    }\n",
       "\n",
       "    .dataframe thead th {\n",
       "        text-align: right;\n",
       "    }\n",
       "</style>\n",
       "<table border=\"1\" class=\"dataframe\">\n",
       "  <thead>\n",
       "    <tr style=\"text-align: right;\">\n",
       "      <th></th>\n",
       "      <th>Info</th>\n",
       "      <th>Norm_Title</th>\n",
       "      <th>Razme4</th>\n",
       "    </tr>\n",
       "  </thead>\n",
       "  <tbody>\n",
       "    <tr>\n",
       "      <th>0</th>\n",
       "      <td>[Толщина (мм): 20/45, ширина (мм): 90/135/140,...</td>\n",
       "      <td>[доска, пол, имитация, брус, блокхаус, декинг,...</td>\n",
       "      <td>None</td>\n",
       "    </tr>\n",
       "    <tr>\n",
       "      <th>1</th>\n",
       "      <td>[Продаем погонажные изделия хвойных пород, шир...</td>\n",
       "      <td>[вагонка, блок, хаус, доска, пол, строгать, до...</td>\n",
       "      <td>None</td>\n",
       "    </tr>\n",
       "    <tr>\n",
       "      <th>2</th>\n",
       "      <td>[Собственное производство в Архангельской обла...</td>\n",
       "      <td>[погонажный, изделие, вагонка, евровагонка, им...</td>\n",
       "      <td>None</td>\n",
       "    </tr>\n",
       "    <tr>\n",
       "      <th>3</th>\n",
       "      <td>[Двери входные технические  металлические для ...</td>\n",
       "      <td>[технический, входной, дверь]</td>\n",
       "      <td>None</td>\n",
       "    </tr>\n",
       "    <tr>\n",
       "      <th>4</th>\n",
       "      <td>[Компания ООО Ингстром производит тротуарную п...</td>\n",
       "      <td>[тротуарный, плитка, искусственный, камень]</td>\n",
       "      <td>None</td>\n",
       "    </tr>\n",
       "  </tbody>\n",
       "</table>\n",
       "</div>"
      ],
      "text/plain": [
       "                                                Info  \\\n",
       "0  [Толщина (мм): 20/45, ширина (мм): 90/135/140,...   \n",
       "1  [Продаем погонажные изделия хвойных пород, шир...   \n",
       "2  [Собственное производство в Архангельской обла...   \n",
       "3  [Двери входные технические  металлические для ...   \n",
       "4  [Компания ООО Ингстром производит тротуарную п...   \n",
       "\n",
       "                                          Norm_Title Razme4  \n",
       "0  [доска, пол, имитация, брус, блокхаус, декинг,...   None  \n",
       "1  [вагонка, блок, хаус, доска, пол, строгать, до...   None  \n",
       "2  [погонажный, изделие, вагонка, евровагонка, им...   None  \n",
       "3                      [технический, входной, дверь]   None  \n",
       "4        [тротуарный, плитка, искусственный, камень]   None  "
      ]
     },
     "execution_count": 7,
     "metadata": {},
     "output_type": "execute_result"
    }
   ],
   "source": [
    "half_metka.head()"
   ]
  },
  {
   "cell_type": "code",
   "execution_count": 8,
   "id": "7de0838a-4591-4feb-9fdc-c0e849f632e8",
   "metadata": {},
   "outputs": [],
   "source": [
    "with_metka = half_metka[half_metka.Razme4.isna() == False]"
   ]
  },
  {
   "cell_type": "code",
   "execution_count": 9,
   "id": "d4fc5874-a5b8-4a09-afe6-72a769ba64d8",
   "metadata": {
    "collapsed": true,
    "jupyter": {
     "outputs_hidden": true
    },
    "tags": []
   },
   "outputs": [
    {
     "name": "stdout",
     "output_type": "stream",
     "text": [
      "{'аквавошер': 'тов', 'clean': 'бренд', 'cube': 'бренд', 'рro': 'бренд', 'для': '-', 'стиральный': 'назн', 'машина': '-'}\n",
      "{'жёсткий': 'тов', 'диск': 'тов', '500': '-', 'гб': 'раз'}\n",
      "{'жёсткий': 'тов', 'диск': 'тов', '1x2tb': 'раз', 'sata': 'бренд', 'гарантия': '1', '1': '-', 'год': '-'}\n",
      "{'заправка': 'тов', 'картридж': 'тов', 'cf212a': 'бренд', 'hp': 'бренд'}\n",
      "{'заправка': 'тов', 'картридж': 'тов'}\n",
      "{'тэн': 'тов', 'стиральный': 'назн', 'машина': 'тов', 'универсальный': '-', '1700w': 'разм'}\n",
      "{'запчасть': 'тов', 'для': '-', 'бытовой': 'наз', 'техника': 'тов'}\n",
      "{'ремонт': 'тов', 'стиральный': 'наз', 'машина': 'тов', 'indesit': 'бренд', 'индезита': 'бренд'}\n",
      "{'фильтр': 'тов', 'для': '-', 'вода': '-', 'посудомоечный': 'назн', 'и': '-', 'стиральный': 'наз', 'машина': '-', 'ariston': 'бренд', '91845': '-'}\n",
      "{'стиральный': 'назн', 'машина': 'тов', 'indesit': 'бренд', 'iwuc': '1', '4105': '-'}\n",
      "{'жёсткий': 'тов', 'диск': 'тов', 'toshiba': 'бренд', 'p300': '-'}\n",
      "{'заправка': 'тов', 'картридж': 'тов'}\n",
      "{'заправка': 'тов', 'картридж': 'тов'}\n",
      "{'ремонт': '-', 'холодильный': 'назн', 'оборудование': '1', 'холодильник': '-', 'и': '-', 'стиральный': '-', 'машина': '-'}\n",
      "{'ремонт': 'тов', 'стиральный': 'назн', 'посудомоечный': 'назн', 'машина': '1', 'холодильниковсвч': '-', 'пылесос': '-'}\n",
      "{'обслуживание': 'тов', 'и': '-', 'ремонт': 'тов', 'оргтехника': '1', 'заправка': '-', 'лазерный': '-', 'картридж': '-'}\n",
      "{'настольный': 'назн', 'жёсткий': 'тов', 'диск': 'тов', 'lacie': 'бренд', 'christofle': 'бренд', 'sphere': 'бренд'}\n",
      "{'таможенный': 'назн', 'оформление': 'тов'}\n",
      "{'финансовый': 'назн', 'услугибанковский': '1', 'гарантиитендерный': '-', 'сопровождение': '-'}\n",
      "{'юридический': 'назн', 'услуга': 'тов'}\n",
      "{'представительство': 'тов', 'в': '-', 'суд': '-', 'общий': 'назн', 'юрисдикция': '-'}\n",
      "{'юридический': 'назн', 'услуга': 'тов', 'для': '-', 'ип': '-'}\n",
      "{'юридический': 'назн', 'услуга': 'тов'}\n",
      "{'юридический': 'назн', 'услуга': 'тов'}\n",
      "{'страхование': 'тов', 'груз': '-'}\n",
      "{'сертификация': 'тов', 'таможенный': '-', 'оформление': '-'}\n",
      "{'изготовление': 'тов', 'печать': '1', 'и': '-', 'штамп': '-'}\n",
      "{'экспертиза': 'тов', 'качество': '1', 'монтаж': '-', 'и': '-', 'изготовление': '-', 'окно': '-', 'дверь': '-'}\n",
      "{'юридический': 'назн', 'услуга': 'тов'}\n",
      "{'изготовление': 'тов', 'печать': '1', 'и': '-', 'штамп': '-'}\n",
      "{'юридический': 'назн', 'услуга': 'тов'}\n",
      "{'юридический': 'назн', 'консультация': 'тов', 'лицензирование': '1', 'взыскание': '-', 'долг': '-'}\n",
      "{'юридический': 'назн', 'консультация': 'тов', 'по': '1', 'вопрос': '-', 'недвижимость': '-'}\n",
      "{'юридический': 'назн', 'услуга': 'тов', 'в': '-', 'сфера': 'тип', 'автомобильный': '1', 'грузоперевозка': '-'}\n",
      "{'тендерный': 'назн', 'сопровождение': 'тов', 'под': '1', 'ключ': '-'}\n",
      "{'вывоз': 'тов', 'строительный': 'тип', 'мусор': '1'}\n",
      "{'чистка': 'тов', 'уборка': 'тов', 'и': '-', 'вывоз': 'тов', 'снег': 'назн'}\n",
      "{'вывоз': 'тов', 'строительный': 'тип', 'мусор': '1', 'камаз': '-', '10м315тонна': '-'}\n",
      "{'контейнер': 'тов', '40': '1', 'фут': '-', 'dc': '-'}\n",
      "{'контейнер': 'тов', '20': '-', 'фут': '-', 'dc': '-', 'новый': 'тип'}\n",
      "{'контейнер': 'тов', 'самоопрокидывающийся': 'тип'}\n",
      "{'морской': 'назн', 'контейнер': 'тов'}\n",
      "{'стрелочный': 'тип', 'перевод': 'тов', 'марка': '1', 'р65': '-', '19': '-', 'проект': '-', '2434': '-', 'демонтаж': '-', 'без': '-', 'износ': '-'}\n",
      "{'рельс': 'тов', 'новый': 'тип', 'и': '-', 'бу': 'тип'}\n",
      "{'накладка': 'тов', '2р65': '-', 'старогодный': 'тип'}\n",
      "{'шпала': 'тов', 'деревянный': 'мат', 'бу': 'тип', '1': '-', 'сорт': 'тип', 'рязань': 'гор'}\n",
      "{'шпала': 'тов', 'железобетонный': 'мат', 'бу': 'тип', 'ш1': '-'}\n",
      "{'шпала': 'тов', 'бу': 'тип', '1': '1', 'группа': '-'}\n",
      "{'рельс': 'тов', 'р50': 'мод'}\n",
      "{'подкладка': 'тов', 'накладка': 'тов', 'рельс': 'тов', 'в': '-', 'наличие': 'тип'}\n",
      "{'железнодорожный': 'тип', 'настил': 'тов', 'переезд': '1'}\n",
      "{'стрелочный': 'назн', 'перевод': 'тов', 'р50': '1', '19': '-', '111': '-'}\n",
      "{'международный': 'тип', 'перевозка': 'тов', 'груз': '1', 'европароссияевроп': '-'}\n",
      "{'грузоперевозка': 'тов', 'сборный': 'тип', 'и': '-', 'генеральный': 'тип', 'груз': '1', 'от': '-', '1': '-', 'кг': '-'}\n",
      "{'внутригородской': 'тип', 'перевозка': 'тов', 'город': 'гор', 'кемерово': 'разм', 'вес': 'разм', 'кг': 'разм', 'объём': '1', 'м3': '-', '1000112000': '-', '3001450': '-', 'норма': '-', 'время': '-', 'на': '-', 'погрузка': '-', 'выгрузка': '-', 'склад': '-', 'мина': '-', '60': '-'}\n",
      "{'услуга': 'тов', 'фронтальный': 'тип', 'погрузчик': '1', '18': '-', '2': '-', 'м3': '-', 'час': '-'}\n",
      "{'подбор': 'тов', 'квартира': 'тов', 'в': '-', 'новостройка': 'тип', 'спб': 'гор', 'и': '1', 'ло': '-'}\n",
      "{'3': '-', 'комнатный': 'тип', 'квартира': 'тов', 'в': '-', 'новостройка': 'тип'}\n",
      "{'2': '-', 'комнатный': 'тип', 'квартира': 'тов', 'в': '-', 'новостройка': 'тип'}\n",
      "{'модульный': 'тип', 'блокконтейнер': 'тов', 'бытовка': 'тип'}\n",
      "{'блок': 'тип', 'контейнер': 'тов', 'для': '-', 'дача': 'назн'}\n",
      "{'модульный': 'тип', 'здание': 'тов', 'для': '-', 'разный': 'тип', 'оборудование': 'назн'}\n",
      "{'бытовка': 'тов', 'вагончик': 'тип', 'офис': '1'}\n",
      "{'промышленный': 'назн', 'и': '-', 'модульный': 'тип', 'здание': 'тов'}\n",
      "{'бытовка': 'тов', 'базовый': 'тип'}\n",
      "{'бытовка': 'тов', 'монтажный': 'тип'}\n",
      "{'дачный': 'тип', 'домик': 'тов', 'бытовка': 'тип'}\n",
      "{'остекление': 'тов', 'балкон': 'тип', 'и': '-', 'лоджия': 'тип'}\n",
      "{'полимерный': 'тип', 'порошковый': 'тип', 'окраска': 'тов'}\n",
      "{'изготовление': 'тов', 'ландшафтный': 'тип', 'макет': 'назн'}\n",
      "{'косметический': 'тип', 'ремонт': 'тов', 'и': '-', 'отделка': 'тов', 'помещение': 'тип', 'от': '1', '2500': '-', 'руб': '-', 'квм': '-'}\n",
      "{'ремонт': 'тов', 'и': '-', 'отделка': '-', 'помещение': '1', 'любой': '-', 'сложность': '-', 'общестроительный': '-', 'работа': '-', 'внутренний': '-', 'барельеф': '-', 'художественный': '-', 'роспись': '-', 'декоративный': '-', 'штукатурка': '-'}\n",
      "{'продать': 'тов', 'радиатор': 'тов'}\n",
      "{'радиатор': 'тов', 'алюм': 'мат', 'alcobro': '1', '2е3508012': '-'}\n",
      "{'радиатор': 'тов', 'параллель': 'тип'}\n",
      "{'насос': 'тов', 'погружной': 'назн', 'дренажный': 'тип', 'dab': '1', 'verty': '-', 'nova': '-', '200': '-', 'ma': '-', 'для': '-', 'автономный': '-', 'канализация': '-', 'kolo': '-', 'vesi': '-', 'с': '-', 'поплавковый': '-', 'выключатель': '-'}\n",
      "{'алюминиевый': 'мат', 'радиатор': 'тов', 'global': '1', 'iseo': '-'}\n",
      "{'продажа': 'тов', 'покраска': 'тов', 'и': '-', 'реставрация': 'тов', 'чугунный': 'мат', 'радиатор': 'тов'}\n",
      "{'продать': 'тов', 'биметаллический': 'тип', 'радиатор': 'тов', 'отопление': 'тип'}\n",
      "{'стальной': 'мат', 'радиатор': 'тов', 'prado': '1', '225001000': '-'}\n",
      "{'стальной': 'мат', 'радиатор': 'тов', 'luxuni': '1'}\n",
      "{'стальной': 'мат', 'радиатор': 'тов', 'prado': '1'}\n",
      "{'стальной': 'мат', 'панельный': 'тип', 'радиатор': 'тов', 'henrad': '1', 'v22': '-', '300х1000': '-'}\n",
      "{'радиатор': 'товар', 'prado': 'бренд', 'universal': 'бренд', 'тип': '-', '11x500x500': 'размер', 'нижний': '-', 'подводка': 'размер'}\n",
      "{'радиатор': 'тов', 'prado': 'бренд', 'universal': 'бренд', 'тип': '-', '11x300x1600': 'раз', 'нижний': '1', 'подводка': '-'}\n",
      "{'радиатор': 'тов', 'панель': '1', 'с': '-'}\n",
      "{'радиатор': 'тов', 'панель': '1', 'с': '-'}\n",
      "{'радиатор': 'тов', 'logatrend': 'бренд', 'vkprofil': 'бренд', '22600900': '-'}\n",
      "{'радиатор': 'тов', 'logatrend': 'бренд', 'vkprofil': 'бренд', '22600600': 'бренд'}\n",
      "{'радиатор': 'тов', 'logatrend': 'бренд', 'vkprofil': 'бренд', '22400400': '-'}\n",
      "{'блок': 'тов', 'фудаментный': 'назн', 'фбс': '1', '2446': '-'}\n",
      "{'сайдинга': 'тов', 'docke': 'бренд', 'блок': '1', 'хаус': '-'}\n",
      "{'блок': 'тов', 'пазогребневый': 'назн', 'русеана': 'бренд', 'пгп': '-', '667х500х80': 'раз', 'мм': 'раз'}\n",
      "{'блок': '-', 'портальный': 'назн', 'стенка': '-', 'фундамент': 'назн', 'тпр': '1', '503701590': '-'}\n",
      "{'блок': 'тов', 'бонолита': 'материал', 'd600': 'бренд', 'стеновый': 'назн'}\n",
      "{'фундаментный': 'назн', 'блок': 'тов', 'фбс': '-'}\n",
      "{'блок': 'тов', 'упор': 'назн', 'у1': 'бренд', 'серия': '-', '35011156': '-'}\n",
      "{'фундаментный': 'назн', 'блок': 'товар', 'фбс': '-', '2436': '-'}\n",
      "{'блок': 'тов', 'вентиляционный': 'назн', 'вб': 'бренд', '1901': '-'}\n",
      "{'блок': 'тов', 'бетонный': 'назн', 'для': '1', 'стена': '-', 'подвал': '-'}\n",
      "{'блок': 'тов', 'газобетонный': 'назн', 'д500': 'мод'}\n",
      "{'вентиляционный': 'назн', 'блок': 'тов', 'вб228': 'мод'}\n",
      "{'керамический': 'мат', 'блок': 'тов', 'с': '1', 'пазогребнев': '-', 'соединение': '-'}\n",
      "{'фундаментный': 'назн', 'блок': 'тов', 'фбс': 'мод', '9х3х6': 'раз'}\n",
      "{'строительство': 'тов', 'дом': '1', 'из': '-', 'газобетонный': '-', 'блок': '-'}\n",
      "{'фбс': 'мод', 'фундаментный': 'назн', 'блок': 'тов', 'стена': '-'}\n",
      "{'газосиликатный': 'назн', 'блок': 'тов', 'автоклавный': 'назн', 'твердение': '-'}\n",
      "{'железобетонный': 'мат', 'изделие': 'тов', 'жби': 'тип', 'плита': '1', 'блок': '-', 'кольцо': '-', 'перемычка': '-', 'свая': '-'}\n",
      "{'фундаментный': 'назн', 'блок': 'тов', 'фбс': 'тип', '2466': 'модель', '2380х600х580': 'раз', 'бу': 'тип'}\n",
      "{'лоток': 'тов', 'железобетонный': 'мат', 'водоотводный': 'назн', 'сооружение': '-', 'на': '-', 'автомобильный': 'назн', 'дорога': '-', 'серия': '-', '3503166': 'мод', 'изделие': '-', 'блок': '-', 'б8': 'тип'}\n",
      "{'блок': '-', 'фундамент': '1', '45': '-'}\n",
      "{'лекальный': 'назн', 'фундаментный': 'назн', 'блок': 'тов', 'для': '-', 'гофрированный': 'тип', 'водопропускной': 'назн', 'труба': '-'}\n",
      "{'монтажный': 'назн', 'клей': 'тов', 'для': '-', 'блок': '-', 'тонкослойный': '-', 'старатель': '-', '25кг': 'разм'}\n",
      "{'клей': 'тов', 'дяч': '-', 'бетон': '-', 'блок': '-', '25кг': 'раз', 'ливнапрофит': 'бренд'}\n",
      "{'блок': 'тов', 'фундаментный': 'назн', 'стеновый': 'назн', 'по': '-', 'гост': 'гост', '1357978': 'мод', 'фбс': 'тип', '1243': '1', 'так': '-'}\n",
      "{'блок': 'тов', 'бетонный': 'мат', 'из': '-', 'тяжёлый': 'тип', 'бетон': '-', 'класс': '-', 'в': '-', '75': '1', 'марк': '-', 'м': '-', '100': '-', 'по': '-', 'гост': '-', '1357978': '-', 'фбс': '-', '1243т': '-'}\n",
      "{'пеноблок': 'тов', 'на': '-', 'полуавтоматический': 'тип', 'линия': '-', 'по': '-', 'гост': 'гост', '2152089': '-', 'с': '1', 'заливка': '-', 'в': '-', 'металлоформа': '-', 'блок': '-', 'стеновый': '-'}\n",
      "{'блок': 'тов', 'лоток': '-', 'л1': '-', 'и': '-', 'л2': '-', 'по': '-', 'серия': 'тип', '3501318710': 'мод', '3501318301184031850318609': 'мод'}\n",
      "{'блок': 'тов', 'стена': '-', 'подвал': '-', 'фбс956t': 'тип'}\n",
      "{'клей': 'тов', 'конструкционный': 'назн', 'полиуретановый': 'тип', 'профессиональный': 'тип', 'всесезонный': 'тип', 'для': '-', 'строительный': 'назн', 'блок': 'тов', 'и': '-', 'кирпич': 'мат', 'kudo': 'бренд', 'proff': 'бренд', '28': '1', 'новинка': '-'}\n",
      "{'фундаментный': 'назн', 'блок': 'тов', 'гост1357978': 'гост', 'фбс': 'тип', '666': 'мод', 'вес': 'раз', 'так': '-', '053': '-', 'размер': 'раз', 'мм': 'раз', 'длинаширинавысота': 'раз', '580х600х580': 'раз'}\n",
      "{'фундаментный': 'назн', 'блок': 'тов', 'стеновый': 'назн', 'фбс': 'тип', '1256': 'мод', 'так': '-'}\n",
      "{'блок': 'тов', 'фундаментный': 'назн', 'фбс': 'тип', '1236': 'мод'}\n",
      "{'плита': 'тов', 'дорожный': 'тип', '2п301810': 'мод'}\n",
      "{'плита': 'тов', 'дорожный': 'назн', 'пд': 'тип', '20156': 'мод'}\n",
      "{'плита': 'тов', 'дорожный': 'назн', 'пд16': 'мод'}\n",
      "{'плита': 'тов', 'дорожный': 'назн', 'пд195': 'мод'}\n",
      "{'плита': 'тов', 'дорожный': 'назн', 'пд323': 'мод'}\n",
      "{'плита': 'тов', 'дорожный': 'назн', '2п': 'тип', '301830': 'мод', '3000х1750': 'раз', 'мм': 'раз', 'аэродромный': 'назн'}\n",
      "{'плита': 'тов', 'дорожный': 'назн', '1п': 'тип', '301830': 'мод', '3000х1750': 'раз', 'мм': 'раз'}\n",
      "{'плита': 'тов', 'дорожный': 'назн', 'по3': 'мод', 'с': '1', 'отв': '-', 'ф': '-', '700': '-'}\n",
      "{'плита': 'тов', 'дорожный': 'назн', 'пд': 'мод', 'лт': 'мод', 'с': '-', 'отверстие': '-', 'под': '-', 'люк': '-', 'd700': 'мод'}\n",
      "{'плита': 'тов', 'дорожный': 'назн', 'с': '1', 'ниша': '-', 'для': '-', 'люк': '-', 'пд': '-', '10': '-', 'жб': '-'}\n",
      "{'плита': '1', 'дорожный': '-', 'с': '-', 'ниша': '-', 'для': '-', 'люк': '-', 'пд': '-', '6': '-'}\n",
      "{'плита': 'тов', 'дорожный': 'назн', '1п': 'мод', '301510': 'мод', '3000х1500': 'раз', 'мм': 'раз'}\n",
      "{'плита': 'тов', 'дорожный': 'назн', '1п': 'мод', '301810': 'мод', '3000х1750': 'раз', 'мм': 'раз'}\n",
      "{'свая': 'тов', 'железобетонный': 'мат', 'сх306': 'мод'}\n",
      "{'свая': 'тов', 'железобетонный': 'мат', 'сх4013': 'мод'}\n",
      "{'свая': 'тов', 'железобетонный': 'мат', 'сх3510': 'мод'}\n",
      "{'свая': 'тов', 'железобетонный': 'мат', 'сх309': 'мод'}\n",
      "{'свая': 'тов', 'железобетонный': 'мат', 'сх3011': 'мод'}\n",
      "{'плита': 'тов', 'пк': 'мод', '56128': 'мод', 'перекрытие': '1', 'пустотный': '-'}\n",
      "{'свая': 'тов', 'железобетонный': 'мат', 'c7035внсв4': 'мод'}\n",
      "{'лоток': '-', 'междушпальный': 'тип', 'крышка': '1', 'кр1': '-'}\n",
      "{'свая': 'тов', 'с': '-', '35210н': 'мод'}\n",
      "{'свая': 'тов', 'с': '-', '2516н': 'мод'}\n",
      "{'свая': 'тов', 'с': '-', '25161': 'мод'}\n",
      "{'свая': 'тов', 'с': '-', '352120': 'мод'}\n",
      "{'свая': 'тов', 'с': '-', '35280': 'мод'}\n",
      "{'свая': 'тов', 'с': '-', '25181': 'мод'}\n",
      "{'шпатель': 'тов', 'зубр': 'тип', 'мастер': '-', 'фасадный': 'назн', 'нержавеющий': 'мат', 'полотно': '-', '450мма': 'раз', 'зуб': '-', '6х6мма': 'раз'}\n",
      "{'шпатель': 'тов', 'зубр': '1', 'мастер': '-', 'фасадный': '-', 'нержавеющий': '-', 'полотно': '-', '300мма': '-', 'зуб': '-', '10х10мма': '-'}\n",
      "{'шпатель': 'тов', 'зубр': 'тип', 'профессионал': 'назн', 'профилировать': 'назн', 'нержавеющий': 'мат', 'полотно': 'раз', '2к': 'раз', 'ручка': 'раз', '100мма': 'раз'}\n",
      "{'шпатель': 'тов', 'зубр': 'тов', 'профессионал': 'назн', 'профилировать': 'назн', 'нержавеющий': 'мат', 'полотно': 'раз', '2к': 'раз', 'ручка': 'раз', '40мма': 'раз'}\n",
      "{'proflat': 'бренд', 'фасадный': 'наз', 'шпатель': 'тов', 'анодировать': 'назн', '470': 'раз', 'мм': 'раз', '2к': 'раз', 'ручка': 'раз', 'stayer': 'тип'}\n",
      "{'валик': 'тов', 'сменный': 'тип', 'pro': 'мод', 'line': 'мод', '180': 'мод', 'мм': '-', 'ворс': 'раз', '18': 'тов', 'd': 'раз', '40': 'раз', 'ручка': '1', '6': '-', 'mtx': '-'}\n",
      "{'кисть': 'тов', 'плоский': 'тип', 'stayer': 'бренд', 'universallux': 'бренд', 'светлый': 'тип', 'натуральный': 'тип', 'щетина': 'тов', 'деревянный': 'мат', 'ручка': 'тов', '50мма': 'раз', 'артикул': 'мод', '01053050': 'мод'}\n",
      "{'валик': 'тов', '848250': 'мод', '56407': 'мод', 'акция': 'тип', 'велюр': 'мат', 'оранжевый': 'цвет', 'с': '1', 'ручка': '-', 'ворс': '-', '4мм': '-', '50': '-', 'в': '-', 'кор': '-', 'дер': '-', 'мастер': '-', 'rcrh09': '-'}\n",
      "{'валик': 'тов', 'сменный': 'тип', 'matrix': 'бред', 'политекс': '1', 'фасад': '-', '250': '-', 'мм': '-', '80768': '-'}\n",
      "{'валик': 'тов', 'малярный': 'тип', 'matrix': 'бренд', 'микрофибра': 'мат', 'сменный': 'тип', '180': 'раз', 'мм': 'раз', '80702': 'мод'}\n",
      "{'валик': 'тов', 'малярный': 'тип', 'matrix': 'бренд', 'угловой': 'тип', 'd': '1', '75': '-', 'мм': '-', '80680': '-'}\n",
      "{'валик': 'тов', 'pro': 'мод', 'line': 'мод', '250': 'раз', 'мм': '-', 'ворс': 'мат', '18': 'раз', 'd': '1', '48': 'раз', 'ручка': '-', '6': '-', 'mtx': '-', '81318': '-'}\n",
      "{'кисть': 'тов', 'макловица': 'мат', '170': 'раз', 'х': 'раз', '70': 'раз', 'мм': 'раз', 'искусственный': 'тип', 'щетина': '-', 'деревянный': 'мат', 'корпус': '-', 'пластмассовый': 'мат', 'ручка': '-', 'matrix': 'бренд', '84086': 'мод'}\n",
      "{'кисть': 'тов', 'макловица': 'мат', '50': 'раз', 'х': 'раз', '150': 'раз', 'мм': 'раз', 'натуральный': 'тип', 'щетина': 'тип', 'пластмассовый': 'мат', 'корпус': 'тип', 'ручка': 'тип', 'sparta': '1', '84124': '-'}\n",
      "{'шпатель': 'тов', 'нержавеющий': 'тип', 'сибин': '-', 'зубчатый': 'тип', 'с': '-', 'пластмассовый': 'мат', 'ручка': 'тип', 'зуб': 'тип', '6х6мма': 'разм', '300мма': 'раз'}\n",
      "{'шпатель': 'тов', 'нержавеющий': 'тип', 'сибин': '-', 'зубчатый': 'тип', 'с': '-', 'пластмассовый': 'мат', 'ручка': 'мат', 'зуб': 'мат', '6х6мма': 'раз', '250мма': 'раз'}\n"
     ]
    }
   ],
   "source": [
    "for i in with_metka.iterrows():\n",
    "    print(i[1][2])"
   ]
  },
  {
   "cell_type": "markdown",
   "id": "1d38a4d0-2275-41b3-9688-cc2b4a07e327",
   "metadata": {},
   "source": [
    "##### My part of the markup (после перезапуска ячеек слетели input'ы, именно из-за этого через 3 ячейки я закоммитился)"
   ]
  },
  {
   "cell_type": "code",
   "execution_count": 10,
   "id": "046e03de-30ad-4e27-be6c-2bda320191fe",
   "metadata": {
    "collapsed": true,
    "jupyter": {
     "outputs_hidden": true
    },
    "tags": []
   },
   "outputs": [
    {
     "ename": "NameError",
     "evalue": "name 'razmetka' is not defined",
     "output_type": "error",
     "traceback": [
      "\u001b[0;31m---------------------------------------------------------------------------\u001b[0m",
      "\u001b[0;31mNameError\u001b[0m                                 Traceback (most recent call last)",
      "\u001b[0;32m/var/folders/wm/2lqrdly935l4760kvrhk__dw0000gn/T/ipykernel_1648/2114372364.py\u001b[0m in \u001b[0;36m<module>\u001b[0;34m\u001b[0m\n\u001b[1;32m      2\u001b[0m \u001b[0;32mwhile\u001b[0m \u001b[0;32mTrue\u001b[0m\u001b[0;34m:\u001b[0m\u001b[0;34m\u001b[0m\u001b[0;34m\u001b[0m\u001b[0m\n\u001b[1;32m      3\u001b[0m     \u001b[0mnumber\u001b[0m \u001b[0;34m=\u001b[0m \u001b[0mrandom\u001b[0m\u001b[0;34m.\u001b[0m\u001b[0mrandint\u001b[0m\u001b[0;34m(\u001b[0m\u001b[0;36m0\u001b[0m\u001b[0;34m,\u001b[0m \u001b[0;36m104000\u001b[0m\u001b[0;34m)\u001b[0m\u001b[0;34m\u001b[0m\u001b[0;34m\u001b[0m\u001b[0m\n\u001b[0;32m----> 4\u001b[0;31m     \u001b[0mrazmetka\u001b[0m\u001b[0;34m(\u001b[0m\u001b[0;34m[\u001b[0m\u001b[0mnumber\u001b[0m\u001b[0;34m,\u001b[0m \u001b[0mnumber\u001b[0m \u001b[0;34m+\u001b[0m \u001b[0;36m1\u001b[0m\u001b[0;34m]\u001b[0m\u001b[0;34m,\u001b[0m \u001b[0mhalf_metka\u001b[0m\u001b[0;34m)\u001b[0m\u001b[0;34m\u001b[0m\u001b[0;34m\u001b[0m\u001b[0m\n\u001b[0m",
      "\u001b[0;31mNameError\u001b[0m: name 'razmetka' is not defined"
     ]
    }
   ],
   "source": [
    "import random\n",
    "while True:\n",
    "    number = random.randint(0, 104000)\n",
    "    razmetka([number, number + 1], half_metka)"
   ]
  },
  {
   "cell_type": "code",
   "execution_count": 19,
   "id": "76b08d0e-9564-4e92-88b7-28b840b8b1b8",
   "metadata": {},
   "outputs": [
    {
     "data": {
      "text/plain": [
       "(166, 3)"
      ]
     },
     "execution_count": 19,
     "metadata": {},
     "output_type": "execute_result"
    }
   ],
   "source": [
    "with_metka = half_metka[half_metka.Razme4.isna() == False]\n",
    "with_metka.shape"
   ]
  },
  {
   "cell_type": "markdown",
   "id": "d9e0b917-f0d8-46b3-aae6-71f906cf73a6",
   "metadata": {},
   "source": [
    "Saving data for later use"
   ]
  },
  {
   "cell_type": "code",
   "execution_count": null,
   "id": "e90f9333-227d-4887-8bb3-25251640aec9",
   "metadata": {
    "tags": []
   },
   "outputs": [],
   "source": [
    "with_metka.to_csv('282_mechennih')"
   ]
  },
  {
   "cell_type": "code",
   "execution_count": 21,
   "id": "2df65664-fa12-4dfe-9aeb-5e3f36431051",
   "metadata": {},
   "outputs": [],
   "source": [
    "with open('/Users/ivanlopatkin/Open source zone/282_mechennih_js', 'r', encoding='utf-8') as f:\n",
    "    with_metka = json.load(f)"
   ]
  },
  {
   "cell_type": "markdown",
   "id": "1d26a07f-fda3-494a-acdb-4bfd2cb18099",
   "metadata": {},
   "source": [
    "<a id=\"5\"></a>\n",
    "## <b>5 <span style='color:#43a842'>|</span> Creating a sample </b>\n",
    "* [Оглавление](#0)"
   ]
  },
  {
   "cell_type": "code",
   "execution_count": 107,
   "id": "20acd28a-c7ba-40a9-b400-7615806570b4",
   "metadata": {},
   "outputs": [],
   "source": [
    "df = pd.DataFrame({'Tag': [], 'Target': []})\n",
    "count = 0\n",
    "tag_list, target_list = [], []\n",
    "for i in with_metka['Razme4'].values():\n",
    "    if len(i) in (np.arange(38, 10**3)):\n",
    "        continue\n",
    "    count += 1\n",
    "    for key, value in dict(i).items():\n",
    "        tag_list.append(key)\n",
    "        target_list.append(value)"
   ]
  },
  {
   "cell_type": "code",
   "execution_count": 108,
   "id": "dbe9a368-836e-4924-8afc-1d6c8f2dd1cb",
   "metadata": {},
   "outputs": [],
   "source": [
    "df.Tag = tag_list\n",
    "df.Target = target_list"
   ]
  },
  {
   "cell_type": "markdown",
   "id": "90f741d5-878d-437f-ac60-ffe606f7887c",
   "metadata": {
    "tags": []
   },
   "source": [
    "<a id=\"6\"></a>\n",
    "## <b>6 <span style='color:#43a842'>|</span> Markup Preprocessing</b>\n",
    "* [Оглавление](#0)"
   ]
  },
  {
   "cell_type": "markdown",
   "id": "ea5c9406-ad6b-4c08-9007-8279c6513884",
   "metadata": {},
   "source": [
    "Consequences of manual marking"
   ]
  },
  {
   "cell_type": "code",
   "execution_count": 109,
   "id": "b42dbcb7-dfb3-4837-a5a8-65cc536e7207",
   "metadata": {},
   "outputs": [
    {
     "data": {
      "text/plain": [
       "array(['тов', 'бренд', '-', 'назн', 'раз', '1', 'разм', 'наз', 'тип',\n",
       "       'мат', 'гор', 'мод', 'товар', 'размер', 'материал', 'модель',\n",
       "       'гост', 'цвет', 'бред'], dtype=object)"
      ]
     },
     "execution_count": 109,
     "metadata": {},
     "output_type": "execute_result"
    }
   ],
   "source": [
    "df.Target.unique()"
   ]
  },
  {
   "cell_type": "code",
   "execution_count": 110,
   "id": "f9e4af5c-fa75-40e9-8dcd-ef89aa096735",
   "metadata": {},
   "outputs": [],
   "source": [
    "def replace_word(true_word, false_word):\n",
    "    df.Target = df.Target.apply(lambda x: true_word if x == false_word else x)"
   ]
  },
  {
   "cell_type": "code",
   "execution_count": 111,
   "id": "c94ee6be-f506-464a-bb34-1e9a0372551d",
   "metadata": {},
   "outputs": [],
   "source": [
    "replace_word('тов', 'товар')\n",
    "replace_word('назн', 'наз')\n",
    "replace_word('бренд', 'бред')\n",
    "replace_word('мод', 'модель')\n",
    "replace_word('мат', 'материал')\n",
    "replace_word('разм', 'размер')\n",
    "replace_word('разм', 'раз')\n",
    "replace_word('-', '1')"
   ]
  },
  {
   "cell_type": "code",
   "execution_count": 112,
   "id": "5cd7b519-3385-4fd8-ab7d-b4a4da8d1a3a",
   "metadata": {},
   "outputs": [
    {
     "data": {
      "text/plain": [
       "-        349\n",
       "тов      188\n",
       "тип       93\n",
       "назн      82\n",
       "разм      63\n",
       "мод       53\n",
       "бренд     40\n",
       "мат       37\n",
       "гор        3\n",
       "гост       3\n",
       "цвет       1\n",
       "Name: Target, dtype: int64"
      ]
     },
     "execution_count": 112,
     "metadata": {},
     "output_type": "execute_result"
    }
   ],
   "source": [
    "df['Target'].value_counts()"
   ]
  },
  {
   "cell_type": "code",
   "execution_count": 113,
   "id": "babeb8ea-99e2-4608-b9bf-cf8ea3514a8f",
   "metadata": {},
   "outputs": [],
   "source": [
    "df = df[df.Target != '-']\n",
    "df = df[df.Target != 'гост']\n",
    "df = df[df.Target != 'цвет']\n",
    "df = df[df.Target != 'гор']"
   ]
  },
  {
   "cell_type": "code",
   "execution_count": 114,
   "id": "d738586c-4ffd-4fd8-92d7-572336052fc6",
   "metadata": {},
   "outputs": [
    {
     "data": {
      "text/plain": [
       "тов      188\n",
       "тип       93\n",
       "назн      82\n",
       "разм      63\n",
       "мод       53\n",
       "бренд     40\n",
       "мат       37\n",
       "Name: Target, dtype: int64"
      ]
     },
     "execution_count": 114,
     "metadata": {},
     "output_type": "execute_result"
    }
   ],
   "source": [
    "df['Target'].value_counts()"
   ]
  },
  {
   "cell_type": "code",
   "execution_count": 115,
   "id": "672f1c37-a7e1-420e-b49c-c796189a476b",
   "metadata": {},
   "outputs": [
    {
     "data": {
      "image/png": "[encoded data removed]",
      "text/plain": [
       "<Figure size 800x550 with 1 Axes>"
      ]
     },
     "metadata": {},
     "output_type": "display_data"
    }
   ],
   "source": [
    "plt.hist(df['Target'], bins=df['Target'].nunique(), rwidth=0.5)\n",
    "plt.xticks([])\n",
    "plt.show()"
   ]
  },
  {
   "cell_type": "markdown",
   "id": "097bf0e7-b906-489d-a5c7-da4d0f077a2d",
   "metadata": {},
   "source": [
    "<a id=\"7\"></a>\n",
    "## <b>7 <span style='color:#43a842'>|</span> Vectorization</b>\n",
    "* [Оглавление](#0)"
   ]
  },
  {
   "cell_type": "code",
   "execution_count": 116,
   "id": "bf06d76a-be1c-46b3-9909-3adbbd358ffc",
   "metadata": {},
   "outputs": [],
   "source": [
    "y = df['Target']\n",
    "X = df['Tag']\n",
    "X_train, X_test, y_train, y_test = train_test_split(X, y, test_size = 0.25, random_state=42)"
   ]
  },
  {
   "cell_type": "code",
   "execution_count": 117,
   "id": "a60cf847-04e0-4a21-9d76-b9d244084623",
   "metadata": {},
   "outputs": [],
   "source": [
    "vec = CountVectorizer(ngram_range=(1, 1)) # Convert a collection of text documents to a matrix of token counts\n",
    "bow = vec.fit_transform(X_train)"
   ]
  },
  {
   "cell_type": "code",
   "execution_count": 118,
   "id": "5b741f4b-3ed4-47f3-8e61-4c613dcdd23f",
   "metadata": {},
   "outputs": [
    {
     "data": {
      "text/plain": [
       "[('полиуретановый', 172),\n",
       " ('сменный', 198),\n",
       " ('размер', 188),\n",
       " ('портальный', 176),\n",
       " ('сх4013', 212),\n",
       " ('страхование', 205),\n",
       " ('11x300x1600', 1),\n",
       " ('контейнер', 125),\n",
       " ('новостройка', 150),\n",
       " ('радиатор', 187)]"
      ]
     },
     "execution_count": 118,
     "metadata": {},
     "output_type": "execute_result"
    }
   ],
   "source": [
    "list(vec.vocabulary_.items())[:10]"
   ]
  },
  {
   "cell_type": "markdown",
   "id": "7c47b58a-d248-4374-9502-a07505c302b7",
   "metadata": {},
   "source": [
    "<a id=\"8\"></a>\n",
    "## <b>8 <span style='color:#43a842'>|</span> Model Training</b>\n",
    "* [Оглавление](#0)"
   ]
  },
  {
   "cell_type": "markdown",
   "id": "de43bad7-6e62-48f9-b25c-0202db88a631",
   "metadata": {
    "tags": []
   },
   "source": [
    "# <a id=\"8.1\"></a>\n",
    "### <b>8.1 <span style='color:#43a842'>|</span> Logistic Regression</b>\n",
    "* [Оглавление](#0)"
   ]
  },
  {
   "cell_type": "code",
   "execution_count": 119,
   "id": "441092bd-a072-4ec3-a7d3-6d39bfb822e3",
   "metadata": {},
   "outputs": [
    {
     "data": {
      "text/plain": [
       "LogisticRegression(max_iter=500, random_state=42)"
      ]
     },
     "execution_count": 119,
     "metadata": {},
     "output_type": "execute_result"
    }
   ],
   "source": [
    "clf = LogisticRegression(random_state=42, max_iter=500)\n",
    "clf.fit(bow, y_train)"
   ]
  },
  {
   "cell_type": "code",
   "execution_count": 120,
   "id": "b54a66d0-846f-4d80-96c5-8ae38e2ed148",
   "metadata": {},
   "outputs": [
    {
     "name": "stdout",
     "output_type": "stream",
     "text": [
      "              precision    recall  f1-score   support\n",
      "\n",
      "       бренд       0.08      1.00      0.14         1\n",
      "         мат       0.40      0.80      0.53         5\n",
      "         мод       0.18      0.67      0.29         3\n",
      "        назн       0.68      0.94      0.79        16\n",
      "        разм       0.23      0.50      0.32         6\n",
      "         тип       0.26      0.75      0.39         8\n",
      "         тов       1.00      0.47      0.64       100\n",
      "\n",
      "    accuracy                           0.56       139\n",
      "   macro avg       0.40      0.73      0.44       139\n",
      "weighted avg       0.84      0.56      0.61       139\n",
      "\n"
     ]
    }
   ],
   "source": [
    "y_pred = clf.predict(vec.transform(X_test))\n",
    "print(classification_report(y_pred, y_test))"
   ]
  },
  {
   "cell_type": "markdown",
   "id": "126b3013-7cca-4b44-b8f8-5f1cddc884ed",
   "metadata": {},
   "source": [
    "# <a id=\"8.2\"></a>\n",
    "### <b>8.2 <span style='color:#43a842'>|</span> Decision Tree</b>\n",
    "* [Оглавление](#0)"
   ]
  },
  {
   "cell_type": "code",
   "execution_count": 39,
   "id": "d3e168d4-0c78-4e58-b39f-89cc7e1a5d4d",
   "metadata": {},
   "outputs": [],
   "source": [
    "dt = DecisionTreeClassifier(random_state=42).fit(bow, y_train)"
   ]
  },
  {
   "cell_type": "code",
   "execution_count": 40,
   "id": "e99c2167-ef14-4358-94b2-8c329a263182",
   "metadata": {},
   "outputs": [
    {
     "name": "stdout",
     "output_type": "stream",
     "text": [
      "              precision    recall  f1-score   support\n",
      "\n",
      "       бренд       0.31      1.00      0.47         4\n",
      "         мат       0.40      0.67      0.50         6\n",
      "         мод       0.18      0.67      0.29         3\n",
      "        назн       0.68      0.88      0.77        17\n",
      "        разм       1.00      0.19      0.33        67\n",
      "         тип       0.22      0.71      0.33         7\n",
      "         тов       0.70      0.94      0.80        35\n",
      "\n",
      "    accuracy                           0.55       139\n",
      "   macro avg       0.50      0.72      0.50       139\n",
      "weighted avg       0.78      0.55      0.51       139\n",
      "\n"
     ]
    }
   ],
   "source": [
    "y_pred = dt.predict(vec.transform(X_test))\n",
    "print(classification_report(y_pred, y_test))"
   ]
  },
  {
   "cell_type": "markdown",
   "id": "c2053323-6bf9-45ea-8177-b4bfa6a99035",
   "metadata": {},
   "source": [
    "# <a id=\"8.3\"></a>\n",
    "### <b>8.3 <span style='color:#43a842'>|</span> Random Forest</b>\n",
    "* [Оглавление](#0)"
   ]
  },
  {
   "cell_type": "code",
   "execution_count": 41,
   "id": "43900a31-828f-4760-a03a-a58d760b1ea4",
   "metadata": {},
   "outputs": [],
   "source": [
    "rf = RandomForestClassifier(random_state=42).fit(bow, y_train)"
   ]
  },
  {
   "cell_type": "code",
   "execution_count": 42,
   "id": "69692d77-88ed-4fc2-b1ac-95eb563c242c",
   "metadata": {},
   "outputs": [
    {
     "name": "stdout",
     "output_type": "stream",
     "text": [
      "              precision    recall  f1-score   support\n",
      "\n",
      "       бренд       0.31      1.00      0.47         4\n",
      "         мат       0.40      0.67      0.50         6\n",
      "         мод       0.18      0.67      0.29         3\n",
      "        назн       0.68      0.94      0.79        16\n",
      "        разм       1.00      0.19      0.33        67\n",
      "         тип       0.26      0.75      0.39         8\n",
      "         тов       0.70      0.94      0.80        35\n",
      "\n",
      "    accuracy                           0.55       139\n",
      "   macro avg       0.50      0.74      0.51       139\n",
      "weighted avg       0.78      0.55      0.51       139\n",
      "\n"
     ]
    }
   ],
   "source": [
    "y_pred = rf.predict(vec.transform(X_test))\n",
    "print(classification_report(y_pred, y_test))"
   ]
  },
  {
   "cell_type": "markdown",
   "id": "6d6b0b64-d54c-4877-b3d2-dc76c53da6f6",
   "metadata": {},
   "source": [
    "# <a id=\"8.4\"></a>\n",
    "### <b>8.4 <span style='color:#43a842'>|</span> K Neighbors Classifier</b>\n",
    "* [Оглавление](#0)"
   ]
  },
  {
   "cell_type": "code",
   "execution_count": 43,
   "id": "81c23382-790b-40e8-91d5-2bbd59d77522",
   "metadata": {},
   "outputs": [],
   "source": [
    "kn_clf = KNeighborsClassifier().fit(bow, y_train)"
   ]
  },
  {
   "cell_type": "code",
   "execution_count": 44,
   "id": "6a3c799d-a0d8-465a-9162-a86621f62f52",
   "metadata": {},
   "outputs": [
    {
     "name": "stdout",
     "output_type": "stream",
     "text": [
      "              precision    recall  f1-score   support\n",
      "\n",
      "       бренд       0.08      1.00      0.14         1\n",
      "         мат       0.40      0.80      0.53         5\n",
      "         мод       0.00      0.00      0.00         0\n",
      "        назн       0.55      0.92      0.69        13\n",
      "        разм       1.00      0.14      0.24        95\n",
      "         тип       0.09      0.50      0.15         4\n",
      "         тов       0.45      1.00      0.62        21\n",
      "\n",
      "    accuracy                           0.38       139\n",
      "   macro avg       0.37      0.62      0.34       139\n",
      "weighted avg       0.82      0.38      0.35       139\n",
      "\n"
     ]
    }
   ],
   "source": [
    "y_pred = kn_clf.predict(vec.transform(X_test))\n",
    "print(classification_report(y_pred, y_test))"
   ]
  },
  {
   "cell_type": "markdown",
   "id": "c50b4cad-f2c6-4a32-8ca9-4033addcc70d",
   "metadata": {},
   "source": [
    "# <a id=\"8.5\"></a>\n",
    "### <b>8.5 <span style='color:#43a842'>|</span> Support Vector Machine</b>\n",
    "* [Оглавление](#0)"
   ]
  },
  {
   "cell_type": "code",
   "execution_count": 45,
   "id": "fad1a3c3-6d50-4870-9ad0-b24a45e1640a",
   "metadata": {},
   "outputs": [],
   "source": [
    "svc = SVC(random_state=42).fit(bow, y_train)"
   ]
  },
  {
   "cell_type": "code",
   "execution_count": 46,
   "id": "32e26069-a7cf-4d37-82ef-cb72dbdfdd2a",
   "metadata": {},
   "outputs": [
    {
     "name": "stdout",
     "output_type": "stream",
     "text": [
      "              precision    recall  f1-score   support\n",
      "\n",
      "       бренд       0.31      1.00      0.47         4\n",
      "         мат       0.40      0.67      0.50         6\n",
      "         мод       0.18      0.67      0.29         3\n",
      "        назн       0.68      0.94      0.79        16\n",
      "        разм       1.00      0.19      0.33        67\n",
      "         тип       0.26      0.75      0.39         8\n",
      "         тов       0.70      0.94      0.80        35\n",
      "\n",
      "    accuracy                           0.55       139\n",
      "   macro avg       0.50      0.74      0.51       139\n",
      "weighted avg       0.78      0.55      0.51       139\n",
      "\n"
     ]
    }
   ],
   "source": [
    "y_pred = svc.predict(vec.transform(X_test))\n",
    "print(classification_report(y_pred, y_test))"
   ]
  },
  {
   "cell_type": "markdown",
   "id": "46741779-7426-46e3-a068-02e8641504e6",
   "metadata": {},
   "source": [
    "# <a id=\"8.6\"></a>\n",
    "### <b>8.6 <span style='color:#43a842'>|</span> MLP</b>\n",
    "* [Оглавление](#0)"
   ]
  },
  {
   "cell_type": "code",
   "execution_count": 124,
   "id": "22fe5de5-e5ec-4239-a9e5-166263703805",
   "metadata": {},
   "outputs": [],
   "source": [
    "mlp = MLPClassifier(random_state=42).fit(bow, y_train)"
   ]
  },
  {
   "cell_type": "code",
   "execution_count": 125,
   "id": "f3da8628-31ab-429e-95b9-32756cb7aec7",
   "metadata": {},
   "outputs": [
    {
     "name": "stdout",
     "output_type": "stream",
     "text": [
      "              precision    recall  f1-score   support\n",
      "\n",
      "       бренд       0.31      1.00      0.47         4\n",
      "         мат       0.40      0.67      0.50         6\n",
      "         мод       0.18      0.67      0.29         3\n",
      "        назн       0.68      0.94      0.79        16\n",
      "        разм       1.00      0.19      0.33        67\n",
      "         тип       0.26      0.75      0.39         8\n",
      "         тов       0.70      0.94      0.80        35\n",
      "\n",
      "    accuracy                           0.55       139\n",
      "   macro avg       0.50      0.74      0.51       139\n",
      "weighted avg       0.78      0.55      0.51       139\n",
      "\n"
     ]
    }
   ],
   "source": [
    "y_pred = mlp.predict(vec.transform(X_test))\n",
    "print(classification_report(y_pred, y_test))"
   ]
  },
  {
   "cell_type": "markdown",
   "id": "5ab352c4-c216-4ac4-b9ad-d890beb8687d",
   "metadata": {},
   "source": [
    "<a id=\"8.7\"></a>\n",
    "### <b>8.7 <span style='color:#43a842'>|</span> Result</b>\n",
    "* [Оглавление](#0)"
   ]
  },
  {
   "cell_type": "code",
   "execution_count": 126,
   "id": "a97e6c47-b1b8-4cc3-8bc8-f9a3af511024",
   "metadata": {},
   "outputs": [],
   "source": [
    "df = pd.DataFrame({'Models': ['Logistic Regression',\n",
    "                             'Decision Tree',\n",
    "                             'Random Forest',\n",
    "                             'K Neighbors',\n",
    "                             'Support Vec', \n",
    "                             'MLP'],\n",
    "                  'Accuracy': [accuracy_score(y_test, clf.predict(vec.transform(X_test))),\n",
    "                              accuracy_score(y_test, dt.predict(vec.transform(X_test))),\n",
    "                              accuracy_score(y_test, rf.predict(vec.transform(X_test))),\n",
    "                              accuracy_score(y_test, kn_clf.predict(vec.transform(X_test))),\n",
    "                              accuracy_score(y_test, svc.predict(vec.transform(X_test))), \n",
    "                              accuracy_score(y_test, mlp.predict(vec.transform(X_test)))],\n",
    "                  'f1_macro': [f1_score(y_test, clf.predict(vec.transform(X_test)), average='macro'),\n",
    "                              f1_score(y_test, dt.predict(vec.transform(X_test)), average='macro'),\n",
    "                              f1_score(y_test, rf.predict(vec.transform(X_test)), average='macro'),\n",
    "                              f1_score(y_test, kn_clf.predict(vec.transform(X_test)), average='macro'),\n",
    "                              f1_score(y_test, svc.predict(vec.transform(X_test)), average='macro'),\n",
    "                              f1_score(y_test, mlp.predict(vec.transform(X_test)), average='macro')],\n",
    "                  'f1_weighted': [f1_score(y_test, clf.predict(vec.transform(X_test)), average='weighted'),\n",
    "                              f1_score(y_test, dt.predict(vec.transform(X_test)), average='weighted'),\n",
    "                              f1_score(y_test, rf.predict(vec.transform(X_test)), average='weighted'),\n",
    "                              f1_score(y_test, kn_clf.predict(vec.transform(X_test)), average='weighted'),\n",
    "                              f1_score(y_test, svc.predict(vec.transform(X_test)), average='weighted'),\n",
    "                              f1_score(y_test, mlp.predict(vec.transform(X_test)), average='weighted')]})"
   ]
  },
  {
   "cell_type": "code",
   "execution_count": 127,
   "id": "6e04c691-6c7e-47fd-8547-f9e2f0004570",
   "metadata": {},
   "outputs": [
    {
     "data": {
      "text/html": [
       "<div>\n",
       "<style scoped>\n",
       "    .dataframe tbody tr th:only-of-type {\n",
       "        vertical-align: middle;\n",
       "    }\n",
       "\n",
       "    .dataframe tbody tr th {\n",
       "        vertical-align: top;\n",
       "    }\n",
       "\n",
       "    .dataframe thead th {\n",
       "        text-align: right;\n",
       "    }\n",
       "</style>\n",
       "<table border=\"1\" class=\"dataframe\">\n",
       "  <thead>\n",
       "    <tr style=\"text-align: right;\">\n",
       "      <th></th>\n",
       "      <th>Models</th>\n",
       "      <th>Accuracy</th>\n",
       "      <th>f1_macro</th>\n",
       "      <th>f1_weighted</th>\n",
       "    </tr>\n",
       "  </thead>\n",
       "  <tbody>\n",
       "    <tr>\n",
       "      <th>0</th>\n",
       "      <td>Logistic Regression</td>\n",
       "      <td>0.561151</td>\n",
       "      <td>0.441960</td>\n",
       "      <td>0.509098</td>\n",
       "    </tr>\n",
       "    <tr>\n",
       "      <th>1</th>\n",
       "      <td>Decision Tree</td>\n",
       "      <td>0.546763</td>\n",
       "      <td>0.498392</td>\n",
       "      <td>0.582047</td>\n",
       "    </tr>\n",
       "    <tr>\n",
       "      <th>2</th>\n",
       "      <td>Random Forest</td>\n",
       "      <td>0.561151</td>\n",
       "      <td>0.505144</td>\n",
       "      <td>0.590385</td>\n",
       "    </tr>\n",
       "    <tr>\n",
       "      <th>3</th>\n",
       "      <td>K Neighbors</td>\n",
       "      <td>0.381295</td>\n",
       "      <td>0.338349</td>\n",
       "      <td>0.416134</td>\n",
       "    </tr>\n",
       "    <tr>\n",
       "      <th>4</th>\n",
       "      <td>Support Vec</td>\n",
       "      <td>0.553957</td>\n",
       "      <td>0.508964</td>\n",
       "      <td>0.594147</td>\n",
       "    </tr>\n",
       "    <tr>\n",
       "      <th>5</th>\n",
       "      <td>MLP</td>\n",
       "      <td>0.553957</td>\n",
       "      <td>0.508964</td>\n",
       "      <td>0.594147</td>\n",
       "    </tr>\n",
       "  </tbody>\n",
       "</table>\n",
       "</div>"
      ],
      "text/plain": [
       "                Models  Accuracy  f1_macro  f1_weighted\n",
       "0  Logistic Regression  0.561151  0.441960     0.509098\n",
       "1        Decision Tree  0.546763  0.498392     0.582047\n",
       "2        Random Forest  0.561151  0.505144     0.590385\n",
       "3          K Neighbors  0.381295  0.338349     0.416134\n",
       "4          Support Vec  0.553957  0.508964     0.594147\n",
       "5                  MLP  0.553957  0.508964     0.594147"
      ]
     },
     "execution_count": 127,
     "metadata": {},
     "output_type": "execute_result"
    }
   ],
   "source": [
    "df"
   ]
  },
  {
   "cell_type": "markdown",
   "id": "f661e9da-fc62-46eb-9187-7ce2f535c61f",
   "metadata": {},
   "source": [
    "# <a id=\"9\"></a>\n",
    "## <b>9 <span style='color:#43a842'>|</span> Grid Search</b>\n",
    "* [Оглавление](#0)"
   ]
  },
  {
   "cell_type": "code",
   "execution_count": 49,
   "id": "a636d2c0-00da-4994-8538-c9b2158cf12d",
   "metadata": {},
   "outputs": [],
   "source": [
    "def get_metrics(model, title):\n",
    "    met = pd.DataFrame({'Models': [title], \n",
    "                            'Accuracy': accuracy_score(y_test, model.predict(vec.transform(X_test))), \n",
    "                            'f1_macro': f1_score(y_test, model.predict(vec.transform(X_test)), average='macro'), \n",
    "                            'f1_weighted': f1_score(y_test, model.predict(vec.transform(X_test)), average='weighted')})\n",
    "    return met"
   ]
  },
  {
   "cell_type": "markdown",
   "id": "e9eb387f-bcc0-4b79-b5df-c8a090c578df",
   "metadata": {},
   "source": [
    "# <a id=\"9.1\"></a>\n",
    "### <b>9.1 <span style='color:#43a842'>|</span> Logistic Regression</b>\n",
    "* [Оглавление](#0)"
   ]
  },
  {
   "cell_type": "code",
   "execution_count": 50,
   "id": "4b694dc1-409e-47bf-ba37-0c1ae36b56dd",
   "metadata": {},
   "outputs": [],
   "source": [
    "params = {\"C\": [0.01, 0.1, 1, 10, 100, 1000], \n",
    "      \"penalty\": ['l1', 'l2', 'elasticnet'],\n",
    "      \"solver\": ['lbfgs', 'liblinear', 'newton-cg', 'newton-cholesky', 'sag', 'saga']}"
   ]
  },
  {
   "cell_type": "code",
   "execution_count": 51,
   "id": "b1e48319-9110-40ff-98cd-e6e51e2a2281",
   "metadata": {},
   "outputs": [
    {
     "name": "stdout",
     "output_type": "stream",
     "text": [
      "CPU times: user 18.9 s, sys: 60 ms, total: 19 s\n",
      "Wall time: 19 s\n"
     ]
    }
   ],
   "source": [
    "%%time\n",
    "search = GridSearchCV(clf, params, cv=10).fit(bow, y_train)"
   ]
  },
  {
   "cell_type": "code",
   "execution_count": 52,
   "id": "d65df498-5011-4bc2-a129-bd32676b9deb",
   "metadata": {},
   "outputs": [
    {
     "data": {
      "text/plain": [
       "{'C': 10, 'penalty': 'l1', 'solver': 'saga'}"
      ]
     },
     "execution_count": 52,
     "metadata": {},
     "output_type": "execute_result"
    }
   ],
   "source": [
    "search.best_params_"
   ]
  },
  {
   "cell_type": "code",
   "execution_count": 53,
   "id": "5703a3e4-bc23-48a0-b70b-bac5d7093b39",
   "metadata": {},
   "outputs": [],
   "source": [
    "best_lr = search.best_estimator_"
   ]
  },
  {
   "cell_type": "code",
   "execution_count": 54,
   "id": "19493170-1503-4733-9625-5f1c9ecf3d43",
   "metadata": {},
   "outputs": [
    {
     "data": {
      "text/html": [
       "<div>\n",
       "<style scoped>\n",
       "    .dataframe tbody tr th:only-of-type {\n",
       "        vertical-align: middle;\n",
       "    }\n",
       "\n",
       "    .dataframe tbody tr th {\n",
       "        vertical-align: top;\n",
       "    }\n",
       "\n",
       "    .dataframe thead th {\n",
       "        text-align: right;\n",
       "    }\n",
       "</style>\n",
       "<table border=\"1\" class=\"dataframe\">\n",
       "  <thead>\n",
       "    <tr style=\"text-align: right;\">\n",
       "      <th></th>\n",
       "      <th>Models</th>\n",
       "      <th>Accuracy</th>\n",
       "      <th>f1_macro</th>\n",
       "      <th>f1_weighted</th>\n",
       "    </tr>\n",
       "  </thead>\n",
       "  <tbody>\n",
       "    <tr>\n",
       "      <th>0</th>\n",
       "      <td>Remastered LR</td>\n",
       "      <td>0.561151</td>\n",
       "      <td>0.505144</td>\n",
       "      <td>0.590385</td>\n",
       "    </tr>\n",
       "  </tbody>\n",
       "</table>\n",
       "</div>"
      ],
      "text/plain": [
       "          Models  Accuracy  f1_macro  f1_weighted\n",
       "0  Remastered LR  0.561151  0.505144     0.590385"
      ]
     },
     "execution_count": 54,
     "metadata": {},
     "output_type": "execute_result"
    }
   ],
   "source": [
    "get_metrics(best_lr, 'Remastered LR')"
   ]
  },
  {
   "cell_type": "code",
   "execution_count": 55,
   "id": "ded5903f-9804-4e62-9007-46273c25a191",
   "metadata": {},
   "outputs": [
    {
     "data": {
      "text/plain": [
       "<matplotlib.legend.Legend at 0x7f96a78fc490>"
      ]
     },
     "execution_count": 55,
     "metadata": {},
     "output_type": "execute_result"
    },
    {
     "data": {
      "image/png": "[encoded data removed]",
      "text/plain": [
       "<Figure size 800x550 with 1 Axes>"
      ]
     },
     "metadata": {},
     "output_type": "display_data"
    }
   ],
   "source": [
    "trains = []\n",
    "tests = []\n",
    "for i in np.logspace(-3, 3, 20):\n",
    "    lr = LogisticRegression(C=i).fit(bow, y_train)\n",
    "    trains.append(accuracy_score(y_train, lr.predict(vec.transform(X_train))))\n",
    "    tests.append(accuracy_score(y_test, lr.predict(vec.transform(X_test))))\n",
    "\n",
    "plt.plot(trains, label=\"train\")\n",
    "plt.plot(tests, label=\"test\")\n",
    "plt.legend()"
   ]
  },
  {
   "cell_type": "markdown",
   "id": "205d70f3-104a-4f71-a76e-952bf2aa7ddd",
   "metadata": {},
   "source": [
    "# <a id=\"9.2\"></a>\n",
    "### <b>9.2 <span style='color:#43a842'>|</span> Random Forest</b>\n",
    "* [Оглавление](#0)"
   ]
  },
  {
   "cell_type": "code",
   "execution_count": 56,
   "id": "d5642bee-d3ed-41e5-bb69-0cfaa48774f2",
   "metadata": {},
   "outputs": [],
   "source": [
    "params = {'max_depth': range(1, 100), 'min_samples_split': range(1, 10)}"
   ]
  },
  {
   "cell_type": "code",
   "execution_count": 57,
   "id": "893304be-006a-40a2-9da9-6d72a96cbfcb",
   "metadata": {},
   "outputs": [
    {
     "name": "stdout",
     "output_type": "stream",
     "text": [
      "CPU times: user 3.76 s, sys: 30.2 ms, total: 3.79 s\n",
      "Wall time: 3.79 s\n"
     ]
    }
   ],
   "source": [
    "%%time\n",
    "search = RandomizedSearchCV(rf, params, cv=5).fit(bow, y_train)"
   ]
  },
  {
   "cell_type": "code",
   "execution_count": 58,
   "id": "dd9c55da-04e9-4f3a-8d45-2c49f75e7029",
   "metadata": {},
   "outputs": [
    {
     "data": {
      "text/plain": [
       "{'min_samples_split': 9, 'max_depth': 96}"
      ]
     },
     "execution_count": 58,
     "metadata": {},
     "output_type": "execute_result"
    }
   ],
   "source": [
    "search.best_params_"
   ]
  },
  {
   "cell_type": "code",
   "execution_count": 59,
   "id": "99fad5ba-15c6-4d9d-8d5d-721859c8f526",
   "metadata": {},
   "outputs": [],
   "source": [
    "best_rf = search.best_estimator_"
   ]
  },
  {
   "cell_type": "code",
   "execution_count": 60,
   "id": "c67b2509-6980-4068-a400-a228e42276cd",
   "metadata": {},
   "outputs": [
    {
     "data": {
      "text/html": [
       "<div>\n",
       "<style scoped>\n",
       "    .dataframe tbody tr th:only-of-type {\n",
       "        vertical-align: middle;\n",
       "    }\n",
       "\n",
       "    .dataframe tbody tr th {\n",
       "        vertical-align: top;\n",
       "    }\n",
       "\n",
       "    .dataframe thead th {\n",
       "        text-align: right;\n",
       "    }\n",
       "</style>\n",
       "<table border=\"1\" class=\"dataframe\">\n",
       "  <thead>\n",
       "    <tr style=\"text-align: right;\">\n",
       "      <th></th>\n",
       "      <th>Models</th>\n",
       "      <th>Accuracy</th>\n",
       "      <th>f1_macro</th>\n",
       "      <th>f1_weighted</th>\n",
       "    </tr>\n",
       "  </thead>\n",
       "  <tbody>\n",
       "    <tr>\n",
       "      <th>0</th>\n",
       "      <td>Remastered RF</td>\n",
       "      <td>0.561151</td>\n",
       "      <td>0.505144</td>\n",
       "      <td>0.590385</td>\n",
       "    </tr>\n",
       "  </tbody>\n",
       "</table>\n",
       "</div>"
      ],
      "text/plain": [
       "          Models  Accuracy  f1_macro  f1_weighted\n",
       "0  Remastered RF  0.561151  0.505144     0.590385"
      ]
     },
     "execution_count": 60,
     "metadata": {},
     "output_type": "execute_result"
    }
   ],
   "source": [
    "get_metrics(best_rf, 'Remastered RF')"
   ]
  },
  {
   "cell_type": "code",
   "execution_count": 61,
   "id": "1d449292-8119-4cbd-8a8c-c42d5538491f",
   "metadata": {},
   "outputs": [
    {
     "data": {
      "text/plain": [
       "<matplotlib.legend.Legend at 0x7f96a7998e80>"
      ]
     },
     "execution_count": 61,
     "metadata": {},
     "output_type": "execute_result"
    },
    {
     "data": {
      "image/png": "[encoded data removed]",
      "text/plain": [
       "<Figure size 800x550 with 1 Axes>"
      ]
     },
     "metadata": {},
     "output_type": "display_data"
    }
   ],
   "source": [
    "trains = []\n",
    "tests = []\n",
    "for depth in np.linspace(1, 101, 100):\n",
    "    rf = RandomForestClassifier(max_depth=depth).fit(bow, y_train)\n",
    "    trains.append(accuracy_score(y_train, rf.predict(vec.transform(X_train))))\n",
    "    tests.append(accuracy_score(y_test, rf.predict(vec.transform(X_test))))\n",
    "\n",
    "plt.plot(trains, label=\"train\")\n",
    "plt.plot(tests, label=\"test\")\n",
    "plt.legend()"
   ]
  },
  {
   "cell_type": "markdown",
   "id": "342589ae-35f3-475a-8216-97589785d651",
   "metadata": {},
   "source": [
    "# <a id=\"9.3\"></a>\n",
    "### <b>9.3 <span style='color:#43a842'>|</span> Support Vector Machine</b>\n",
    "* [Оглавление](#0)"
   ]
  },
  {
   "cell_type": "code",
   "execution_count": 62,
   "id": "024ad72f-1658-4ef4-8554-438949db9edc",
   "metadata": {},
   "outputs": [],
   "source": [
    "params= {'C':[1,10,100,1000],'gamma':[1,0.1,0.001,0.0001], 'kernel':['linear','rbf']}"
   ]
  },
  {
   "cell_type": "code",
   "execution_count": 63,
   "id": "3171f1f6-f876-4c51-97b9-815093546cce",
   "metadata": {},
   "outputs": [
    {
     "name": "stdout",
     "output_type": "stream",
     "text": [
      "CPU times: user 1.59 s, sys: 11 ms, total: 1.6 s\n",
      "Wall time: 1.6 s\n"
     ]
    }
   ],
   "source": [
    "%%time\n",
    "search = GridSearchCV(svc, params, cv=10).fit(bow, y_train)"
   ]
  },
  {
   "cell_type": "code",
   "execution_count": 64,
   "id": "4cd8712f-4d7a-4d53-9b7e-7576d0a45465",
   "metadata": {},
   "outputs": [
    {
     "data": {
      "text/plain": [
       "{'C': 100, 'gamma': 0.1, 'kernel': 'rbf'}"
      ]
     },
     "execution_count": 64,
     "metadata": {},
     "output_type": "execute_result"
    }
   ],
   "source": [
    "search.best_params_"
   ]
  },
  {
   "cell_type": "code",
   "execution_count": 65,
   "id": "a54a7693-9caf-4b18-8ef2-4f43465d10be",
   "metadata": {},
   "outputs": [],
   "source": [
    "best_svc = search.best_estimator_"
   ]
  },
  {
   "cell_type": "code",
   "execution_count": 66,
   "id": "1082f9e6-eda0-4aef-8783-3f2eb47682fa",
   "metadata": {},
   "outputs": [
    {
     "data": {
      "text/html": [
       "<div>\n",
       "<style scoped>\n",
       "    .dataframe tbody tr th:only-of-type {\n",
       "        vertical-align: middle;\n",
       "    }\n",
       "\n",
       "    .dataframe tbody tr th {\n",
       "        vertical-align: top;\n",
       "    }\n",
       "\n",
       "    .dataframe thead th {\n",
       "        text-align: right;\n",
       "    }\n",
       "</style>\n",
       "<table border=\"1\" class=\"dataframe\">\n",
       "  <thead>\n",
       "    <tr style=\"text-align: right;\">\n",
       "      <th></th>\n",
       "      <th>Models</th>\n",
       "      <th>Accuracy</th>\n",
       "      <th>f1_macro</th>\n",
       "      <th>f1_weighted</th>\n",
       "    </tr>\n",
       "  </thead>\n",
       "  <tbody>\n",
       "    <tr>\n",
       "      <th>0</th>\n",
       "      <td>Remastered SVC</td>\n",
       "      <td>0.553957</td>\n",
       "      <td>0.508964</td>\n",
       "      <td>0.594147</td>\n",
       "    </tr>\n",
       "  </tbody>\n",
       "</table>\n",
       "</div>"
      ],
      "text/plain": [
       "           Models  Accuracy  f1_macro  f1_weighted\n",
       "0  Remastered SVC  0.553957  0.508964     0.594147"
      ]
     },
     "execution_count": 66,
     "metadata": {},
     "output_type": "execute_result"
    }
   ],
   "source": [
    "get_metrics(best_svc, 'Remastered SVC')"
   ]
  },
  {
   "cell_type": "code",
   "execution_count": 67,
   "id": "100be79f-7c7a-4ec5-b968-18bbff741383",
   "metadata": {},
   "outputs": [
    {
     "data": {
      "image/png": "[encoded data removed]",
      "text/plain": [
       "<Figure size 800x550 with 1 Axes>"
      ]
     },
     "metadata": {},
     "output_type": "display_data"
    }
   ],
   "source": [
    "visualizer = LearningCurve(\n",
    "    SVC(), train_sizes=np.linspace(0.1, 1.0, 10)\n",
    ").fit(bow, y_train).show() "
   ]
  },
  {
   "cell_type": "code",
   "execution_count": 68,
   "id": "d55f8a16-d065-4a22-a7bf-01dfdafe37db",
   "metadata": {},
   "outputs": [
    {
     "data": {
      "text/plain": [
       "<matplotlib.legend.Legend at 0x7f96b82c1460>"
      ]
     },
     "execution_count": 68,
     "metadata": {},
     "output_type": "execute_result"
    },
    {
     "data": {
      "image/png": "[encoded data removed]",
      "text/plain": [
       "<Figure size 800x550 with 1 Axes>"
      ]
     },
     "metadata": {},
     "output_type": "display_data"
    }
   ],
   "source": [
    "trains = []\n",
    "tests = []\n",
    "for i in np.linspace(1, 30, 100):\n",
    "    svc = SVC(C=i).fit(bow, y_train)\n",
    "    trains.append(accuracy_score(y_train, svc.predict(vec.transform(X_train))))\n",
    "    tests.append(accuracy_score(y_test, svc.predict(vec.transform(X_test))))\n",
    "\n",
    "plt.plot(trains, label=\"train\")\n",
    "plt.plot(tests, label=\"test\")\n",
    "plt.legend()"
   ]
  },
  {
   "cell_type": "code",
   "execution_count": null,
   "id": "c081a061-a80e-4fbf-8cb3-d812600bf2d6",
   "metadata": {},
   "outputs": [],
   "source": [
    "Spacy, DeepPavlov"
   ]
  },
  {
   "cell_type": "markdown",
   "id": "874273d5-d13e-40d4-a2df-999eb8274698",
   "metadata": {},
   "source": [
    "# <a id=\"10\"></a>\n",
    "## <b>10 <span style='color:#43a842'>|</span> Oversampling</b>\n",
    "* [Оглавление](#0)"
   ]
  },
  {
   "cell_type": "markdown",
   "id": "267b8f13-3bfd-46e5-aaf0-d2b13af2a72b",
   "metadata": {},
   "source": [
    "The ratio between the largest class and the rest"
   ]
  },
  {
   "cell_type": "code",
   "execution_count": 81,
   "id": "10948ea2-0c21-4f5d-a694-f25d615f882f",
   "metadata": {},
   "outputs": [],
   "source": [
    "rats = []\n",
    "largest_class = df.Target.value_counts().max()\n",
    "for i in df.Target.value_counts():\n",
    "    rats.append(largest_class / i)"
   ]
  },
  {
   "cell_type": "code",
   "execution_count": 82,
   "id": "2ee79c55-4ea6-48d7-88b7-2eebcc99cb61",
   "metadata": {},
   "outputs": [
    {
     "data": {
      "text/plain": [
       "[1.0,\n",
       " 2.021505376344086,\n",
       " 2.292682926829268,\n",
       " 2.984126984126984,\n",
       " 3.547169811320755,\n",
       " 4.7,\n",
       " 5.081081081081081]"
      ]
     },
     "execution_count": 82,
     "metadata": {},
     "output_type": "execute_result"
    }
   ],
   "source": [
    "rats"
   ]
  },
  {
   "cell_type": "code",
   "execution_count": 83,
   "id": "237c00a2-27ad-48bf-b4ee-1813da82403c",
   "metadata": {},
   "outputs": [],
   "source": [
    "def oversampling(df, rats, *target):\n",
    "    oversampl_df = df.loc[df.Target == 'тов']\n",
    "    for i in range(len(target)):\n",
    "        mask = df.loc[df.Target == target[i]]\n",
    "        sampled_class = mask.loc[mask.index.repeat(int(rats[i + 1]))]\n",
    "        oversampl_df = oversampl_df.append(sampled_class)\n",
    "    return oversampl_df"
   ]
  },
  {
   "cell_type": "code",
   "execution_count": 84,
   "id": "c3655f72-5dff-4268-8ce6-6bd2ec66b966",
   "metadata": {},
   "outputs": [
    {
     "data": {
      "text/plain": [
       "(1168, 2)"
      ]
     },
     "execution_count": 84,
     "metadata": {},
     "output_type": "execute_result"
    }
   ],
   "source": [
    "new_df = oversampling(df, rats, 'тип', 'назн', 'разм', 'мод', 'бренд', 'мат')\n",
    "new_df.shape"
   ]
  },
  {
   "cell_type": "markdown",
   "id": "92ffe2ed-1473-4497-ae2c-ceea497322dc",
   "metadata": {},
   "source": [
    "Oversampling distribution"
   ]
  },
  {
   "cell_type": "code",
   "execution_count": 85,
   "id": "8219e704-cc72-4ced-99c6-9ef83089998b",
   "metadata": {},
   "outputs": [
    {
     "data": {
      "image/png": "[encoded data removed]",
      "text/plain": [
       "<Figure size 800x550 with 1 Axes>"
      ]
     },
     "metadata": {},
     "output_type": "display_data"
    }
   ],
   "source": [
    "plt.hist(new_df['Target'], bins=new_df['Target'].nunique(), rwidth=0.5)\n",
    "plt.xticks([])\n",
    "plt.show()"
   ]
  },
  {
   "cell_type": "code",
   "execution_count": 86,
   "id": "2ea77fa9-9b15-4432-a0d8-2eb69737cfc6",
   "metadata": {},
   "outputs": [],
   "source": [
    "y_2 = new_df['Target']\n",
    "X_2 = new_df['Tag']\n",
    "X_train_2, X_test_2, y_train_2, y_test_2 = train_test_split(X_2, y_2, test_size = 0.25, random_state=42)"
   ]
  },
  {
   "cell_type": "code",
   "execution_count": 87,
   "id": "4b592311-acb5-4e24-b4fb-9b6ebb4f730b",
   "metadata": {},
   "outputs": [],
   "source": [
    "vec = CountVectorizer(ngram_range=(1, 1)) # строим BoW для слов\n",
    "bow = vec.fit_transform(X_train_2)"
   ]
  },
  {
   "cell_type": "code",
   "execution_count": 88,
   "id": "f2e7ba8d-6da5-4cef-b1b0-d2eae2ee5cb3",
   "metadata": {},
   "outputs": [],
   "source": [
    "oversample_df = pd.DataFrame({'Models': [],\n",
    "                              'Accuracy': [],\n",
    "                              'f1_macro': [],\n",
    "                              'f1_weighted': []})"
   ]
  },
  {
   "cell_type": "code",
   "execution_count": 89,
   "id": "4525d06b-40a8-4efa-a902-a8ba94900140",
   "metadata": {},
   "outputs": [],
   "source": [
    "def train_for_model(model, df, title):\n",
    "    clf = model.fit(bow, y_train_2)\n",
    "    y_pred = clf.predict(vec.transform(X_test))\n",
    "    info = pd.DataFrame({'Models': [title],\n",
    "                  'Accuracy': accuracy_score(y_test, y_pred),\n",
    "                  'f1_macro': f1_score(y_test, y_pred, average='macro'),\n",
    "                  'f1_weighted': f1_score(y_test, y_pred, average='weighted')})\n",
    "    df = df.append(info)\n",
    "    return df"
   ]
  },
  {
   "cell_type": "markdown",
   "id": "cdbd0010-9170-4689-9969-167ebd71b9e5",
   "metadata": {},
   "source": [
    "# <a id=\"10.1\"></a>\n",
    "### <b>10.1 <span style='color:#43a842'>|</span> Log Regression</b>\n",
    "* [Оглавление](#0)"
   ]
  },
  {
   "cell_type": "code",
   "execution_count": 92,
   "id": "0c39f6b1-674c-425b-8f51-10a38c886e61",
   "metadata": {},
   "outputs": [],
   "source": [
    "clf = LogisticRegression(random_state=42).fit(bow, y_train_2)"
   ]
  },
  {
   "cell_type": "markdown",
   "id": "33c6d782-83a6-4a5d-84dd-c2567554c321",
   "metadata": {},
   "source": [
    "##### Score oversample model on the new sample"
   ]
  },
  {
   "cell_type": "code",
   "execution_count": 93,
   "id": "c116c2a7-4495-4af2-af34-b1035ac09cf6",
   "metadata": {},
   "outputs": [
    {
     "name": "stdout",
     "output_type": "stream",
     "text": [
      "              precision    recall  f1-score   support\n",
      "\n",
      "       бренд       0.90      1.00      0.95        37\n",
      "         мат       0.92      0.92      0.92        39\n",
      "         мод       1.00      0.93      0.97        45\n",
      "        назн       0.80      0.95      0.86        37\n",
      "        разм       0.71      0.81      0.76        27\n",
      "         тип       0.82      0.57      0.67        70\n",
      "         тов       0.74      0.92      0.82        37\n",
      "\n",
      "    accuracy                           0.84       292\n",
      "   macro avg       0.84      0.87      0.85       292\n",
      "weighted avg       0.85      0.84      0.84       292\n",
      "\n"
     ]
    }
   ],
   "source": [
    "y_pred = clf.predict(vec.transform(X_test_2))\n",
    "print(classification_report(y_pred, y_test_2))"
   ]
  },
  {
   "cell_type": "markdown",
   "id": "8a97a6d2-fe91-429b-930d-8e5f48be5970",
   "metadata": {},
   "source": [
    "##### Score oversample model on the first sample (disbalanced)"
   ]
  },
  {
   "cell_type": "code",
   "execution_count": 94,
   "id": "38c7a6ad-f164-4360-aa9d-125b8a17d298",
   "metadata": {},
   "outputs": [
    {
     "name": "stdout",
     "output_type": "stream",
     "text": [
      "              precision    recall  f1-score   support\n",
      "\n",
      "       бренд       0.92      1.00      0.96        12\n",
      "         мат       0.90      0.82      0.86        11\n",
      "         мод       0.82      0.90      0.86        10\n",
      "        назн       0.91      0.95      0.93        21\n",
      "        разм       0.92      0.86      0.89        14\n",
      "         тип       0.83      0.66      0.73        29\n",
      "         тов       0.89      1.00      0.94        42\n",
      "\n",
      "    accuracy                           0.88       139\n",
      "   macro avg       0.88      0.88      0.88       139\n",
      "weighted avg       0.88      0.88      0.88       139\n",
      "\n"
     ]
    }
   ],
   "source": [
    "y_predicted = clf.predict(vec.transform(X_test))\n",
    "print(classification_report(y_predicted, y_test))"
   ]
  },
  {
   "cell_type": "code",
   "execution_count": 95,
   "id": "1f0c5d42-9971-49f1-8ff7-89ca0e982e2a",
   "metadata": {
    "collapsed": true,
    "jupyter": {
     "outputs_hidden": true
    },
    "tags": []
   },
   "outputs": [
    {
     "data": {
      "text/html": [
       "<div>\n",
       "<style scoped>\n",
       "    .dataframe tbody tr th:only-of-type {\n",
       "        vertical-align: middle;\n",
       "    }\n",
       "\n",
       "    .dataframe tbody tr th {\n",
       "        vertical-align: top;\n",
       "    }\n",
       "\n",
       "    .dataframe thead th {\n",
       "        text-align: right;\n",
       "    }\n",
       "</style>\n",
       "<table border=\"1\" class=\"dataframe\">\n",
       "  <thead>\n",
       "    <tr style=\"text-align: right;\">\n",
       "      <th></th>\n",
       "      <th>Models</th>\n",
       "      <th>Accuracy</th>\n",
       "      <th>f1_macro</th>\n",
       "      <th>f1_weighted</th>\n",
       "    </tr>\n",
       "  </thead>\n",
       "  <tbody>\n",
       "    <tr>\n",
       "      <th>0</th>\n",
       "      <td>OS Log Rega</td>\n",
       "      <td>0.884892</td>\n",
       "      <td>0.881142</td>\n",
       "      <td>0.889697</td>\n",
       "    </tr>\n",
       "  </tbody>\n",
       "</table>\n",
       "</div>"
      ],
      "text/plain": [
       "        Models  Accuracy  f1_macro  f1_weighted\n",
       "0  OS Log Rega  0.884892  0.881142     0.889697"
      ]
     },
     "execution_count": 95,
     "metadata": {},
     "output_type": "execute_result"
    }
   ],
   "source": [
    "lr_info = train_for_model(LogisticRegression(random_state=42), oversample_df, 'OS Log Rega')\n",
    "lr_info"
   ]
  },
  {
   "cell_type": "code",
   "execution_count": 96,
   "id": "d12e9ca5-97ea-48e0-b6ee-3aca45905104",
   "metadata": {
    "collapsed": true,
    "jupyter": {
     "outputs_hidden": true
    },
    "tags": []
   },
   "outputs": [
    {
     "data": {
      "text/html": [
       "<div>\n",
       "<style scoped>\n",
       "    .dataframe tbody tr th:only-of-type {\n",
       "        vertical-align: middle;\n",
       "    }\n",
       "\n",
       "    .dataframe tbody tr th {\n",
       "        vertical-align: top;\n",
       "    }\n",
       "\n",
       "    .dataframe thead th {\n",
       "        text-align: right;\n",
       "    }\n",
       "</style>\n",
       "<table border=\"1\" class=\"dataframe\">\n",
       "  <thead>\n",
       "    <tr style=\"text-align: right;\">\n",
       "      <th></th>\n",
       "      <th>Models</th>\n",
       "      <th>Accuracy</th>\n",
       "      <th>f1_macro</th>\n",
       "      <th>f1_weighted</th>\n",
       "    </tr>\n",
       "  </thead>\n",
       "  <tbody>\n",
       "    <tr>\n",
       "      <th>0</th>\n",
       "      <td>OS Log Rega</td>\n",
       "      <td>0.884892</td>\n",
       "      <td>0.881142</td>\n",
       "      <td>0.889697</td>\n",
       "    </tr>\n",
       "    <tr>\n",
       "      <th>0</th>\n",
       "      <td>OS Random Forest</td>\n",
       "      <td>0.892086</td>\n",
       "      <td>0.879641</td>\n",
       "      <td>0.896893</td>\n",
       "    </tr>\n",
       "  </tbody>\n",
       "</table>\n",
       "</div>"
      ],
      "text/plain": [
       "             Models  Accuracy  f1_macro  f1_weighted\n",
       "0       OS Log Rega  0.884892  0.881142     0.889697\n",
       "0  OS Random Forest  0.892086  0.879641     0.896893"
      ]
     },
     "execution_count": 96,
     "metadata": {},
     "output_type": "execute_result"
    }
   ],
   "source": [
    "rf_info = train_for_model(RandomForestClassifier(random_state=42), lr_info, 'OS Random Forest')\n",
    "rf_info"
   ]
  },
  {
   "cell_type": "code",
   "execution_count": 97,
   "id": "dad914a6-29f2-4f2d-a61e-37f605c1b604",
   "metadata": {
    "collapsed": true,
    "jupyter": {
     "outputs_hidden": true
    },
    "tags": []
   },
   "outputs": [
    {
     "data": {
      "text/html": [
       "<div>\n",
       "<style scoped>\n",
       "    .dataframe tbody tr th:only-of-type {\n",
       "        vertical-align: middle;\n",
       "    }\n",
       "\n",
       "    .dataframe tbody tr th {\n",
       "        vertical-align: top;\n",
       "    }\n",
       "\n",
       "    .dataframe thead th {\n",
       "        text-align: right;\n",
       "    }\n",
       "</style>\n",
       "<table border=\"1\" class=\"dataframe\">\n",
       "  <thead>\n",
       "    <tr style=\"text-align: right;\">\n",
       "      <th></th>\n",
       "      <th>Models</th>\n",
       "      <th>Accuracy</th>\n",
       "      <th>f1_macro</th>\n",
       "      <th>f1_weighted</th>\n",
       "    </tr>\n",
       "  </thead>\n",
       "  <tbody>\n",
       "    <tr>\n",
       "      <th>0</th>\n",
       "      <td>OS Log Rega</td>\n",
       "      <td>0.884892</td>\n",
       "      <td>0.881142</td>\n",
       "      <td>0.889697</td>\n",
       "    </tr>\n",
       "    <tr>\n",
       "      <th>0</th>\n",
       "      <td>OS Random Forest</td>\n",
       "      <td>0.892086</td>\n",
       "      <td>0.879641</td>\n",
       "      <td>0.896893</td>\n",
       "    </tr>\n",
       "    <tr>\n",
       "      <th>0</th>\n",
       "      <td>OS Decision Tree</td>\n",
       "      <td>0.892086</td>\n",
       "      <td>0.879051</td>\n",
       "      <td>0.896186</td>\n",
       "    </tr>\n",
       "  </tbody>\n",
       "</table>\n",
       "</div>"
      ],
      "text/plain": [
       "             Models  Accuracy  f1_macro  f1_weighted\n",
       "0       OS Log Rega  0.884892  0.881142     0.889697\n",
       "0  OS Random Forest  0.892086  0.879641     0.896893\n",
       "0  OS Decision Tree  0.892086  0.879051     0.896186"
      ]
     },
     "execution_count": 97,
     "metadata": {},
     "output_type": "execute_result"
    }
   ],
   "source": [
    "dt_info = train_for_model(DecisionTreeClassifier(random_state=42), rf_info, 'OS Decision Tree')\n",
    "dt_info"
   ]
  },
  {
   "cell_type": "markdown",
   "id": "bca3b8cb-29a7-4aa6-97b2-93557805efe0",
   "metadata": {},
   "source": [
    "# <a id=\"10.2\"></a>\n",
    "### <b>10.2 <span style='color:#43a842'>|</span> Finish Results</b>\n",
    "* [Оглавление](#0)"
   ]
  },
  {
   "cell_type": "code",
   "execution_count": 98,
   "id": "a5203166-c565-43d5-909c-99ae77cce1fb",
   "metadata": {},
   "outputs": [
    {
     "data": {
      "text/html": [
       "<div>\n",
       "<style scoped>\n",
       "    .dataframe tbody tr th:only-of-type {\n",
       "        vertical-align: middle;\n",
       "    }\n",
       "\n",
       "    .dataframe tbody tr th {\n",
       "        vertical-align: top;\n",
       "    }\n",
       "\n",
       "    .dataframe thead th {\n",
       "        text-align: right;\n",
       "    }\n",
       "</style>\n",
       "<table border=\"1\" class=\"dataframe\">\n",
       "  <thead>\n",
       "    <tr style=\"text-align: right;\">\n",
       "      <th></th>\n",
       "      <th>Models</th>\n",
       "      <th>Accuracy</th>\n",
       "      <th>f1_macro</th>\n",
       "      <th>f1_weighted</th>\n",
       "    </tr>\n",
       "  </thead>\n",
       "  <tbody>\n",
       "    <tr>\n",
       "      <th>0</th>\n",
       "      <td>OS Log Rega</td>\n",
       "      <td>0.884892</td>\n",
       "      <td>0.881142</td>\n",
       "      <td>0.889697</td>\n",
       "    </tr>\n",
       "    <tr>\n",
       "      <th>0</th>\n",
       "      <td>OS Random Forest</td>\n",
       "      <td>0.892086</td>\n",
       "      <td>0.879641</td>\n",
       "      <td>0.896893</td>\n",
       "    </tr>\n",
       "    <tr>\n",
       "      <th>0</th>\n",
       "      <td>OS Decision Tree</td>\n",
       "      <td>0.892086</td>\n",
       "      <td>0.879051</td>\n",
       "      <td>0.896186</td>\n",
       "    </tr>\n",
       "    <tr>\n",
       "      <th>0</th>\n",
       "      <td>OS SVC</td>\n",
       "      <td>0.892086</td>\n",
       "      <td>0.879641</td>\n",
       "      <td>0.896893</td>\n",
       "    </tr>\n",
       "  </tbody>\n",
       "</table>\n",
       "</div>"
      ],
      "text/plain": [
       "             Models  Accuracy  f1_macro  f1_weighted\n",
       "0       OS Log Rega  0.884892  0.881142     0.889697\n",
       "0  OS Random Forest  0.892086  0.879641     0.896893\n",
       "0  OS Decision Tree  0.892086  0.879051     0.896186\n",
       "0            OS SVC  0.892086  0.879641     0.896893"
      ]
     },
     "execution_count": 98,
     "metadata": {},
     "output_type": "execute_result"
    }
   ],
   "source": [
    "all_info = train_for_model(SVC(random_state=42), dt_info, 'OS SVC')\n",
    "all_info"
   ]
  },
  {
   "cell_type": "markdown",
   "id": "381f16e2-51f6-4570-be56-7057c18ad4be",
   "metadata": {},
   "source": [
    "<a id=\"11\"></a>\n",
    "## <b>11 <span style='color:#43a842'>|</span> Final GridSearch</b>\n",
    "* [Оглавление](#0)"
   ]
  },
  {
   "cell_type": "code",
   "execution_count": 99,
   "id": "e36e282d-b6c5-4fe9-96b4-c26ccc0cf948",
   "metadata": {},
   "outputs": [],
   "source": [
    "params = {\"C\": [0.01, 0.1, 1, 10, 100, 1000], \n",
    "      \"penalty\": ['l1', 'l2', 'elasticnet'],\n",
    "      \"solver\": ['lbfgs', 'liblinear', 'newton-cg', 'newton-cholesky', 'sag', 'saga']}"
   ]
  },
  {
   "cell_type": "code",
   "execution_count": 100,
   "id": "6d8dedfe-2f47-4b60-b841-f4abda2794be",
   "metadata": {},
   "outputs": [
    {
     "name": "stdout",
     "output_type": "stream",
     "text": [
      "CPU times: user 19.3 s, sys: 68.1 ms, total: 19.4 s\n",
      "Wall time: 19.4 s\n"
     ]
    }
   ],
   "source": [
    "%%time\n",
    "search = GridSearchCV(clf, params, cv=10).fit(bow, y_train_2)"
   ]
  },
  {
   "cell_type": "code",
   "execution_count": 101,
   "id": "458976c1-16f6-49ff-bcc0-e379b0b1f5ba",
   "metadata": {},
   "outputs": [],
   "source": [
    "best_lr = search.best_estimator_"
   ]
  },
  {
   "cell_type": "code",
   "execution_count": 102,
   "id": "6d838899-e7c0-4fa4-b8c3-ae5b56bce951",
   "metadata": {},
   "outputs": [
    {
     "data": {
      "text/html": [
       "<div>\n",
       "<style scoped>\n",
       "    .dataframe tbody tr th:only-of-type {\n",
       "        vertical-align: middle;\n",
       "    }\n",
       "\n",
       "    .dataframe tbody tr th {\n",
       "        vertical-align: top;\n",
       "    }\n",
       "\n",
       "    .dataframe thead th {\n",
       "        text-align: right;\n",
       "    }\n",
       "</style>\n",
       "<table border=\"1\" class=\"dataframe\">\n",
       "  <thead>\n",
       "    <tr style=\"text-align: right;\">\n",
       "      <th></th>\n",
       "      <th>Models</th>\n",
       "      <th>Accuracy</th>\n",
       "      <th>f1_macro</th>\n",
       "      <th>f1_weighted</th>\n",
       "    </tr>\n",
       "  </thead>\n",
       "  <tbody>\n",
       "    <tr>\n",
       "      <th>0</th>\n",
       "      <td>Remastered LR</td>\n",
       "      <td>0.884892</td>\n",
       "      <td>0.881142</td>\n",
       "      <td>0.889697</td>\n",
       "    </tr>\n",
       "  </tbody>\n",
       "</table>\n",
       "</div>"
      ],
      "text/plain": [
       "          Models  Accuracy  f1_macro  f1_weighted\n",
       "0  Remastered LR  0.884892  0.881142     0.889697"
      ]
     },
     "execution_count": 102,
     "metadata": {},
     "output_type": "execute_result"
    }
   ],
   "source": [
    "get_metrics(best_lr, 'Remastered LR')"
   ]
  },
  {
   "cell_type": "markdown",
   "id": "19436bd1-f73b-4b75-aa3f-5fb9847c6b1b",
   "metadata": {},
   "source": [
    "<a id=\"12\"></a>\n",
    "## <b>12 <span style='color:#43a842'>|</span> Сonclusion</b>\n",
    "* [Оглавление](#0)"
   ]
  },
  {
   "cell_type": "markdown",
   "id": "07c8245a-840d-4eed-aba6-5f700d241fc2",
   "metadata": {},
   "source": [
    "Из-за недостаточного количества данных в задаче, любой перекос в сторону одного из классов оказывался критическим. \n",
    "Для преодоления этой проблемы было принято решение максимально расширить все классы путем добавления n_i chunks по таргету, \n",
    "где n_i = int((shape[0] самого большого класса) / (shape[0] i-го класса)). После обучения модели на такой выборке был получен довольно неплохой результат на изначальной тестовой выборке, которая была несбалансированной. Были изучены различные методы борьбы с недостатком данных и дисбалансом классов, и была подобрана оптимальная модель для решения задачи многоклассовой классификации с помощью логистической регрессии"
   ]
  },
  {
   "cell_type": "code",
   "execution_count": null,
   "id": "41538d08-18af-4441-873d-1d3537c257bf",
   "metadata": {},
   "outputs": [],
   "source": []
  }
 ],
 "metadata": {
  "kernelspec": {
   "display_name": "Python 3 (ipykernel)",
   "language": "python",
   "name": "python3"
  },
  "language_info": {
   "codemirror_mode": {
    "name": "ipython",
    "version": 3
   },
   "file_extension": ".py",
   "mimetype": "text/x-python",
   "name": "python",
   "nbconvert_exporter": "python",
   "pygments_lexer": "ipython3",
   "version": "3.9.13"
  }
 },
 "nbformat": 4,
 "nbformat_minor": 5
}
